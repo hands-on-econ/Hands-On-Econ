{
 "cells": [
  {
   "cell_type": "markdown",
   "metadata": {},
   "source": [
    "# Data\n",
    "\n",
    "In our first 'real' week of the course we provide an introduction to data, structured as follows:\n",
    "\n",
    "- <a href='#Data in Economics'>Data in Economics</a>  \n",
    "- <a href='#Sources of Data'>Sources of Data</a>\n",
    "- <a href='#Finding Data'>Finding Data</a>\n",
    "- <a href='#Formats of Data'>Formats of Data</a>\n",
    "- <a href='#Creating Data'>Creating Data</a>\n",
    "- <a href='#Using Data'>Using Data</a>\n",
    "\n",
    "\n",
    "This notebook serves as guide to the data we will learn to analyse with Python and R. \n",
    "\n",
    "\n"
   ]
  },
  {
   "cell_type": "markdown",
   "metadata": {},
   "source": [
    "### Data in Economics <a id='Data in Economics'></a>"
   ]
  },
  {
   "cell_type": "markdown",
   "metadata": {},
   "source": [
    "It should be apparent by this point in your studies that data is essential to economics. Rather than give a pointless list of all the areas of economics which use data it's probably more helpful to think of examples which don't. Among these could be things like the Prisoner's dilemma game, or the Bertrand model of competition. Obviously many people would certainly still argue these examples use data in some way, or took data to create but the key point we need to note is that economics can be more or less split into two 'domains': **theory and empirical work**. It might be something of a surprise that micro and macro isn't the split, or academic and private-sector. These are valid splits too but for this course it's more helpful if we consider the theory/empirics split. \n",
    "\n",
    "Theoretical economics comprises all the models which economics use to help them understand the world. No serious economists actually 'believe' their models, they simply use them as frameworks to conceptualise a very specific part of the world. Theory is awesome and essential for all economists but what we're concerned with in this course is empirics. Empirical work in economics is essentially application of theory, or trying to use evidence to test the predictions theories make about the world. This is the kind of economics we're going to learn tools to do in this course.\n",
    "\n",
    "So what kind of data do empirical economists use in their research? **All sorts of stuff!** Of course all the usual things like prices, interest rates and market values are used with expected regularity but there are plenty of types of data which might not typically be associated with economics despite them being used fairly regularly too. For example a labour economist might want to make sure they're controlling for how busy a neighbourhood is, so they could use traffic data in a regression. A development economist might want to make sure they're comparing potential crop outputs across similar regions, so they might use soil fertility data or geological data. Economics is even starting to see things like text and images used as data, for example to assess central bankers' speeches or the effectiveness of advertising! What do economists do with this data? Regression is the most obvious answer, but also things like modelling and forecasting. We can break down the most common types of data into a few categories, which we'll do below.\n"
   ]
  },
  {
   "cell_type": "markdown",
   "metadata": {},
   "source": [
    "### Sources of Data <a id='Sources of Data'></a>"
   ]
  },
  {
   "cell_type": "markdown",
   "metadata": {},
   "source": [
    "The kinds of data which interest economists can be grouped in many different ways but one particularly useful way is to group them by source. Hopefully you've heard of cross-sectional and panel-data by now but what may not be clear is what exactly are generating these cross-sections and panels. There are a few key things:\n",
    "\n",
    "The first main source of data is **survey data**. This is pretty self-explanatory and involves units of observation (people, firms etc) answering questions posed to them by researchers. Some students are quick to dismiss surveys as not 'hard' enough evidence, and commonly associate them with subjective questions. This isn't at all the case! Surveys can be used to come with predictions of inflation by polling leading economists for example, or to analyse bussiness sentiment by polling business leaders. Surveys also give us data on 'expectations' which are an essential part of economics. They're not without their flaws but surveys are an extremely important form of data. \n",
    "\n",
    "The second main source is **national accounts data**. This comprises (often government) estimates of indicators like GDP, inflation and other mostly macro data. It is the kind of data most people associate with economics and is essential to lots of applied work. One important characteristic of national accounts data is its 'level of aggregation', or the level of observation for which we can get information. For example a dataset which shows us GDP for each year in England is more aggregated (and probably less useful) than a dataset which shows us GDP for each month in England, and this is more aggregated (and again probably less useful) than a dataset which shows us GDP for each county in England for each month. In general economists want as disaggregated data as they can get because they can always combine observations and aggregate back up themselves if they want to. The most disaggregated or 'granular' data is called 'microdata' and is usually reserved for professional researchers.\n",
    "\n",
    "The third main source of data is **company data**. Publicly-listed companies are required by law to release reports to the public on a regular basis, the specifics of which vary across jurisdictions. As a result there are many third-party companies which provide databases containing readily formatted repositories of all the data these companies have released over a period of time, usually many decades. In addition to this market data is also widely available. This includes variables like a listed company's share price, P/E ratio and other statistics of interest. \n",
    "\n",
    "The fourth main kind is sort of everything else. Examples of other key sources of data could be data from experiments which economists conducted themselves or data from legal cases which had been processed into a dataset. Other sources could be variations on the above categories, like local government data or business industry group data. In addition to this we've already covered some of the 'alternative' types of data like geological data but there really isn't much of a limit to what could potentially be useful. That's for the economist to decide!\n"
   ]
  },
  {
   "cell_type": "markdown",
   "metadata": {},
   "source": [
    "### Finding Data <a id='Finding Data'></a>"
   ]
  },
  {
   "cell_type": "markdown",
   "metadata": {},
   "source": [
    "So now that we've got a sense of why data is useful and what processes usually generate it the natural next step is to figure out where to go looking for it. Sticking with our previous classification we'll do a brief tour of the most useful places to look for data.\n",
    "\n",
    "Survey data is probably the hardest kind to access. Good quality survey datasets can often be restricted due to privacy concerns or simply to the organisation's internal researchers. In the UK the best source is the UK Data Service https://www.ukdataservice.ac.uk:\n",
    "\n"
   ]
  },
  {
   "cell_type": "markdown",
   "metadata": {},
   "source": [
    "![Alt text](https://github.com/hands-on-econ/Hands-On-Econ/raw/master/Screenshots/c.png \"Optional title\")"
   ]
  },
  {
   "cell_type": "markdown",
   "metadata": {},
   "source": [
    "Surveys can be accessed in a number of ways but the 'Key data' section is a good place to start."
   ]
  },
  {
   "cell_type": "markdown",
   "metadata": {},
   "source": [
    "![Alt text](https://github.com/hands-on-econ/Hands-On-Econ/raw/master/Screenshots/b.png \"Optional title\")"
   ]
  },
  {
   "cell_type": "markdown",
   "metadata": {},
   "source": [
    "From here you'll be presented with a range of different surveys which may be of interest. To download you'll need to login via LSE, add the data to your basket and then go through a few adminstrative details before you'll be allowed to download any of the files. After this it should be as simple as clicking the download button! Some datasets are restricted access however, so these won't be available without explicit permission and training."
   ]
  },
  {
   "cell_type": "markdown",
   "metadata": {},
   "source": [
    "![Alt text](https://github.com/hands-on-econ/Hands-On-Econ/raw/master/Screenshots/a.png \"Optional title\")"
   ]
  },
  {
   "cell_type": "markdown",
   "metadata": {},
   "source": [
    "To find national accounts data there are a range of options. At the national level the Office for National Statistics https://www.ons.gov.uk is available for the UK:"
   ]
  },
  {
   "cell_type": "markdown",
   "metadata": {},
   "source": [
    "![Alt text](https://github.com/hands-on-econ/Hands-On-Econ/raw/master/Screenshots/g.png \"Optional title\")"
   ]
  },
  {
   "cell_type": "markdown",
   "metadata": {},
   "source": [
    "![Alt text](https://github.com/hands-on-econ/Hands-On-Econ/raw/master/Screenshots/f.png \"Optional title\")"
   ]
  },
  {
   "cell_type": "markdown",
   "metadata": {},
   "source": [
    "The Bureau of Economic Analysis https://www.bea.gov is available for the US:"
   ]
  },
  {
   "cell_type": "markdown",
   "metadata": {},
   "source": [
    "![Alt text](https://github.com/hands-on-econ/Hands-On-Econ/raw/master/Screenshots/e.png \"Optional title\")"
   ]
  },
  {
   "cell_type": "markdown",
   "metadata": {},
   "source": [
    "![Alt text](https://github.com/hands-on-econ/Hands-On-Econ/raw/master/Screenshots/d.png \"Optional title\")"
   ]
  },
  {
   "cell_type": "markdown",
   "metadata": {},
   "source": [
    "At the supra-national level Eurostat https://ec.europa.eu/eurostat/home is helpful for EU-data:"
   ]
  },
  {
   "cell_type": "markdown",
   "metadata": {},
   "source": [
    "![Alt text](https://github.com/hands-on-econ/Hands-On-Econ/raw/master/Screenshots/h.png \"Optional title\")"
   ]
  },
  {
   "cell_type": "markdown",
   "metadata": {},
   "source": [
    "![Alt text](https://github.com/hands-on-econ/Hands-On-Econ/raw/master/Screenshots/i.png \"Optional title\")"
   ]
  },
  {
   "cell_type": "markdown",
   "metadata": {},
   "source": [
    "![Alt text](https://github.com/hands-on-econ/Hands-On-Econ/raw/master/Screenshots/j.png \"Optional title\")"
   ]
  },
  {
   "cell_type": "markdown",
   "metadata": {},
   "source": [
    "And UN Data http://data.un.org is useful for global datasets (just scroll under the orange heading):"
   ]
  },
  {
   "cell_type": "markdown",
   "metadata": {},
   "source": [
    "![Alt text](https://github.com/hands-on-econ/Hands-On-Econ/raw/master/Screenshots/k.png \"Optional title\")"
   ]
  },
  {
   "cell_type": "markdown",
   "metadata": {},
   "source": [
    "Company data is best accessed through Compustat or Orbis, though these are both available only via LSE subscription through the library. For raw company data Companies House https://beta.companieshouse.gov.uk has all UK records:\n"
   ]
  },
  {
   "cell_type": "markdown",
   "metadata": {},
   "source": [
    "![Alt text](https://github.com/hands-on-econ/Hands-On-Econ/raw/master/Screenshots/l.png \"Optional title\")\n"
   ]
  },
  {
   "cell_type": "markdown",
   "metadata": {},
   "source": [
    "![Alt text](https://github.com/hands-on-econ/Hands-On-Econ/raw/master/Screenshots/m.png \"Optional title\")"
   ]
  },
  {
   "cell_type": "markdown",
   "metadata": {},
   "source": [
    "And the SEC https://www.sec.gov/edgar/searchedgar/companysearch.html has the same for the US:"
   ]
  },
  {
   "cell_type": "markdown",
   "metadata": {},
   "source": [
    "![Alt text](https://github.com/hands-on-econ/Hands-On-Econ/raw/master/Screenshots/n.png \"Optional title\")"
   ]
  },
  {
   "cell_type": "markdown",
   "metadata": {},
   "source": [
    "![Alt text](https://github.com/hands-on-econ/Hands-On-Econ/raw/master/Screenshots/o.png \"Optional title\")"
   ]
  },
  {
   "cell_type": "markdown",
   "metadata": {},
   "source": [
    "As for other kinds of data the American Economic Association has a very useful list of other sites to check out at: https://www.aeaweb.org/rfe/showCat.php?cat_id=2. Moreover the Harvard Dataverse releases datasets by previous researchers at https://dataverse.harvard.edu. "
   ]
  },
  {
   "cell_type": "markdown",
   "metadata": {},
   "source": [
    "### Formats of Data <a id='Formats of Data'></a>"
   ]
  },
  {
   "cell_type": "markdown",
   "metadata": {},
   "source": [
    "Hopefully you've had a look through some of the above sources and found some data which interests you. Chances are it was downloaded in one of the following formats:\n",
    "\n",
    "- **.dta** is STATA's file extension and is used for datasets formatted for STATA (obviously). \n",
    "- **.csv** stands for comma-separated variables and can be opened in Excel but also easily with TextEdit when Excel can't handle the file size (usually over 20MB). They are the most useful file type for us because they store data in a way programming languages can easily understand (rows are rows, commas are columns).\n",
    "- **.xlsx** and **.xls** files are Excel files made up of 'sheets' or collections of csv's. They are harder to use with non-Excel software (including Python and R) so .csv is best sought where possible.\n",
    "- **.pdf** this is an obvious one but it's important to note that pdf's can be transformed into csv's if need be. Adobe Acrobat is the most useful software to do this. \n",
    "\n",
    "The key reason to be aware of what type of data you're downloading is that each type has different implications for using the dataset with Python and R. All data we are interested in (inculding things like pictures and words) need to be able to be stored in what is essentially a spreadsheet so that they can be read by our programming languages. \n",
    "\n",
    "Essentially any format of data which is made up of rows and separated by some variable is a valid format of data for us to use in Python or R. For example:\n",
    "\n",
    "---\n",
    "\n",
    "Observation Number, Height, Weight  \n",
    "1,168,56  \n",
    "2,188,103  \n",
    "3,177,74  \n",
    "4,162,63  \n",
    "\n",
    "---\n",
    "\n",
    "Is a perfectly valid dataset, which could be stored as:\n",
    "\n",
    "|  Observation Number |   Height|  Weight |   |   |\n",
    "|---|---|---|---|---|\n",
    "|  1 |  168 |  56 |   |   |\n",
    "|  2 |  188 |  103 |   |   |\n",
    "|  3 |  177 |  74 |   |   |\n",
    "\n",
    "\n"
   ]
  },
  {
   "cell_type": "markdown",
   "metadata": {},
   "source": [
    "### Creating Data <a id='Creating Data'></a>"
   ]
  },
  {
   "cell_type": "markdown",
   "metadata": {},
   "source": [
    "There are obviously a number of ways to 'create' data, like running your own experiments or surveys. What is more interesting to us is to use programming languages (like Python) to 'create' our own datasets from information available on the internet. For example we can 'create' a dataset of price of every different type of milk sold by online grocers simply by writing a program to visit each website, find all the kinds of milk they sell, record the name and price of each kind of milk and then check back every day to see whether that price has changed. \n",
    "\n",
    "The kinds of programs which will let us do this eventually are called 'web scrapers' or 'web crawlers' and are extremely useful despite being relatively straightforward to build. "
   ]
  },
  {
   "cell_type": "markdown",
   "metadata": {},
   "source": [
    "### Using Data <a id='Using Data'></a>"
   ]
  },
  {
   "cell_type": "markdown",
   "metadata": {},
   "source": [
    "Why have we gone through all this? Mostly because by learning to use Python and R to manage our data we can easily work with datasets which would still have crashed Excel if they were 10x smaller! STATA will still let us do all we want with huge datasets but by being comfortable using Python and R we can get a sense of how much more we can do than just regression. "
   ]
  }
 ],
 "metadata": {
  "kernelspec": {
   "display_name": "R",
   "language": "R",
   "name": "ir"
  },
  "language_info": {
   "codemirror_mode": "r",
   "file_extension": ".r",
   "mimetype": "text/x-r-source",
   "name": "R",
   "pygments_lexer": "r",
   "version": "3.6.1"
  }
 },
 "nbformat": 4,
 "nbformat_minor": 2
}
