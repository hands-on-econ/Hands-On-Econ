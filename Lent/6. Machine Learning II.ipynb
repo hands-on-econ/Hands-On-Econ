{
 "cells": [
  {
   "cell_type": "markdown",
   "metadata": {},
   "source": [
    "# Machine Learning II\n",
    "\n",
    "And so we reach the beginning of the end! Well done on getting as far as you have, it may feel like October is far away now but we really have covered a LOT of ground. Remember when loading a dataset into R felt like a huge achievement? Now you can create your own AI! It's not very good AI but still, credit where credit is due. As promised we dedicate our final notebook to applying machine learning to text-based problems. The notebook is structured as follows:\n",
    "\n",
    "- <a href='#Natural Language Processing'>Natural Language Processing</a>  \n",
    "-   <a href='#Ordinary Least Squares'>Ordinary Least Squares</a>\n",
    "-   <a href='#Regression Coefficients'>Regression Coefficients</a>\n",
    "-  <a href='#Significance of Coefficients'>Significance of Coefficients</a>\n",
    "- <a href='#$R^2 and Adjusted-R^2'>R^2 and Adjusted-R^2</a>\n",
    "-  <a href='#Hypothesis Testing'>Hypothesis Testing</a>\n",
    "-  <a href='#Multivariate Regression'>Multivariate Regression</a>\n",
    "-  <a href='#F-tests'>F-tests</a>\n",
    "- <a href='#Interactions'>Interactions</a>\n",
    "- <a href='#The Gauss Markov Theorem'>The Gauss Markov Theorem</a>\n",
    "\n",
    "\n"
   ]
  },
  {
   "cell_type": "markdown",
   "metadata": {},
   "source": [
    "### The Bivariate Regression <a id='The Bivariate Regression'></a>"
   ]
  },
  {
   "cell_type": "markdown",
   "metadata": {},
   "source": []
  },
  {
   "cell_type": "markdown",
   "metadata": {},
   "source": []
  },
  {
   "cell_type": "markdown",
   "metadata": {},
   "source": [
    " ### Ordinary Least Squares<a id='Ordinary Least Squares'></a>\n",
    "\n"
   ]
  },
  {
   "cell_type": "markdown",
   "metadata": {},
   "source": []
  },
  {
   "cell_type": "markdown",
   "metadata": {},
   "source": []
  },
  {
   "cell_type": "markdown",
   "metadata": {},
   "source": [
    "   ### Regression Coefficients <a id='Regression Coefficients'></a>\n",
    "\n",
    "\n"
   ]
  },
  {
   "cell_type": "markdown",
   "metadata": {},
   "source": []
  },
  {
   "cell_type": "markdown",
   "metadata": {},
   "source": []
  },
  {
   "cell_type": "markdown",
   "metadata": {},
   "source": [
    "  ### Significance of Coefficients<a id='Significance of Coefficients'></a>\n",
    "\n",
    "\n"
   ]
  },
  {
   "cell_type": "markdown",
   "metadata": {},
   "source": []
  },
  {
   "cell_type": "markdown",
   "metadata": {},
   "source": []
  },
  {
   "cell_type": "markdown",
   "metadata": {},
   "source": [
    "### $R^2$ and Adjusted-$R^2$<a id='R^2 and Adjusted-R^2'></a>\n",
    "\n",
    "\n"
   ]
  },
  {
   "cell_type": "markdown",
   "metadata": {},
   "source": []
  },
  {
   "cell_type": "markdown",
   "metadata": {},
   "source": []
  },
  {
   "cell_type": "markdown",
   "metadata": {},
   "source": [
    " ### Hypothesis Testing<a id='Hypothesis Testing'></a>\n",
    "\n",
    "\n"
   ]
  },
  {
   "cell_type": "markdown",
   "metadata": {},
   "source": []
  },
  {
   "cell_type": "markdown",
   "metadata": {},
   "source": []
  },
  {
   "cell_type": "markdown",
   "metadata": {},
   "source": [
    " ### Multivariate Regression <a id='Multivariate Regression'></a>\n",
    "\n",
    "\n"
   ]
  },
  {
   "cell_type": "markdown",
   "metadata": {},
   "source": []
  },
  {
   "cell_type": "markdown",
   "metadata": {},
   "source": []
  },
  {
   "cell_type": "markdown",
   "metadata": {},
   "source": [
    " ### F-tests <a id='F-tests'></a>\n",
    "\n",
    "\n"
   ]
  },
  {
   "cell_type": "markdown",
   "metadata": {},
   "source": []
  },
  {
   "cell_type": "markdown",
   "metadata": {},
   "source": []
  },
  {
   "cell_type": "markdown",
   "metadata": {},
   "source": [
    "  ### Interactions<a id='Interactions'></a>\n",
    "\n",
    "\n"
   ]
  },
  {
   "cell_type": "markdown",
   "metadata": {},
   "source": []
  },
  {
   "cell_type": "markdown",
   "metadata": {},
   "source": []
  },
  {
   "cell_type": "markdown",
   "metadata": {},
   "source": [
    "  ### The Gauss Markov Theorem <a id='The Gauss Markov Theorem'></a>"
   ]
  },
  {
   "cell_type": "markdown",
   "metadata": {},
   "source": []
  },
  {
   "cell_type": "markdown",
   "metadata": {},
   "source": []
  },
  {
   "cell_type": "markdown",
   "metadata": {},
   "source": []
  }
 ],
 "metadata": {
  "kernelspec": {
   "display_name": "Python 3",
   "language": "python",
   "name": "python3"
  },
  "language_info": {
   "codemirror_mode": {
    "name": "ipython",
    "version": 3
   },
   "file_extension": ".py",
   "mimetype": "text/x-python",
   "name": "python",
   "nbconvert_exporter": "python",
   "pygments_lexer": "ipython3",
   "version": "3.7.3"
  }
 },
 "nbformat": 4,
 "nbformat_minor": 2
}
