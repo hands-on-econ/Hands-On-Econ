{
 "cells": [
  {
   "cell_type": "markdown",
   "metadata": {},
   "source": [
    "# New stuff\n",
    "\n",
    "This notebook provides a brief overview of following introductory topics in econometrics. It aims to introduce the Linear Regression model:\n",
    "\n",
    "- <a href='#The Bivariate Regression'>The Bivariate Regression</a>  <a id='The Bivariate Regression'></a>\n",
    "-   <a href='#Ordinary Least Squares'>Ordinary Least Squares</a>\n",
    "-   <a href='#Regression Coefficients'>Regression Coefficients</a>\n",
    "-  <a href='#Significance of Coefficients'>Significance of Coefficients</a>\n",
    "- <a href='#$R^2 and Adjusted-R^2'>R^2 and Adjusted-R^2</a>\n",
    "-  <a href='#Hypothesis Testing'>Hypothesis Testing</a>\n",
    "-  <a href='#Multivariate Regression'>Multivariate Regression</a>\n",
    "-  <a href='#F-tests'>F-tests</a>\n",
    "- <a href='#Interactions'>Interactions</a>\n",
    "- <a href='#The Gauss Markov Theorem'>The Gauss Markov Theorem</a>\n",
    "\n",
    "\n",
    "---\n",
    "\n",
    "- Introduce while loops\n",
    "- Introduce functions\n",
    "- Introduce numpy, pandas, matplotlib, scipy \n",
    "- Introduce OOP\n",
    "\n"
   ]
  },
  {
   "cell_type": "code",
   "execution_count": null,
   "metadata": {},
   "outputs": [],
   "source": []
  }
 ],
 "metadata": {
  "kernelspec": {
   "display_name": "Python 3",
   "language": "python",
   "name": "python3"
  },
  "language_info": {
   "codemirror_mode": {
    "name": "ipython",
    "version": 3
   },
   "file_extension": ".py",
   "mimetype": "text/x-python",
   "name": "python",
   "nbconvert_exporter": "python",
   "pygments_lexer": "ipython3",
   "version": "3.7.3"
  }
 },
 "nbformat": 4,
 "nbformat_minor": 2
}
