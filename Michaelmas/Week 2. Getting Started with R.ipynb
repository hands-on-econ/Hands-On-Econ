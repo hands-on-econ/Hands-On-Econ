{
 "cells": [
  {
   "cell_type": "markdown",
   "metadata": {},
   "source": [
    "# Getting Started with R\n",
    "\n",
    "In our first 'real' week of the course we provide an introduction to R, structured as follows:\n",
    "\n",
    "- <a href='#What is R'>What is R</a>  \n",
    "-   <a href='#Why R?'>Why R?</a>\n",
    "-  <a href='#Downloading and installing R'>Downloading and installing R</a>\n",
    "-   <a href='#Setting up your environment'>Setting up your environment</a>\n",
    "-   <a href='#Elementary Commands'>Elementary Commands</a>\n",
    "- <a href='#Object assignment'>Object assignment</a>\n",
    "-  <a href='#Data types'>Data types</a>\n",
    "- <a href='#Data structures'>Data structures</a>\n",
    "-  <a href='#Loops'>Loops</a>\n",
    "-  <a href='#Importing files'>Importing files</a>\n",
    "-  <a href='#Importing packages'>Importing packages</a>\n",
    "- <a href='#Graphing and visualisation'>Graphing and visualisation</a>\n",
    "\n"
   ]
  },
  {
   "cell_type": "markdown",
   "metadata": {},
   "source": [
    "\n",
    "### What is R <a id='What is R'></a>\n",
    "\n",
    "R is a programming language created by **R**obert Gentleman and **R**oss Ihaka (get it? R?) at the Department of Statistics at the University of Auckland in New Zealand in 1995. R  is a statistical language in that it was designed with statistical applications in mind, and as a result it has myriad in-built statistical features which make statistical analysis easy to use and intuitive (next term you will see Python is even better). It is freely available and is also the most popular statistical language in the world."
   ]
  },
  {
   "cell_type": "markdown",
   "metadata": {},
   "source": [
    " ### Why R<a id='Why R'></a>\n",
    "\n"
   ]
  },
  {
   "cell_type": "markdown",
   "metadata": {},
   "source": [
    "It's an important question! It would have probably been pretty easy to just offer this course entirely in Python, a reasonable choice considering Python is also free, even more intuitive than R and currently world's 3rd most popular programming language (R is 20th). R's huge advantage for applications like hypothesis testing, plotting statistical distributions, regression, matrix algebra and many other mathematical tasks is that it is **purpose-built** to deal with them. As we will soon see R's in-built functions mean that as soon as you load your environment (well get to what an environment is soon, don't worry), R is ready to go for statistical analysis. In Python by contrast we have to download and install several extra packages for us to be able to do statistics, and once we do the commands (code we need to write) to conduct them are longer as we have to call these packages every time we want to use them.\n",
    "\n",
    "As for other statistical languages like SAS, SPSS and STATA - **R is free**! Of course being at LSE means we get access to lots of paid software and most workplaces also do too, however the best thing about R being free is that while the paid packages you have access to at any point in your working or academic lives are liable to change R will always be an option! That's not to disincentivise you from learning STATA or any other paid language, it's just that R is a pretty natural choice for the statistical language used in an open-source course about using code to do statistics, maths, economics and metrics."
   ]
  },
  {
   "cell_type": "markdown",
   "metadata": {},
   "source": [
    "   ### Downloading and installing R <a id='Downloading and installing R'></a>\n",
    "\n"
   ]
  },
  {
   "cell_type": "markdown",
   "metadata": {},
   "source": [
    "R is available for download at The R Project's website: https://www.r-project.org. It must downloaded through 'mirrors' or sites hosted by a range of universities. The mirror you choose doesn't matter, each will download the same version of R. Once you download the relevant version for your operating system you'll be prompted to install it as you'd install any other package to your computer. \n",
    "\n",
    "Once you've installed R open the terminal application (pre-installed as Terminal on Mac, Ubuntu on Linux (Dell laptops) and cmd.exe for Windows) and type the letter 'r' to check that R has installed correctly. If it has then you should see a short preamble about the version of R you're using and then the command prompt '>', which is where you can type your first command:"
   ]
  },
  {
   "cell_type": "code",
   "execution_count": 1,
   "metadata": {},
   "outputs": [
    {
     "name": "stdout",
     "output_type": "stream",
     "text": [
      "[1] \"Hello World\"\n"
     ]
    }
   ],
   "source": [
    "print('Hello World')"
   ]
  },
  {
   "cell_type": "markdown",
   "metadata": {},
   "source": [
    "It's a bit of a cheesy first command but it's essentially a computer science rite of passage that that's the first one you ever write. Another good starting command to try is:"
   ]
  },
  {
   "cell_type": "code",
   "execution_count": 2,
   "metadata": {},
   "outputs": [
    {
     "data": {
      "text/html": [
       "2"
      ],
      "text/latex": [
       "2"
      ],
      "text/markdown": [
       "2"
      ],
      "text/plain": [
       "[1] 2"
      ]
     },
     "metadata": {},
     "output_type": "display_data"
    }
   ],
   "source": [
    "1+1"
   ]
  },
  {
   "cell_type": "markdown",
   "metadata": {},
   "source": [
    "If you want to try a 'cool' one then try: "
   ]
  },
  {
   "cell_type": "code",
   "execution_count": 3,
   "metadata": {},
   "outputs": [
    {
     "name": "stdout",
     "output_type": "stream",
     "text": [
      "[1] 1\n",
      "[1] 2\n",
      "[1] 3\n",
      "[1] 4\n",
      "[1] 5\n",
      "[1] 6\n",
      "[1] 7\n",
      "[1] 8\n",
      "[1] 9\n",
      "[1] 10\n",
      "[1] 11\n",
      "[1] 12\n",
      "[1] 13\n",
      "[1] 14\n",
      "[1] 15\n",
      "[1] 16\n",
      "[1] 17\n",
      "[1] 18\n",
      "[1] 19\n",
      "[1] 20\n",
      "[1] 21\n",
      "[1] 22\n",
      "[1] 23\n",
      "[1] 24\n",
      "[1] 25\n",
      "[1] 26\n",
      "[1] 27\n",
      "[1] 28\n",
      "[1] 29\n",
      "[1] 30\n",
      "[1] 31\n",
      "[1] 32\n",
      "[1] 33\n",
      "[1] 34\n",
      "[1] 35\n",
      "[1] 36\n",
      "[1] 37\n",
      "[1] 38\n",
      "[1] 39\n",
      "[1] 40\n",
      "[1] 41\n",
      "[1] 42\n",
      "[1] 43\n",
      "[1] 44\n",
      "[1] 45\n",
      "[1] 46\n",
      "[1] 47\n",
      "[1] 48\n",
      "[1] 49\n",
      "[1] 50\n",
      "[1] 51\n",
      "[1] 52\n",
      "[1] 53\n",
      "[1] 54\n",
      "[1] 55\n",
      "[1] 56\n",
      "[1] 57\n",
      "[1] 58\n",
      "[1] 59\n",
      "[1] 60\n",
      "[1] 61\n",
      "[1] 62\n",
      "[1] 63\n",
      "[1] 64\n",
      "[1] 65\n",
      "[1] 66\n",
      "[1] 67\n",
      "[1] 68\n",
      "[1] 69\n",
      "[1] 70\n",
      "[1] 71\n",
      "[1] 72\n",
      "[1] 73\n",
      "[1] 74\n",
      "[1] 75\n",
      "[1] 76\n",
      "[1] 77\n",
      "[1] 78\n",
      "[1] 79\n",
      "[1] 80\n",
      "[1] 81\n",
      "[1] 82\n",
      "[1] 83\n",
      "[1] 84\n",
      "[1] 85\n",
      "[1] 86\n",
      "[1] 87\n",
      "[1] 88\n",
      "[1] 89\n",
      "[1] 90\n",
      "[1] 91\n",
      "[1] 92\n",
      "[1] 93\n",
      "[1] 94\n",
      "[1] 95\n",
      "[1] 96\n",
      "[1] 97\n",
      "[1] 98\n",
      "[1] 99\n",
      "[1] 100\n",
      "[1] 101\n",
      "[1] 102\n",
      "[1] 103\n",
      "[1] 104\n",
      "[1] 105\n",
      "[1] 106\n",
      "[1] 107\n",
      "[1] 108\n",
      "[1] 109\n",
      "[1] 110\n",
      "[1] 111\n",
      "[1] 112\n",
      "[1] 113\n",
      "[1] 114\n",
      "[1] 115\n",
      "[1] 116\n",
      "[1] 117\n",
      "[1] 118\n",
      "[1] 119\n",
      "[1] 120\n",
      "[1] 121\n",
      "[1] 122\n",
      "[1] 123\n",
      "[1] 124\n",
      "[1] 125\n",
      "[1] 126\n",
      "[1] 127\n",
      "[1] 128\n",
      "[1] 129\n",
      "[1] 130\n",
      "[1] 131\n",
      "[1] 132\n",
      "[1] 133\n",
      "[1] 134\n",
      "[1] 135\n",
      "[1] 136\n",
      "[1] 137\n",
      "[1] 138\n",
      "[1] 139\n",
      "[1] 140\n",
      "[1] 141\n",
      "[1] 142\n",
      "[1] 143\n",
      "[1] 144\n",
      "[1] 145\n",
      "[1] 146\n",
      "[1] 147\n",
      "[1] 148\n",
      "[1] 149\n",
      "[1] 150\n",
      "[1] 151\n",
      "[1] 152\n",
      "[1] 153\n",
      "[1] 154\n",
      "[1] 155\n",
      "[1] 156\n",
      "[1] 157\n",
      "[1] 158\n",
      "[1] 159\n",
      "[1] 160\n",
      "[1] 161\n",
      "[1] 162\n",
      "[1] 163\n",
      "[1] 164\n",
      "[1] 165\n",
      "[1] 166\n",
      "[1] 167\n",
      "[1] 168\n",
      "[1] 169\n",
      "[1] 170\n",
      "[1] 171\n",
      "[1] 172\n",
      "[1] 173\n",
      "[1] 174\n",
      "[1] 175\n",
      "[1] 176\n",
      "[1] 177\n",
      "[1] 178\n",
      "[1] 179\n",
      "[1] 180\n",
      "[1] 181\n",
      "[1] 182\n",
      "[1] 183\n",
      "[1] 184\n",
      "[1] 185\n",
      "[1] 186\n",
      "[1] 187\n",
      "[1] 188\n",
      "[1] 189\n",
      "[1] 190\n",
      "[1] 191\n",
      "[1] 192\n",
      "[1] 193\n",
      "[1] 194\n",
      "[1] 195\n",
      "[1] 196\n",
      "[1] 197\n",
      "[1] 198\n",
      "[1] 199\n",
      "[1] 200\n",
      "[1] 201\n",
      "[1] 202\n",
      "[1] 203\n",
      "[1] 204\n",
      "[1] 205\n",
      "[1] 206\n",
      "[1] 207\n",
      "[1] 208\n",
      "[1] 209\n",
      "[1] 210\n",
      "[1] 211\n",
      "[1] 212\n",
      "[1] 213\n",
      "[1] 214\n",
      "[1] 215\n",
      "[1] 216\n",
      "[1] 217\n",
      "[1] 218\n",
      "[1] 219\n",
      "[1] 220\n",
      "[1] 221\n",
      "[1] 222\n",
      "[1] 223\n",
      "[1] 224\n",
      "[1] 225\n",
      "[1] 226\n",
      "[1] 227\n",
      "[1] 228\n",
      "[1] 229\n",
      "[1] 230\n",
      "[1] 231\n",
      "[1] 232\n",
      "[1] 233\n",
      "[1] 234\n",
      "[1] 235\n",
      "[1] 236\n",
      "[1] 237\n",
      "[1] 238\n",
      "[1] 239\n",
      "[1] 240\n",
      "[1] 241\n",
      "[1] 242\n",
      "[1] 243\n",
      "[1] 244\n",
      "[1] 245\n",
      "[1] 246\n",
      "[1] 247\n",
      "[1] 248\n",
      "[1] 249\n",
      "[1] 250\n",
      "[1] 251\n",
      "[1] 252\n",
      "[1] 253\n",
      "[1] 254\n",
      "[1] 255\n",
      "[1] 256\n",
      "[1] 257\n",
      "[1] 258\n",
      "[1] 259\n",
      "[1] 260\n",
      "[1] 261\n",
      "[1] 262\n",
      "[1] 263\n",
      "[1] 264\n",
      "[1] 265\n",
      "[1] 266\n",
      "[1] 267\n",
      "[1] 268\n",
      "[1] 269\n",
      "[1] 270\n",
      "[1] 271\n",
      "[1] 272\n",
      "[1] 273\n",
      "[1] 274\n",
      "[1] 275\n",
      "[1] 276\n",
      "[1] 277\n",
      "[1] 278\n",
      "[1] 279\n",
      "[1] 280\n",
      "[1] 281\n",
      "[1] 282\n",
      "[1] 283\n",
      "[1] 284\n",
      "[1] 285\n",
      "[1] 286\n",
      "[1] 287\n",
      "[1] 288\n",
      "[1] 289\n",
      "[1] 290\n",
      "[1] 291\n",
      "[1] 292\n",
      "[1] 293\n",
      "[1] 294\n",
      "[1] 295\n",
      "[1] 296\n",
      "[1] 297\n",
      "[1] 298\n",
      "[1] 299\n",
      "[1] 300\n",
      "[1] 301\n",
      "[1] 302\n",
      "[1] 303\n",
      "[1] 304\n",
      "[1] 305\n",
      "[1] 306\n",
      "[1] 307\n",
      "[1] 308\n",
      "[1] 309\n",
      "[1] 310\n",
      "[1] 311\n",
      "[1] 312\n",
      "[1] 313\n",
      "[1] 314\n",
      "[1] 315\n",
      "[1] 316\n",
      "[1] 317\n",
      "[1] 318\n",
      "[1] 319\n",
      "[1] 320\n",
      "[1] 321\n",
      "[1] 322\n",
      "[1] 323\n",
      "[1] 324\n",
      "[1] 325\n",
      "[1] 326\n",
      "[1] 327\n",
      "[1] 328\n",
      "[1] 329\n",
      "[1] 330\n",
      "[1] 331\n",
      "[1] 332\n",
      "[1] 333\n",
      "[1] 334\n",
      "[1] 335\n",
      "[1] 336\n",
      "[1] 337\n",
      "[1] 338\n",
      "[1] 339\n",
      "[1] 340\n",
      "[1] 341\n",
      "[1] 342\n",
      "[1] 343\n",
      "[1] 344\n",
      "[1] 345\n",
      "[1] 346\n",
      "[1] 347\n",
      "[1] 348\n",
      "[1] 349\n",
      "[1] 350\n",
      "[1] 351\n",
      "[1] 352\n",
      "[1] 353\n",
      "[1] 354\n",
      "[1] 355\n",
      "[1] 356\n",
      "[1] 357\n",
      "[1] 358\n",
      "[1] 359\n",
      "[1] 360\n",
      "[1] 361\n",
      "[1] 362\n",
      "[1] 363\n",
      "[1] 364\n",
      "[1] 365\n",
      "[1] 366\n",
      "[1] 367\n",
      "[1] 368\n",
      "[1] 369\n",
      "[1] 370\n",
      "[1] 371\n",
      "[1] 372\n",
      "[1] 373\n",
      "[1] 374\n",
      "[1] 375\n",
      "[1] 376\n",
      "[1] 377\n",
      "[1] 378\n",
      "[1] 379\n",
      "[1] 380\n",
      "[1] 381\n",
      "[1] 382\n",
      "[1] 383\n",
      "[1] 384\n",
      "[1] 385\n",
      "[1] 386\n",
      "[1] 387\n",
      "[1] 388\n",
      "[1] 389\n",
      "[1] 390\n",
      "[1] 391\n",
      "[1] 392\n",
      "[1] 393\n",
      "[1] 394\n",
      "[1] 395\n",
      "[1] 396\n",
      "[1] 397\n",
      "[1] 398\n",
      "[1] 399\n",
      "[1] 400\n",
      "[1] 401\n",
      "[1] 402\n",
      "[1] 403\n",
      "[1] 404\n",
      "[1] 405\n",
      "[1] 406\n",
      "[1] 407\n",
      "[1] 408\n",
      "[1] 409\n",
      "[1] 410\n",
      "[1] 411\n",
      "[1] 412\n",
      "[1] 413\n",
      "[1] 414\n",
      "[1] 415\n",
      "[1] 416\n",
      "[1] 417\n",
      "[1] 418\n",
      "[1] 419\n",
      "[1] 420\n",
      "[1] 421\n",
      "[1] 422\n",
      "[1] 423\n",
      "[1] 424\n",
      "[1] 425\n",
      "[1] 426\n",
      "[1] 427\n",
      "[1] 428\n",
      "[1] 429\n",
      "[1] 430\n",
      "[1] 431\n",
      "[1] 432\n",
      "[1] 433\n",
      "[1] 434\n",
      "[1] 435\n",
      "[1] 436\n",
      "[1] 437\n",
      "[1] 438\n",
      "[1] 439\n",
      "[1] 440\n",
      "[1] 441\n",
      "[1] 442\n",
      "[1] 443\n",
      "[1] 444\n",
      "[1] 445\n",
      "[1] 446\n",
      "[1] 447\n",
      "[1] 448\n",
      "[1] 449\n",
      "[1] 450\n",
      "[1] 451\n",
      "[1] 452\n",
      "[1] 453\n",
      "[1] 454\n",
      "[1] 455\n",
      "[1] 456\n",
      "[1] 457\n",
      "[1] 458\n",
      "[1] 459\n",
      "[1] 460\n",
      "[1] 461\n",
      "[1] 462\n",
      "[1] 463\n",
      "[1] 464\n",
      "[1] 465\n",
      "[1] 466\n",
      "[1] 467\n",
      "[1] 468\n",
      "[1] 469\n",
      "[1] 470\n",
      "[1] 471\n",
      "[1] 472\n",
      "[1] 473\n",
      "[1] 474\n",
      "[1] 475\n",
      "[1] 476\n",
      "[1] 477\n",
      "[1] 478\n",
      "[1] 479\n",
      "[1] 480\n",
      "[1] 481\n",
      "[1] 482\n",
      "[1] 483\n",
      "[1] 484\n",
      "[1] 485\n",
      "[1] 486\n",
      "[1] 487\n",
      "[1] 488\n",
      "[1] 489\n",
      "[1] 490\n",
      "[1] 491\n",
      "[1] 492\n",
      "[1] 493\n",
      "[1] 494\n",
      "[1] 495\n",
      "[1] 496\n",
      "[1] 497\n",
      "[1] 498\n",
      "[1] 499\n",
      "[1] 500\n",
      "[1] 501\n",
      "[1] 502\n",
      "[1] 503\n",
      "[1] 504\n",
      "[1] 505\n",
      "[1] 506\n",
      "[1] 507\n",
      "[1] 508\n",
      "[1] 509\n",
      "[1] 510\n",
      "[1] 511\n",
      "[1] 512\n",
      "[1] 513\n",
      "[1] 514\n",
      "[1] 515\n",
      "[1] 516\n",
      "[1] 517\n",
      "[1] 518\n",
      "[1] 519\n",
      "[1] 520\n",
      "[1] 521\n",
      "[1] 522\n",
      "[1] 523\n",
      "[1] 524\n",
      "[1] 525\n",
      "[1] 526\n",
      "[1] 527\n",
      "[1] 528\n",
      "[1] 529\n",
      "[1] 530\n",
      "[1] 531\n",
      "[1] 532\n",
      "[1] 533\n",
      "[1] 534\n",
      "[1] 535\n",
      "[1] 536\n",
      "[1] 537\n",
      "[1] 538\n",
      "[1] 539\n",
      "[1] 540\n",
      "[1] 541\n",
      "[1] 542\n",
      "[1] 543\n",
      "[1] 544\n",
      "[1] 545\n",
      "[1] 546\n",
      "[1] 547\n",
      "[1] 548\n",
      "[1] 549\n",
      "[1] 550\n",
      "[1] 551\n",
      "[1] 552\n",
      "[1] 553\n",
      "[1] 554\n",
      "[1] 555\n",
      "[1] 556\n",
      "[1] 557\n",
      "[1] 558\n",
      "[1] 559\n",
      "[1] 560\n",
      "[1] 561\n",
      "[1] 562\n",
      "[1] 563\n",
      "[1] 564\n",
      "[1] 565\n",
      "[1] 566\n",
      "[1] 567\n",
      "[1] 568\n",
      "[1] 569\n",
      "[1] 570\n",
      "[1] 571\n",
      "[1] 572\n",
      "[1] 573\n",
      "[1] 574\n",
      "[1] 575\n",
      "[1] 576\n",
      "[1] 577\n",
      "[1] 578\n",
      "[1] 579\n",
      "[1] 580\n",
      "[1] 581\n",
      "[1] 582\n",
      "[1] 583\n",
      "[1] 584\n",
      "[1] 585\n",
      "[1] 586\n",
      "[1] 587\n",
      "[1] 588\n",
      "[1] 589\n",
      "[1] 590\n",
      "[1] 591\n",
      "[1] 592\n",
      "[1] 593\n",
      "[1] 594\n",
      "[1] 595\n",
      "[1] 596\n",
      "[1] 597\n",
      "[1] 598\n",
      "[1] 599\n",
      "[1] 600\n",
      "[1] 601\n",
      "[1] 602\n",
      "[1] 603\n",
      "[1] 604\n",
      "[1] 605\n",
      "[1] 606\n",
      "[1] 607\n",
      "[1] 608\n",
      "[1] 609\n",
      "[1] 610\n",
      "[1] 611\n",
      "[1] 612\n",
      "[1] 613\n",
      "[1] 614\n",
      "[1] 615\n",
      "[1] 616\n",
      "[1] 617\n",
      "[1] 618\n",
      "[1] 619\n",
      "[1] 620\n",
      "[1] 621\n",
      "[1] 622\n",
      "[1] 623\n",
      "[1] 624\n",
      "[1] 625\n",
      "[1] 626\n",
      "[1] 627\n",
      "[1] 628\n",
      "[1] 629\n",
      "[1] 630\n",
      "[1] 631\n",
      "[1] 632\n",
      "[1] 633\n",
      "[1] 634\n",
      "[1] 635\n",
      "[1] 636\n",
      "[1] 637\n",
      "[1] 638\n",
      "[1] 639\n",
      "[1] 640\n",
      "[1] 641\n",
      "[1] 642\n",
      "[1] 643\n",
      "[1] 644\n",
      "[1] 645\n",
      "[1] 646\n",
      "[1] 647\n",
      "[1] 648\n",
      "[1] 649\n",
      "[1] 650\n",
      "[1] 651\n",
      "[1] 652\n",
      "[1] 653\n",
      "[1] 654\n",
      "[1] 655\n",
      "[1] 656\n",
      "[1] 657\n",
      "[1] 658\n",
      "[1] 659\n",
      "[1] 660\n",
      "[1] 661\n",
      "[1] 662\n",
      "[1] 663\n",
      "[1] 664\n",
      "[1] 665\n",
      "[1] 666\n",
      "[1] 667\n",
      "[1] 668\n",
      "[1] 669\n",
      "[1] 670\n",
      "[1] 671\n",
      "[1] 672\n",
      "[1] 673\n",
      "[1] 674\n",
      "[1] 675\n",
      "[1] 676\n",
      "[1] 677\n",
      "[1] 678\n",
      "[1] 679\n",
      "[1] 680\n",
      "[1] 681\n",
      "[1] 682\n",
      "[1] 683\n",
      "[1] 684\n",
      "[1] 685\n",
      "[1] 686\n",
      "[1] 687\n",
      "[1] 688\n",
      "[1] 689\n",
      "[1] 690\n",
      "[1] 691\n",
      "[1] 692\n",
      "[1] 693\n",
      "[1] 694\n",
      "[1] 695\n",
      "[1] 696\n",
      "[1] 697\n",
      "[1] 698\n",
      "[1] 699\n",
      "[1] 700\n",
      "[1] 701\n",
      "[1] 702\n",
      "[1] 703\n",
      "[1] 704\n",
      "[1] 705\n",
      "[1] 706\n",
      "[1] 707\n",
      "[1] 708\n",
      "[1] 709\n",
      "[1] 710\n",
      "[1] 711\n",
      "[1] 712\n",
      "[1] 713\n",
      "[1] 714\n",
      "[1] 715\n",
      "[1] 716\n",
      "[1] 717\n",
      "[1] 718\n",
      "[1] 719\n",
      "[1] 720\n",
      "[1] 721\n",
      "[1] 722\n",
      "[1] 723\n",
      "[1] 724\n",
      "[1] 725\n",
      "[1] 726\n",
      "[1] 727\n",
      "[1] 728\n",
      "[1] 729\n",
      "[1] 730\n",
      "[1] 731\n",
      "[1] 732\n",
      "[1] 733\n",
      "[1] 734\n",
      "[1] 735\n",
      "[1] 736\n",
      "[1] 737\n",
      "[1] 738\n",
      "[1] 739\n",
      "[1] 740\n",
      "[1] 741\n",
      "[1] 742\n",
      "[1] 743\n",
      "[1] 744\n",
      "[1] 745\n",
      "[1] 746\n",
      "[1] 747\n",
      "[1] 748\n",
      "[1] 749\n",
      "[1] 750\n",
      "[1] 751\n",
      "[1] 752\n",
      "[1] 753\n",
      "[1] 754\n",
      "[1] 755\n",
      "[1] 756\n",
      "[1] 757\n",
      "[1] 758\n",
      "[1] 759\n",
      "[1] 760\n",
      "[1] 761\n",
      "[1] 762\n",
      "[1] 763\n",
      "[1] 764\n",
      "[1] 765\n",
      "[1] 766\n",
      "[1] 767\n",
      "[1] 768\n",
      "[1] 769\n",
      "[1] 770\n",
      "[1] 771\n",
      "[1] 772\n",
      "[1] 773\n",
      "[1] 774\n",
      "[1] 775\n",
      "[1] 776\n",
      "[1] 777\n",
      "[1] 778\n",
      "[1] 779\n",
      "[1] 780\n",
      "[1] 781\n",
      "[1] 782\n",
      "[1] 783\n",
      "[1] 784\n",
      "[1] 785\n",
      "[1] 786\n",
      "[1] 787\n",
      "[1] 788\n",
      "[1] 789\n",
      "[1] 790\n",
      "[1] 791\n",
      "[1] 792\n",
      "[1] 793\n",
      "[1] 794\n",
      "[1] 795\n",
      "[1] 796\n",
      "[1] 797\n",
      "[1] 798\n",
      "[1] 799\n",
      "[1] 800\n",
      "[1] 801\n",
      "[1] 802\n",
      "[1] 803\n",
      "[1] 804\n",
      "[1] 805\n",
      "[1] 806\n",
      "[1] 807\n",
      "[1] 808\n",
      "[1] 809\n",
      "[1] 810\n",
      "[1] 811\n",
      "[1] 812\n",
      "[1] 813\n",
      "[1] 814\n",
      "[1] 815\n",
      "[1] 816\n",
      "[1] 817\n",
      "[1] 818\n",
      "[1] 819\n",
      "[1] 820\n",
      "[1] 821\n",
      "[1] 822\n",
      "[1] 823\n",
      "[1] 824\n",
      "[1] 825\n",
      "[1] 826\n",
      "[1] 827\n",
      "[1] 828\n",
      "[1] 829\n",
      "[1] 830\n",
      "[1] 831\n",
      "[1] 832\n",
      "[1] 833\n",
      "[1] 834\n",
      "[1] 835\n",
      "[1] 836\n",
      "[1] 837\n",
      "[1] 838\n",
      "[1] 839\n",
      "[1] 840\n",
      "[1] 841\n",
      "[1] 842\n",
      "[1] 843\n",
      "[1] 844\n",
      "[1] 845\n",
      "[1] 846\n",
      "[1] 847\n",
      "[1] 848\n",
      "[1] 849\n",
      "[1] 850\n",
      "[1] 851\n",
      "[1] 852\n",
      "[1] 853\n",
      "[1] 854\n",
      "[1] 855\n",
      "[1] 856\n",
      "[1] 857\n",
      "[1] 858\n",
      "[1] 859\n",
      "[1] 860\n",
      "[1] 861\n",
      "[1] 862\n",
      "[1] 863\n",
      "[1] 864\n",
      "[1] 865\n",
      "[1] 866\n",
      "[1] 867\n",
      "[1] 868\n",
      "[1] 869\n",
      "[1] 870\n",
      "[1] 871\n",
      "[1] 872\n",
      "[1] 873\n",
      "[1] 874\n",
      "[1] 875\n",
      "[1] 876\n",
      "[1] 877\n",
      "[1] 878\n",
      "[1] 879\n",
      "[1] 880\n",
      "[1] 881\n",
      "[1] 882\n",
      "[1] 883\n",
      "[1] 884\n",
      "[1] 885\n",
      "[1] 886\n",
      "[1] 887\n",
      "[1] 888\n",
      "[1] 889\n",
      "[1] 890\n",
      "[1] 891\n",
      "[1] 892\n",
      "[1] 893\n",
      "[1] 894\n",
      "[1] 895\n",
      "[1] 896\n",
      "[1] 897\n",
      "[1] 898\n",
      "[1] 899\n",
      "[1] 900\n",
      "[1] 901\n",
      "[1] 902\n",
      "[1] 903\n",
      "[1] 904\n",
      "[1] 905\n",
      "[1] 906\n",
      "[1] 907\n",
      "[1] 908\n",
      "[1] 909\n",
      "[1] 910\n",
      "[1] 911\n",
      "[1] 912\n",
      "[1] 913\n",
      "[1] 914\n",
      "[1] 915\n",
      "[1] 916\n",
      "[1] 917\n",
      "[1] 918\n",
      "[1] 919\n",
      "[1] 920\n",
      "[1] 921\n",
      "[1] 922\n",
      "[1] 923\n",
      "[1] 924\n",
      "[1] 925\n",
      "[1] 926\n",
      "[1] 927\n",
      "[1] 928\n",
      "[1] 929\n",
      "[1] 930\n",
      "[1] 931\n",
      "[1] 932\n",
      "[1] 933\n",
      "[1] 934\n",
      "[1] 935\n",
      "[1] 936\n",
      "[1] 937\n",
      "[1] 938\n",
      "[1] 939\n",
      "[1] 940\n",
      "[1] 941\n",
      "[1] 942\n",
      "[1] 943\n",
      "[1] 944\n",
      "[1] 945\n",
      "[1] 946\n",
      "[1] 947\n",
      "[1] 948\n",
      "[1] 949\n",
      "[1] 950\n",
      "[1] 951\n",
      "[1] 952\n",
      "[1] 953\n",
      "[1] 954\n",
      "[1] 955\n",
      "[1] 956\n",
      "[1] 957\n",
      "[1] 958\n",
      "[1] 959\n",
      "[1] 960\n",
      "[1] 961\n",
      "[1] 962\n",
      "[1] 963\n",
      "[1] 964\n",
      "[1] 965\n",
      "[1] 966\n",
      "[1] 967\n",
      "[1] 968\n",
      "[1] 969\n",
      "[1] 970\n",
      "[1] 971\n",
      "[1] 972\n",
      "[1] 973\n",
      "[1] 974\n",
      "[1] 975\n",
      "[1] 976\n",
      "[1] 977\n",
      "[1] 978\n",
      "[1] 979\n",
      "[1] 980\n",
      "[1] 981\n",
      "[1] 982\n",
      "[1] 983\n",
      "[1] 984\n",
      "[1] 985\n",
      "[1] 986\n",
      "[1] 987\n",
      "[1] 988\n",
      "[1] 989\n",
      "[1] 990\n",
      "[1] 991\n",
      "[1] 992\n",
      "[1] 993\n",
      "[1] 994\n",
      "[1] 995\n",
      "[1] 996\n",
      "[1] 997\n",
      "[1] 998\n",
      "[1] 999\n",
      "[1] 1000\n"
     ]
    }
   ],
   "source": [
    "for (i in 1:1000) print(i)"
   ]
  },
  {
   "cell_type": "markdown",
   "metadata": {},
   "source": [
    "Which prints the numbers 1,2,3...1000 in a fraction of a second! This is called a 'for loop', which we cover in more detail in <a href='#Loops'>Loops</a>\n",
    "\n",
    "That's all we'll cover in the way of commands for now but in the rest of this notebook we'll give you lots more to try out. The important thing is that you can write commands in your terminal and that these give the expected output. Installation can sometimes be a bit of a hassle, as can the next section  <a href='#Setting up your environment'>Setting up your environment</a>, but once you get through these two stages there is huge potential for what we can do next. If your installation hasn't worked then check out the relevant online guides available for installing R and running it in the terminal."
   ]
  },
  {
   "cell_type": "markdown",
   "metadata": {},
   "source": [
    "  ### Setting up your environment<a id='Setting up your environment'></a>\n",
    "\n"
   ]
  },
  {
   "cell_type": "markdown",
   "metadata": {},
   "source": [
    "If you're looking at your first few commands and their output (admit it, you tried to make R print the numbers between 1 and 100,000,000,000,000 and it broke) then you may notice that R is kind of annoying and ugly. Or at least, it's not like the R we're seeing here. For example it's probably all black and white, you can't click any part of your code and edit it and those little '>' prompts aren't particularly appealing. Don't worry, that's because we haven't set up our enviornment yet. What we need is the Jupyter Notebook, the development environment we're writing this notebook in. \n",
    "\n",
    "We've used the word 'environment' a lot without explaining what it means. Essentially the environment we code in is just program(s) we use to run and edit our code. In the previous section your environment was just the terminal. If you had the idea to write your code in a text file and then run it in terminal then the text editor you used would also be part of your environment. Jupyter notebooks are online web-applications which are a really user-friendly environment. They run from your web browser (Safari, Explorer, Firefox) and as mentioned they are the environment that this entire course was written on! Oh and you're reading one right now. Jupyter is so-called because it began as a way to support the languages Julia, Python and R in the same platform. It's currently able to support many more languages, including Ruby, Java, C and more. \n",
    "\n",
    "Before you ask: web-application doesn't mean we will always need an internet connection. Once we've downloaded the Jupyter Notebook software we can run it on our browser even without an internet connection. It might seem strange at first to be on Safari while everyone else in your flat/house/halls is complaining the wifi is broken but that's just one of the many cool things about being able to code. \n",
    "\n",
    "To install the Jupyter Notebook software we also need to have Python installed. Python is pre-installed on Mac and Linux (together called Unix btw) but needs to be downloaded and installed for Windows. You can do this at https://www.python.org/downloads/ just like you did for R but once again if you're having trouble then please consult the internet's many troubleshooting guides. Once Python is installed we head to: https://jupyter.org/install to install Jupyter Notebooks. The easiest way to do this is to download 'Anaconda', which is another environment, from: https://www.anaconda.com. All you do then is click the 'Jupyter' app on the Anaconda welcome screen and you will get taken straight to Jupyter open in your default browser! There other ways to install Jupyter but we'll leave those to you if you've got your own preferences.\n",
    "\n",
    "Once you've opened Jupyter you'll be shown your 'User' folder, which will itself be a collection of folders. Now is a good time to create your own 'Hands-on Econ' folder, which you can do using the 'New' button at the top right corner. Once you're in your new folder click new again and create an R notebook. You should see an essentially blank webpage containing just a line like the one below:"
   ]
  },
  {
   "cell_type": "code",
   "execution_count": null,
   "metadata": {},
   "outputs": [],
   "source": []
  },
  {
   "cell_type": "markdown",
   "metadata": {},
   "source": [
    "If so then congrats! You're in! This is the environment which we'll use for the rest of this course, both for the rest of this term and for all of next term too. Try the commands out from before to make sure everything is working as it did in the terminal but if it is then well done - you're ready to learn how to code. The last important thing is to name the file your using by clicking the 'Untitled' text at the top of your browser and naming the file: 'MT Week 2'."
   ]
  },
  {
   "cell_type": "markdown",
   "metadata": {},
   "source": [
    "### Data types<a id='Data types'></a>"
   ]
  },
  {
   "cell_type": "markdown",
   "metadata": {},
   "source": [
    "We've already seen the `print()` and `+` commands but, what about `'Hello World'` and `1`. These are examples of 2 of R's 4 main data types: character, numerical, logical and integer. To find what the type of an object is we use the `class()` function:\n"
   ]
  },
  {
   "cell_type": "code",
   "execution_count": 4,
   "metadata": {},
   "outputs": [
    {
     "data": {
      "text/html": [
       "'character'"
      ],
      "text/latex": [
       "'character'"
      ],
      "text/markdown": [
       "'character'"
      ],
      "text/plain": [
       "[1] \"character\""
      ]
     },
     "metadata": {},
     "output_type": "display_data"
    }
   ],
   "source": [
    "class('Hello World')"
   ]
  },
  {
   "cell_type": "code",
   "execution_count": 5,
   "metadata": {},
   "outputs": [
    {
     "data": {
      "text/html": [
       "'numeric'"
      ],
      "text/latex": [
       "'numeric'"
      ],
      "text/markdown": [
       "'numeric'"
      ],
      "text/plain": [
       "[1] \"numeric\""
      ]
     },
     "metadata": {},
     "output_type": "display_data"
    }
   ],
   "source": [
    "class(1)"
   ]
  },
  {
   "cell_type": "markdown",
   "metadata": {},
   "source": [
    "Character is the simplest: it is just anything surrounded by quotation marks. So `'Hello World'`,`'Hello Worlds'`, `'1'` and `'qfln1f19p4hr17ofi'` are all characters. Numeric are also pretty simple: they are just any number, positive or negative, whole or not. Logical may sound strange but it just the values `TRUE` and `FALSE`:"
   ]
  },
  {
   "cell_type": "code",
   "execution_count": 6,
   "metadata": {},
   "outputs": [
    {
     "data": {
      "text/html": [
       "'logical'"
      ],
      "text/latex": [
       "'logical'"
      ],
      "text/markdown": [
       "'logical'"
      ],
      "text/plain": [
       "[1] \"logical\""
      ]
     },
     "metadata": {},
     "output_type": "display_data"
    }
   ],
   "source": [
    "class(TRUE)"
   ]
  },
  {
   "cell_type": "markdown",
   "metadata": {},
   "source": [
    "It's important to note that `TRUE` and `FALSE` *don't* have quotation marks around them. If they did they'd be characters like anything else:"
   ]
  },
  {
   "cell_type": "code",
   "execution_count": 7,
   "metadata": {},
   "outputs": [
    {
     "data": {
      "text/html": [
       "'character'"
      ],
      "text/latex": [
       "'character'"
      ],
      "text/markdown": [
       "'character'"
      ],
      "text/plain": [
       "[1] \"character\""
      ]
     },
     "metadata": {},
     "output_type": "display_data"
    }
   ],
   "source": [
    "class('TRUE')"
   ]
  },
  {
   "cell_type": "markdown",
   "metadata": {},
   "source": [
    "The last (main) data type is 'integer', which may sound simple (the integers are just the positive and negative whole numbers, so -32, 4 and 0 are all integers) but when we check:"
   ]
  },
  {
   "cell_type": "code",
   "execution_count": 8,
   "metadata": {},
   "outputs": [
    {
     "data": {
      "text/html": [
       "'numeric'"
      ],
      "text/latex": [
       "'numeric'"
      ],
      "text/markdown": [
       "'numeric'"
      ],
      "text/plain": [
       "[1] \"numeric\""
      ]
     },
     "metadata": {},
     "output_type": "display_data"
    },
    {
     "data": {
      "text/html": [
       "'numeric'"
      ],
      "text/latex": [
       "'numeric'"
      ],
      "text/markdown": [
       "'numeric'"
      ],
      "text/plain": [
       "[1] \"numeric\""
      ]
     },
     "metadata": {},
     "output_type": "display_data"
    },
    {
     "data": {
      "text/html": [
       "'numeric'"
      ],
      "text/latex": [
       "'numeric'"
      ],
      "text/markdown": [
       "'numeric'"
      ],
      "text/plain": [
       "[1] \"numeric\""
      ]
     },
     "metadata": {},
     "output_type": "display_data"
    }
   ],
   "source": [
    "class(-32)\n",
    "class(4)\n",
    "class(0)"
   ]
  },
  {
   "cell_type": "markdown",
   "metadata": {},
   "source": [
    "We get numeric, not integer. The key is that we have to *tell* R that these are integers by adding L to their end, so:"
   ]
  },
  {
   "cell_type": "code",
   "execution_count": 9,
   "metadata": {},
   "outputs": [
    {
     "data": {
      "text/html": [
       "'integer'"
      ],
      "text/latex": [
       "'integer'"
      ],
      "text/markdown": [
       "'integer'"
      ],
      "text/plain": [
       "[1] \"integer\""
      ]
     },
     "metadata": {},
     "output_type": "display_data"
    },
    {
     "data": {
      "text/html": [
       "'integer'"
      ],
      "text/latex": [
       "'integer'"
      ],
      "text/markdown": [
       "'integer'"
      ],
      "text/plain": [
       "[1] \"integer\""
      ]
     },
     "metadata": {},
     "output_type": "display_data"
    },
    {
     "data": {
      "text/html": [
       "'integer'"
      ],
      "text/latex": [
       "'integer'"
      ],
      "text/markdown": [
       "'integer'"
      ],
      "text/plain": [
       "[1] \"integer\""
      ]
     },
     "metadata": {},
     "output_type": "display_data"
    }
   ],
   "source": [
    "class(-32L)\n",
    "class(4L)\n",
    "class(0L)"
   ]
  },
  {
   "cell_type": "markdown",
   "metadata": {},
   "source": [
    "Are all integers."
   ]
  },
  {
   "cell_type": "markdown",
   "metadata": {},
   "source": [
    "### Object assignment<a id='Object assignment'></a>\n",
    "\n"
   ]
  },
  {
   "cell_type": "code",
   "execution_count": 10,
   "metadata": {},
   "outputs": [
    {
     "name": "stdout",
     "output_type": "stream",
     "text": [
      "[1] \"TRUE\"\n"
     ]
    }
   ],
   "source": [
    "print('TRUE')"
   ]
  },
  {
   "cell_type": "markdown",
   "metadata": {},
   "source": [
    "### Elementary Commands<a id='Elementary Commands'></a>\n",
    "\n"
   ]
  },
  {
   "cell_type": "markdown",
   "metadata": {},
   "source": []
  },
  {
   "cell_type": "markdown",
   "metadata": {},
   "source": [
    "`print()` will simply return whatever we type between the brackets. This might sound quite intuitive but be careful because if we want to print only the text within the brackets then we need to include quotation marks `''`  or `\"\"`. If we tried to use the command:\n",
    "\n",
    "```r\n",
    "print(Hello World)``` \n",
    "\n",
    "then we would get an error because R doesn't know what `Hello World` means. When we put quotation marks around it we make `Hello World` into the 'character' `'Hello World'`."
   ]
  },
  {
   "cell_type": "code",
   "execution_count": null,
   "metadata": {},
   "outputs": [],
   "source": []
  },
  {
   "cell_type": "markdown",
   "metadata": {},
   "source": [
    " ### Data structures <a id='Data structures'></a>\n",
    "\n"
   ]
  },
  {
   "cell_type": "code",
   "execution_count": null,
   "metadata": {},
   "outputs": [],
   "source": []
  },
  {
   "cell_type": "code",
   "execution_count": null,
   "metadata": {},
   "outputs": [],
   "source": []
  },
  {
   "cell_type": "markdown",
   "metadata": {},
   "source": [
    " ### Loops <a id='Loops'></a>\n",
    "\n"
   ]
  },
  {
   "cell_type": "code",
   "execution_count": null,
   "metadata": {},
   "outputs": [],
   "source": []
  },
  {
   "cell_type": "code",
   "execution_count": null,
   "metadata": {},
   "outputs": [],
   "source": []
  },
  {
   "cell_type": "markdown",
   "metadata": {},
   "source": [
    "  ### Importing files<a id='Importing files'></a>\n",
    "\n"
   ]
  },
  {
   "cell_type": "code",
   "execution_count": null,
   "metadata": {},
   "outputs": [],
   "source": []
  },
  {
   "cell_type": "code",
   "execution_count": null,
   "metadata": {},
   "outputs": [],
   "source": []
  },
  {
   "cell_type": "markdown",
   "metadata": {},
   "source": [
    "  ### Importing packages <a id='Importing packages'></a>"
   ]
  },
  {
   "cell_type": "code",
   "execution_count": null,
   "metadata": {},
   "outputs": [],
   "source": []
  },
  {
   "cell_type": "code",
   "execution_count": null,
   "metadata": {},
   "outputs": [],
   "source": []
  },
  {
   "cell_type": "markdown",
   "metadata": {},
   "source": [
    "  ### Graphing and visualisation<a id='Graphing and visualisation'></a>"
   ]
  },
  {
   "cell_type": "code",
   "execution_count": null,
   "metadata": {},
   "outputs": [],
   "source": []
  },
  {
   "cell_type": "code",
   "execution_count": null,
   "metadata": {},
   "outputs": [],
   "source": []
  },
  {
   "cell_type": "code",
   "execution_count": null,
   "metadata": {},
   "outputs": [],
   "source": []
  },
  {
   "cell_type": "code",
   "execution_count": null,
   "metadata": {},
   "outputs": [],
   "source": []
  },
  {
   "cell_type": "code",
   "execution_count": null,
   "metadata": {},
   "outputs": [],
   "source": []
  },
  {
   "cell_type": "code",
   "execution_count": null,
   "metadata": {},
   "outputs": [],
   "source": []
  },
  {
   "cell_type": "code",
   "execution_count": null,
   "metadata": {},
   "outputs": [],
   "source": []
  },
  {
   "cell_type": "code",
   "execution_count": null,
   "metadata": {},
   "outputs": [],
   "source": []
  }
 ],
 "metadata": {
  "kernelspec": {
   "display_name": "R",
   "language": "R",
   "name": "ir"
  },
  "language_info": {
   "codemirror_mode": "r",
   "file_extension": ".r",
   "mimetype": "text/x-r-source",
   "name": "R",
   "pygments_lexer": "r",
   "version": "3.6.1"
  }
 },
 "nbformat": 4,
 "nbformat_minor": 2
}
