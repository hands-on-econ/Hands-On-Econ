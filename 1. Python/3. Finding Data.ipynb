{
 "cells": [
  {
   "cell_type": "markdown",
   "metadata": {},
   "source": [
    "# Finding Data\n",
    "\n",
    "In our first 'real' week of the course we provide an introduction to R, structured as follows:\n",
    "\n",
    "- <a href='#What is R?'>What is R?</a>  \n",
    "-   <a href='#Why R?'>Why R?</a>\n",
    "-  <a href='#Downloading and installing R'>Downloading and installing R</a>\n",
    "-   <a href='#Setting up your environment'>Setting up your environment</a>\n",
    "-   <a href='#Elementary Commands'>Elementary Commands</a>\n",
    "- <a href='#Object assignment'>Object assignment</a>\n",
    "-   <a href='#Functions'>Functions</a>\n",
    "-  <a href='#Data types'>Data types</a>\n",
    "- <a href='#Data structures'>Data structures</a>\n",
    "-  <a href='#Loops'>Loops</a>\n",
    "-  <a href='#Importing files'>Importing files</a>\n",
    "-  <a href='#Importing packages'>Importing packages</a>\n",
    "- <a href='#Graphing and visualisation'>Graphing and visualisation</a>\n",
    "\n",
    "**This is not an exhaustive introduction to R** so don't be surprised if you find things on the web which aren't covered here. This is simply a guide to get you to a level where you'll be able to do useful things in the next week and eventually start teaching yourself. \n",
    "\n",
    "\n"
   ]
  },
  {
   "cell_type": "markdown",
   "metadata": {},
   "source": []
  },
  {
   "cell_type": "markdown",
   "metadata": {},
   "source": []
  },
  {
   "cell_type": "code",
   "execution_count": null,
   "metadata": {},
   "outputs": [],
   "source": []
  },
  {
   "cell_type": "code",
   "execution_count": null,
   "metadata": {},
   "outputs": [],
   "source": []
  },
  {
   "cell_type": "code",
   "execution_count": null,
   "metadata": {},
   "outputs": [],
   "source": []
  }
 ],
 "metadata": {
  "kernelspec": {
   "display_name": "R",
   "language": "R",
   "name": "ir"
  },
  "language_info": {
   "codemirror_mode": "r",
   "file_extension": ".r",
   "mimetype": "text/x-r-source",
   "name": "R",
   "pygments_lexer": "r",
   "version": "3.6.1"
  }
 },
 "nbformat": 4,
 "nbformat_minor": 2
}
