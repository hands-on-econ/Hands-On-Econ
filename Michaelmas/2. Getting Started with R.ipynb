{
 "cells": [
  {
   "cell_type": "markdown",
   "metadata": {},
   "source": [
    "# Getting Started with R\n",
    "\n",
    "In our first 'real' week of the course we provide an introduction to R, structured as follows:\n",
    "\n",
    "- <a href='#What is R?'>What is R?</a>  \n",
    "-   <a href='#Why R?'>Why R?</a>\n",
    "-  <a href='#Downloading and installing R'>Downloading and installing R</a>\n",
    "-   <a href='#Setting up your environment'>Setting up your environment</a>\n",
    "-   <a href='#Elementary Commands'>Elementary Commands</a>\n",
    "- <a href='#Object assignment'>Object assignment</a>\n",
    "-   <a href='#Functions'>Functions</a>\n",
    "-  <a href='#Data types'>Data types</a>\n",
    "- <a href='#Data structures'>Data structures</a>\n",
    "-  <a href='#Loops'>Loops</a>\n",
    "-  <a href='#Importing files'>Importing files</a>\n",
    "-  <a href='#Importing packages'>Importing packages</a>\n",
    "- <a href='#Graphing and visualisation'>Graphing and visualisation</a>\n",
    "\n",
    "**This is not an exhaustive introduction to R** so don't be surprised if you find things on the web which aren't covered here. This is simply a guide to get you to a level where you'll be able to do useful things in the next week and eventually start teaching yourself. \n",
    "\n"
   ]
  },
  {
   "cell_type": "markdown",
   "metadata": {},
   "source": [
    "\n",
    "### What is R? <a id='What is R?'></a>\n",
    "\n",
    "R is a programming language created by **R**obert Gentleman and **R**oss Ihaka (get it? R?) at the Department of Statistics at the University of Auckland in New Zealand in 1995. R  is a statistical language in that it was designed with statistical applications in mind, and as a result it has myriad in-built statistical features which make statistical analysis easy to use and intuitive (next term you will see Python is *even more* intuitive). It is freely available and is also the most popular statistical language in the world."
   ]
  },
  {
   "cell_type": "markdown",
   "metadata": {},
   "source": [
    " ### Why R<a id='Why R'></a>\n",
    "\n"
   ]
  },
  {
   "cell_type": "markdown",
   "metadata": {},
   "source": [
    "It's an important question! It would have probably been pretty easy to just offer this course entirely in Python, a reasonable choice considering Python is also free, even more intuitive than R and currently world's 3rd most popular programming language (R is 20th). R's huge advantage for applications like hypothesis testing, plotting statistical distributions, regression, matrix algebra and many other mathematical tasks is that it is **purpose-built** to deal with them. As we will soon see R's in-built functions mean that as soon as you load your environment (well get to what an environment is soon, don't worry), R is ready to go for statistical analysis. In Python by contrast we have to download and install several extra packages for us to be able to do statistics, and once we do the commands (code we need to write) to conduct them are longer as we have to call these packages every time we want to use them.\n",
    "\n",
    "As for other statistical languages like SAS, SPSS and STATA - **R is free**! Of course being at LSE means we get access to lots of paid software and most workplaces also do too, however the best thing about R being free is that while the paid packages you have access to at any point in your working or academic lives are liable to change R will always be an option! That's not to disincentivise you from learning STATA or any other paid language, it's just that R is a pretty natural choice for the statistical language used in an open-source course about using code to do statistics, maths, economics and metrics."
   ]
  },
  {
   "cell_type": "markdown",
   "metadata": {},
   "source": [
    "   ### Downloading and installing R <a id='Downloading and installing R'></a>\n",
    "\n"
   ]
  },
  {
   "cell_type": "markdown",
   "metadata": {},
   "source": [
    "R is available for download at The R Project's website: https://www.r-project.org. It must downloaded through 'mirrors' or sites hosted by a range of universities. The mirror you choose doesn't matter, each will download the same version of R. Once you download the relevant version for your operating system you'll be prompted to install it as you'd install any other package to your computer. \n",
    "\n",
    "Once you've installed R open the terminal application (pre-installed as Terminal on Mac, Ubuntu on Linux (Dell laptops) and cmd.exe for Windows) and type the letter 'r' to check that R has installed correctly. If it has then you should see a short preamble about the version of R you're using and then the command prompt '>', which is where you can type your first command:"
   ]
  },
  {
   "cell_type": "code",
   "execution_count": 1,
   "metadata": {},
   "outputs": [
    {
     "name": "stdout",
     "output_type": "stream",
     "text": [
      "[1] \"Hello World\"\n"
     ]
    }
   ],
   "source": [
    "print('Hello World')"
   ]
  },
  {
   "cell_type": "markdown",
   "metadata": {},
   "source": [
    "It's a bit of a cheesy first command but it's essentially a computer science rite of passage that that's the first one you ever write. Another good starting command to try is:"
   ]
  },
  {
   "cell_type": "code",
   "execution_count": 2,
   "metadata": {},
   "outputs": [
    {
     "data": {
      "text/html": [
       "2"
      ],
      "text/latex": [
       "2"
      ],
      "text/markdown": [
       "2"
      ],
      "text/plain": [
       "[1] 2"
      ]
     },
     "metadata": {},
     "output_type": "display_data"
    }
   ],
   "source": [
    "1+1"
   ]
  },
  {
   "cell_type": "markdown",
   "metadata": {},
   "source": [
    "If you want to try a 'cool' one then try: "
   ]
  },
  {
   "cell_type": "code",
   "execution_count": 3,
   "metadata": {},
   "outputs": [
    {
     "name": "stdout",
     "output_type": "stream",
     "text": [
      "[1] 1\n",
      "[1] 2\n",
      "[1] 3\n",
      "[1] 4\n",
      "[1] 5\n",
      "[1] 6\n",
      "[1] 7\n",
      "[1] 8\n",
      "[1] 9\n",
      "[1] 10\n",
      "[1] 11\n",
      "[1] 12\n",
      "[1] 13\n",
      "[1] 14\n",
      "[1] 15\n",
      "[1] 16\n",
      "[1] 17\n",
      "[1] 18\n",
      "[1] 19\n",
      "[1] 20\n",
      "[1] 21\n",
      "[1] 22\n",
      "[1] 23\n",
      "[1] 24\n",
      "[1] 25\n",
      "[1] 26\n",
      "[1] 27\n",
      "[1] 28\n",
      "[1] 29\n",
      "[1] 30\n",
      "[1] 31\n",
      "[1] 32\n",
      "[1] 33\n",
      "[1] 34\n",
      "[1] 35\n",
      "[1] 36\n",
      "[1] 37\n",
      "[1] 38\n",
      "[1] 39\n",
      "[1] 40\n",
      "[1] 41\n",
      "[1] 42\n",
      "[1] 43\n",
      "[1] 44\n",
      "[1] 45\n",
      "[1] 46\n",
      "[1] 47\n",
      "[1] 48\n",
      "[1] 49\n",
      "[1] 50\n",
      "[1] 51\n",
      "[1] 52\n",
      "[1] 53\n",
      "[1] 54\n",
      "[1] 55\n",
      "[1] 56\n",
      "[1] 57\n",
      "[1] 58\n",
      "[1] 59\n",
      "[1] 60\n",
      "[1] 61\n",
      "[1] 62\n",
      "[1] 63\n",
      "[1] 64\n",
      "[1] 65\n",
      "[1] 66\n",
      "[1] 67\n",
      "[1] 68\n",
      "[1] 69\n",
      "[1] 70\n",
      "[1] 71\n",
      "[1] 72\n",
      "[1] 73\n",
      "[1] 74\n",
      "[1] 75\n",
      "[1] 76\n",
      "[1] 77\n",
      "[1] 78\n",
      "[1] 79\n",
      "[1] 80\n",
      "[1] 81\n",
      "[1] 82\n",
      "[1] 83\n",
      "[1] 84\n",
      "[1] 85\n",
      "[1] 86\n",
      "[1] 87\n",
      "[1] 88\n",
      "[1] 89\n",
      "[1] 90\n",
      "[1] 91\n",
      "[1] 92\n",
      "[1] 93\n",
      "[1] 94\n",
      "[1] 95\n",
      "[1] 96\n",
      "[1] 97\n",
      "[1] 98\n",
      "[1] 99\n",
      "[1] 100\n"
     ]
    }
   ],
   "source": [
    "for (i in 1:100) print(i)"
   ]
  },
  {
   "cell_type": "markdown",
   "metadata": {},
   "source": [
    "Which prints the numbers 1,2,3...100 in a fraction of a second! This is called a 'for loop', which we cover in more detail in <a href='#Loops'>Loops</a>\n",
    "\n",
    "That's all we'll cover in the way of commands for now but in the rest of this notebook we'll give you lots more to try out. The important thing is that you can write commands in your terminal and that these give the expected output. Installation can sometimes be a bit of a hassle, as can the next section  <a href='#Setting up your environment'>Setting up your environment</a>, but once you get through these two stages there is huge potential for what we can do next. If your installation hasn't worked then check out the relevant online guides available for installing R and running it in the terminal."
   ]
  },
  {
   "cell_type": "markdown",
   "metadata": {},
   "source": [
    "  ### Setting up your environment<a id='Setting up your environment'></a>\n",
    "\n"
   ]
  },
  {
   "cell_type": "markdown",
   "metadata": {},
   "source": [
    "If you're looking at your first few commands and their output (admit it, you tried to make R print the numbers between 1 and 100,000,000,000,000 and it broke) then you may notice that R is kind of annoying and ugly. Or at least, it's not like the R we're seeing here. For example it's probably all black and white, you can't click any part of your code and edit it and those little '>' prompts aren't particularly appealing. Don't worry, that's because we haven't set up our enviornment yet. What we need is the Jupyter Notebook, the development environment we're writing this notebook in. \n",
    "\n",
    "We've used the word 'environment' a lot without explaining what it means. Essentially the environment we code in is just program(s) we use to run and edit our code. In the previous section your environment was just the terminal. If you had the idea to write your code in a text file and then run it in terminal then the text editor you used would also be part of your environment. Jupyter notebooks are online web-applications which are a really user-friendly environment. They run from your web browser (Safari, Explorer, Firefox) and as mentioned they are the environment that this entire course was written on! Oh and you're reading one right now. Jupyter is so-called because it began as a way to support the languages Julia, Python and R in the same platform. It's currently able to support many more languages, including Ruby, Java, C and more. \n",
    "\n",
    "Before you ask: web-application doesn't mean we will always need an internet connection. Once we've downloaded the Jupyter Notebook software we can run it on our browser even without an internet connection. It might seem strange at first to be on Safari while everyone else in your flat/house/halls is complaining the wifi is broken but that's just one of the many cool things about being able to code. \n",
    "\n",
    "To install the Jupyter Notebook software we also need to have Python installed. Python is pre-installed on Mac and Linux (together called Unix btw) but needs to be downloaded and installed for Windows. You can do this at https://www.python.org/downloads/ just like you did for R but once again if you're having trouble then please consult the internet's many troubleshooting guides. Once Python is installed we head to: https://jupyter.org/install to install Jupyter Notebooks. The easiest way to do this is to download 'Anaconda', which is another environment, from: https://www.anaconda.com. All you do then is click the 'Jupyter' app on the Anaconda welcome screen and you will get taken straight to Jupyter open in your default browser! There other ways to install Jupyter but we'll leave those to you if you've got your own preferences.\n",
    "\n",
    "Once you've opened Jupyter you'll be shown your 'User' folder, which will itself be a collection of folders. Now is a good time to create your own 'Hands-on Econ' folder, which you can do using the 'New' button at the top right corner. Once you're in your new folder click new again and create an R notebook. You should see an essentially blank webpage containing just a line like the one below:"
   ]
  },
  {
   "cell_type": "code",
   "execution_count": null,
   "metadata": {},
   "outputs": [],
   "source": []
  },
  {
   "cell_type": "markdown",
   "metadata": {},
   "source": [
    "If so then congrats! You're in! This is the environment which we'll use for the rest of this course, both for the rest of this term and for all of next term too. Try the commands out from before to make sure everything is working as it did in the terminal but if it is then well done - you're ready to learn how to code. The last important thing is to name the file your using by clicking the 'Untitled' text at the top of your browser and naming the file: 'MT Week 2'."
   ]
  },
  {
   "cell_type": "markdown",
   "metadata": {},
   "source": [
    "### Data types<a id='Data types'></a>"
   ]
  },
  {
   "cell_type": "markdown",
   "metadata": {},
   "source": [
    "We've already seen `'Hello World'` and `1`, but what are they? These are examples of 2 of R's 4 main data types: character, numerical, logical and integer. To find what the type of an object is we use the `class()` function:\n"
   ]
  },
  {
   "cell_type": "code",
   "execution_count": 4,
   "metadata": {},
   "outputs": [
    {
     "data": {
      "text/html": [
       "'character'"
      ],
      "text/latex": [
       "'character'"
      ],
      "text/markdown": [
       "'character'"
      ],
      "text/plain": [
       "[1] \"character\""
      ]
     },
     "metadata": {},
     "output_type": "display_data"
    }
   ],
   "source": [
    "class('Hello World')"
   ]
  },
  {
   "cell_type": "code",
   "execution_count": 5,
   "metadata": {},
   "outputs": [
    {
     "data": {
      "text/html": [
       "'numeric'"
      ],
      "text/latex": [
       "'numeric'"
      ],
      "text/markdown": [
       "'numeric'"
      ],
      "text/plain": [
       "[1] \"numeric\""
      ]
     },
     "metadata": {},
     "output_type": "display_data"
    }
   ],
   "source": [
    "class(1)"
   ]
  },
  {
   "cell_type": "markdown",
   "metadata": {},
   "source": [
    "Character is the simplest: it is just anything surrounded by quotation marks. So `'Hello World'`,`'Hello Worlds'`, `'1'` and `'qfln1f19p4hr17ofi'` are all characters. Numeric are also pretty simple: they are just any number, positive or negative, whole or not. Logical may sound strange but it just the values `TRUE`,`T`, `FALSE` and `F`:"
   ]
  },
  {
   "cell_type": "code",
   "execution_count": 6,
   "metadata": {},
   "outputs": [
    {
     "data": {
      "text/html": [
       "'logical'"
      ],
      "text/latex": [
       "'logical'"
      ],
      "text/markdown": [
       "'logical'"
      ],
      "text/plain": [
       "[1] \"logical\""
      ]
     },
     "metadata": {},
     "output_type": "display_data"
    }
   ],
   "source": [
    "class(TRUE)"
   ]
  },
  {
   "cell_type": "markdown",
   "metadata": {},
   "source": [
    "It's important to note that `TRUE` and `FALSE` *don't* have quotation marks around them. If they did they'd be characters like anything else:"
   ]
  },
  {
   "cell_type": "code",
   "execution_count": 7,
   "metadata": {},
   "outputs": [
    {
     "data": {
      "text/html": [
       "'character'"
      ],
      "text/latex": [
       "'character'"
      ],
      "text/markdown": [
       "'character'"
      ],
      "text/plain": [
       "[1] \"character\""
      ]
     },
     "metadata": {},
     "output_type": "display_data"
    }
   ],
   "source": [
    "class('TRUE')"
   ]
  },
  {
   "cell_type": "markdown",
   "metadata": {},
   "source": [
    "The last (main) data type is 'integer', which may sound simple (the integers are just the positive and negative whole numbers, so -32, 4 and 0 are all integers) but when we check:"
   ]
  },
  {
   "cell_type": "code",
   "execution_count": 8,
   "metadata": {},
   "outputs": [
    {
     "data": {
      "text/html": [
       "'numeric'"
      ],
      "text/latex": [
       "'numeric'"
      ],
      "text/markdown": [
       "'numeric'"
      ],
      "text/plain": [
       "[1] \"numeric\""
      ]
     },
     "metadata": {},
     "output_type": "display_data"
    }
   ],
   "source": [
    "class(-32)\n"
   ]
  },
  {
   "cell_type": "code",
   "execution_count": 9,
   "metadata": {},
   "outputs": [
    {
     "data": {
      "text/html": [
       "'numeric'"
      ],
      "text/latex": [
       "'numeric'"
      ],
      "text/markdown": [
       "'numeric'"
      ],
      "text/plain": [
       "[1] \"numeric\""
      ]
     },
     "metadata": {},
     "output_type": "display_data"
    }
   ],
   "source": [
    "class(4)\n",
    "\n"
   ]
  },
  {
   "cell_type": "code",
   "execution_count": 10,
   "metadata": {},
   "outputs": [
    {
     "data": {
      "text/html": [
       "'numeric'"
      ],
      "text/latex": [
       "'numeric'"
      ],
      "text/markdown": [
       "'numeric'"
      ],
      "text/plain": [
       "[1] \"numeric\""
      ]
     },
     "metadata": {},
     "output_type": "display_data"
    }
   ],
   "source": [
    "class(0)"
   ]
  },
  {
   "cell_type": "markdown",
   "metadata": {},
   "source": [
    "We get numeric, not integer. The key is that we have to *tell* R that these are integers by adding L to their end, so:"
   ]
  },
  {
   "cell_type": "code",
   "execution_count": 11,
   "metadata": {},
   "outputs": [
    {
     "data": {
      "text/html": [
       "'integer'"
      ],
      "text/latex": [
       "'integer'"
      ],
      "text/markdown": [
       "'integer'"
      ],
      "text/plain": [
       "[1] \"integer\""
      ]
     },
     "metadata": {},
     "output_type": "display_data"
    }
   ],
   "source": [
    "class(-32L)"
   ]
  },
  {
   "cell_type": "code",
   "execution_count": 12,
   "metadata": {},
   "outputs": [
    {
     "data": {
      "text/html": [
       "'integer'"
      ],
      "text/latex": [
       "'integer'"
      ],
      "text/markdown": [
       "'integer'"
      ],
      "text/plain": [
       "[1] \"integer\""
      ]
     },
     "metadata": {},
     "output_type": "display_data"
    }
   ],
   "source": [
    "class(4L)"
   ]
  },
  {
   "cell_type": "code",
   "execution_count": 13,
   "metadata": {},
   "outputs": [
    {
     "data": {
      "text/html": [
       "'integer'"
      ],
      "text/latex": [
       "'integer'"
      ],
      "text/markdown": [
       "'integer'"
      ],
      "text/plain": [
       "[1] \"integer\""
      ]
     },
     "metadata": {},
     "output_type": "display_data"
    }
   ],
   "source": [
    "class(0L)"
   ]
  },
  {
   "cell_type": "markdown",
   "metadata": {},
   "source": [
    "Are all integers.\n",
    "\n",
    "These are the four main data types in R, so now we know what they are we can introduce 'commands' or the things we can do with them. "
   ]
  },
  {
   "cell_type": "markdown",
   "metadata": {},
   "source": [
    "### Operators <a id='Operators'></a>\n",
    "\n"
   ]
  },
  {
   "cell_type": "markdown",
   "metadata": {},
   "source": [
    "We've seen also seen the `print()` and `+` commands, so what are they? `print()` is kind of its own thing, so we'll start with it. `print()` will simply return whatever we type between the brackets. This might sound quite intuitive but be careful because if we want to print only the text within the brackets then we need to include quotation marks `''`  or `\"\"`. If we tried to use the command:\n",
    "\n"
   ]
  },
  {
   "cell_type": "markdown",
   "metadata": {},
   "source": [
    "\n",
    "```r\n",
    "print(Hello World)``` \n",
    "\n",
    "then we would get an error because R doesn't know what `Hello World` means. When we put quotation marks around it we make `Hello World` into the character `'Hello World'`. "
   ]
  },
  {
   "cell_type": "markdown",
   "metadata": {},
   "source": [
    "`print()` is not an operator. It's a command and it's kind of unique. Everything else we'll cover here *is* an operator. There are two main kinds of operators: numeric and logical. The main numeric operators are all pretty self explanatory: `+`,`-`,`*` (times), `/` (divide) and `^` (to the power of). These all work as you'd expect:"
   ]
  },
  {
   "cell_type": "code",
   "execution_count": 14,
   "metadata": {},
   "outputs": [
    {
     "data": {
      "text/html": [
       "4"
      ],
      "text/latex": [
       "4"
      ],
      "text/markdown": [
       "4"
      ],
      "text/plain": [
       "[1] 4"
      ]
     },
     "metadata": {},
     "output_type": "display_data"
    }
   ],
   "source": [
    "2+2\n"
   ]
  },
  {
   "cell_type": "code",
   "execution_count": 15,
   "metadata": {},
   "outputs": [
    {
     "data": {
      "text/html": [
       "1"
      ],
      "text/latex": [
       "1"
      ],
      "text/markdown": [
       "1"
      ],
      "text/plain": [
       "[1] 1"
      ]
     },
     "metadata": {},
     "output_type": "display_data"
    }
   ],
   "source": [
    "4-3\n",
    "\n"
   ]
  },
  {
   "cell_type": "code",
   "execution_count": 16,
   "metadata": {},
   "outputs": [
    {
     "data": {
      "text/html": [
       "15"
      ],
      "text/latex": [
       "15"
      ],
      "text/markdown": [
       "15"
      ],
      "text/plain": [
       "[1] 15"
      ]
     },
     "metadata": {},
     "output_type": "display_data"
    }
   ],
   "source": [
    "3*5\n",
    "\n"
   ]
  },
  {
   "cell_type": "code",
   "execution_count": 17,
   "metadata": {},
   "outputs": [
    {
     "data": {
      "text/html": [
       "3"
      ],
      "text/latex": [
       "3"
      ],
      "text/markdown": [
       "3"
      ],
      "text/plain": [
       "[1] 3"
      ]
     },
     "metadata": {},
     "output_type": "display_data"
    }
   ],
   "source": [
    "9/3\n",
    "\n"
   ]
  },
  {
   "cell_type": "code",
   "execution_count": 18,
   "metadata": {},
   "outputs": [
    {
     "data": {
      "text/html": [
       "32"
      ],
      "text/latex": [
       "32"
      ],
      "text/markdown": [
       "32"
      ],
      "text/plain": [
       "[1] 32"
      ]
     },
     "metadata": {},
     "output_type": "display_data"
    }
   ],
   "source": [
    "2^5"
   ]
  },
  {
   "cell_type": "markdown",
   "metadata": {},
   "source": [
    "As for the logical operators these are also pretty self-explanatory. The main ones are: `>`,`<`,`>=`,`<=`,`==` (equal to),`!=` (not equal to), `x|y` (x or y), `x&y`, `isTRUE(x)` (is x TRUE?). So:"
   ]
  },
  {
   "cell_type": "code",
   "execution_count": 19,
   "metadata": {},
   "outputs": [
    {
     "data": {
      "text/html": [
       "TRUE"
      ],
      "text/latex": [
       "TRUE"
      ],
      "text/markdown": [
       "TRUE"
      ],
      "text/plain": [
       "[1] TRUE"
      ]
     },
     "metadata": {},
     "output_type": "display_data"
    }
   ],
   "source": [
    "4>3"
   ]
  },
  {
   "cell_type": "code",
   "execution_count": 20,
   "metadata": {},
   "outputs": [
    {
     "data": {
      "text/html": [
       "FALSE"
      ],
      "text/latex": [
       "FALSE"
      ],
      "text/markdown": [
       "FALSE"
      ],
      "text/plain": [
       "[1] FALSE"
      ]
     },
     "metadata": {},
     "output_type": "display_data"
    }
   ],
   "source": [
    "4<3"
   ]
  },
  {
   "cell_type": "code",
   "execution_count": 21,
   "metadata": {},
   "outputs": [
    {
     "data": {
      "text/html": [
       "TRUE"
      ],
      "text/latex": [
       "TRUE"
      ],
      "text/markdown": [
       "TRUE"
      ],
      "text/plain": [
       "[1] TRUE"
      ]
     },
     "metadata": {},
     "output_type": "display_data"
    }
   ],
   "source": [
    "3>=3"
   ]
  },
  {
   "cell_type": "code",
   "execution_count": 22,
   "metadata": {},
   "outputs": [
    {
     "data": {
      "text/html": [
       "TRUE"
      ],
      "text/latex": [
       "TRUE"
      ],
      "text/markdown": [
       "TRUE"
      ],
      "text/plain": [
       "[1] TRUE"
      ]
     },
     "metadata": {},
     "output_type": "display_data"
    }
   ],
   "source": [
    "3<=3"
   ]
  },
  {
   "cell_type": "code",
   "execution_count": 23,
   "metadata": {},
   "outputs": [
    {
     "data": {
      "text/html": [
       "TRUE"
      ],
      "text/latex": [
       "TRUE"
      ],
      "text/markdown": [
       "TRUE"
      ],
      "text/plain": [
       "[1] TRUE"
      ]
     },
     "metadata": {},
     "output_type": "display_data"
    }
   ],
   "source": [
    "TRUE==T"
   ]
  },
  {
   "cell_type": "code",
   "execution_count": 24,
   "metadata": {},
   "outputs": [
    {
     "data": {
      "text/html": [
       "FALSE"
      ],
      "text/latex": [
       "FALSE"
      ],
      "text/markdown": [
       "FALSE"
      ],
      "text/plain": [
       "[1] FALSE"
      ]
     },
     "metadata": {},
     "output_type": "display_data"
    }
   ],
   "source": [
    "4!=4"
   ]
  },
  {
   "cell_type": "code",
   "execution_count": 25,
   "metadata": {},
   "outputs": [
    {
     "data": {
      "text/html": [
       "TRUE"
      ],
      "text/latex": [
       "TRUE"
      ],
      "text/markdown": [
       "TRUE"
      ],
      "text/plain": [
       "[1] TRUE"
      ]
     },
     "metadata": {},
     "output_type": "display_data"
    }
   ],
   "source": [
    "4>3|4<3"
   ]
  },
  {
   "cell_type": "code",
   "execution_count": 26,
   "metadata": {},
   "outputs": [
    {
     "data": {
      "text/html": [
       "FALSE"
      ],
      "text/latex": [
       "FALSE"
      ],
      "text/markdown": [
       "FALSE"
      ],
      "text/plain": [
       "[1] FALSE"
      ]
     },
     "metadata": {},
     "output_type": "display_data"
    }
   ],
   "source": [
    "4>3&4<3"
   ]
  },
  {
   "cell_type": "code",
   "execution_count": 27,
   "metadata": {},
   "outputs": [
    {
     "data": {
      "text/html": [
       "FALSE"
      ],
      "text/latex": [
       "FALSE"
      ],
      "text/markdown": [
       "FALSE"
      ],
      "text/plain": [
       "[1] FALSE"
      ]
     },
     "metadata": {},
     "output_type": "display_data"
    }
   ],
   "source": [
    "isTRUE(4<3)"
   ]
  },
  {
   "cell_type": "markdown",
   "metadata": {},
   "source": [
    "Operators in R aren't hard (they get a little harder in Python) but they do require practice to get familar with. "
   ]
  },
  {
   "cell_type": "markdown",
   "metadata": {},
   "source": [
    "### Object assignment<a id='Object assignment'></a>\n",
    "\n"
   ]
  },
  {
   "cell_type": "markdown",
   "metadata": {},
   "source": [
    "You might have guessed that we can store variables in R. This is called 'object assignment' and its a little bit strange in R. Most major programs (as we'll see in Python in Lent) let you store variables with the `=` operator. This makes sense! `x=5` is a telling Python that x is equal to 5! R is a little less friendly. The trouble is that R will *sometimes* let us use `=` to assign variables, but sometimes it won't. The solution is that R will always let us assign variables using `<-`, so instead of `x=5` we can write `x<-5` and get exactly what we'd expect."
   ]
  },
  {
   "cell_type": "code",
   "execution_count": 28,
   "metadata": {},
   "outputs": [
    {
     "name": "stdout",
     "output_type": "stream",
     "text": [
      "[1] 5\n"
     ]
    }
   ],
   "source": [
    "x<-5\n",
    "print(x)"
   ]
  },
  {
   "cell_type": "markdown",
   "metadata": {},
   "source": [
    "Notice how we didn't write `print('x')`? That's because even though `x` is now a variable, `'x'` will always be a character, because it is between two quotation marks. To see this notice:"
   ]
  },
  {
   "cell_type": "code",
   "execution_count": 29,
   "metadata": {},
   "outputs": [
    {
     "name": "stdout",
     "output_type": "stream",
     "text": [
      "[1] \"x\"\n"
     ]
    }
   ],
   "source": [
    "print('x')"
   ]
  },
  {
   "cell_type": "markdown",
   "metadata": {},
   "source": [
    "Once we've assigned a value to a variable we can treat that variable just like we were treating the value we've assigned it to."
   ]
  },
  {
   "cell_type": "code",
   "execution_count": 30,
   "metadata": {},
   "outputs": [
    {
     "data": {
      "text/html": [
       "'numeric'"
      ],
      "text/latex": [
       "'numeric'"
      ],
      "text/markdown": [
       "'numeric'"
      ],
      "text/plain": [
       "[1] \"numeric\""
      ]
     },
     "metadata": {},
     "output_type": "display_data"
    }
   ],
   "source": [
    "class(x)"
   ]
  },
  {
   "cell_type": "code",
   "execution_count": 31,
   "metadata": {},
   "outputs": [
    {
     "data": {
      "text/html": [
       "10"
      ],
      "text/latex": [
       "10"
      ],
      "text/markdown": [
       "10"
      ],
      "text/plain": [
       "[1] 10"
      ]
     },
     "metadata": {},
     "output_type": "display_data"
    }
   ],
   "source": [
    "x+5"
   ]
  },
  {
   "cell_type": "code",
   "execution_count": 32,
   "metadata": {},
   "outputs": [
    {
     "data": {
      "text/html": [
       "TRUE"
      ],
      "text/latex": [
       "TRUE"
      ],
      "text/markdown": [
       "TRUE"
      ],
      "text/plain": [
       "[1] TRUE"
      ]
     },
     "metadata": {},
     "output_type": "display_data"
    }
   ],
   "source": [
    "x==5"
   ]
  },
  {
   "cell_type": "markdown",
   "metadata": {},
   "source": [
    "Even better, if we've got more than one variable we can treat all of them like their underlying values:"
   ]
  },
  {
   "cell_type": "code",
   "execution_count": 33,
   "metadata": {},
   "outputs": [
    {
     "name": "stdout",
     "output_type": "stream",
     "text": [
      "[1] 12\n"
     ]
    }
   ],
   "source": [
    "y<-7 \n",
    "print(x+y)"
   ]
  },
  {
   "cell_type": "code",
   "execution_count": 34,
   "metadata": {},
   "outputs": [
    {
     "data": {
      "text/html": [
       "FALSE"
      ],
      "text/latex": [
       "FALSE"
      ],
      "text/markdown": [
       "FALSE"
      ],
      "text/plain": [
       "[1] FALSE"
      ]
     },
     "metadata": {},
     "output_type": "display_data"
    }
   ],
   "source": [
    "x==y"
   ]
  },
  {
   "cell_type": "markdown",
   "metadata": {},
   "source": [
    "One word of advice is ***don't*** assign variables to functions (like `print`, or others we'll see below). It's a really easy way to make sure code that works perfectly will screw up for no reason. \n",
    "\n",
    "Other languages make it much easier to characters (like 'a') than R but R still lets us assign characters to variables:"
   ]
  },
  {
   "cell_type": "code",
   "execution_count": 35,
   "metadata": {},
   "outputs": [
    {
     "name": "stdout",
     "output_type": "stream",
     "text": [
      "[1] \"y\"\n"
     ]
    }
   ],
   "source": [
    "x<-'y'\n",
    "print(x)"
   ]
  },
  {
   "cell_type": "code",
   "execution_count": 36,
   "metadata": {},
   "outputs": [
    {
     "data": {
      "text/html": [
       "TRUE"
      ],
      "text/latex": [
       "TRUE"
      ],
      "text/markdown": [
       "TRUE"
      ],
      "text/plain": [
       "[1] TRUE"
      ]
     },
     "metadata": {},
     "output_type": "display_data"
    }
   ],
   "source": [
    "x=='y'"
   ]
  },
  {
   "cell_type": "markdown",
   "metadata": {},
   "source": [
    "The trouble is if we try to do anything more we get hit with errors, like we would if we tried to run: `x+'y'`, `x^2` or any other fun commands (which we'll see work fine in Python). The reason for this is that R is primarily a statistical language. We can do essentially all of the things we can do to characters in other languages in R but we have to use clunkier commands which we'll introduce as needed. "
   ]
  },
  {
   "cell_type": "markdown",
   "metadata": {},
   "source": [
    " ### Data structures <a id='Data structures'></a>\n",
    "\n"
   ]
  },
  {
   "cell_type": "markdown",
   "metadata": {},
   "source": [
    "Data structures are useful ways of storing data in R. We can't import an Excel table into R, store it and use *per se*, but we can import it as a 'dataframe' (we'll explain this in a moment) and then use that dataframe for our analysis. There are four main types of data structure in R and we'll see examples of each.\n",
    "\n",
    "Vectors are our first type, and are written in the form `c(x,y,z,...)`. They are really easy ways to store 'collections' of things, and to operate over everything in that collection. For example:"
   ]
  },
  {
   "cell_type": "code",
   "execution_count": 37,
   "metadata": {},
   "outputs": [
    {
     "name": "stdout",
     "output_type": "stream",
     "text": [
      "[1] 1 2 3\n"
     ]
    }
   ],
   "source": [
    "a<-c(1,2,3)\n",
    "print(a)"
   ]
  },
  {
   "cell_type": "code",
   "execution_count": 38,
   "metadata": {},
   "outputs": [
    {
     "name": "stdout",
     "output_type": "stream",
     "text": [
      "[1] 2 4 6\n"
     ]
    }
   ],
   "source": [
    "print(a*2)"
   ]
  },
  {
   "cell_type": "code",
   "execution_count": 39,
   "metadata": {},
   "outputs": [
    {
     "name": "stdout",
     "output_type": "stream",
     "text": [
      "[1]  4 14 27\n"
     ]
    }
   ],
   "source": [
    "b<-c(4,7,9)\n",
    "print(a*b)"
   ]
  },
  {
   "cell_type": "markdown",
   "metadata": {},
   "source": [
    "We *can* store different data types in the same list but if we do then R will usually default all of the objects to characters and we'll lose our abaility to operate over them:"
   ]
  },
  {
   "cell_type": "code",
   "execution_count": 40,
   "metadata": {},
   "outputs": [],
   "source": [
    "x<-c(1,2,'a')"
   ]
  },
  {
   "cell_type": "code",
   "execution_count": 41,
   "metadata": {},
   "outputs": [
    {
     "data": {
      "text/html": [
       "'character'"
      ],
      "text/latex": [
       "'character'"
      ],
      "text/markdown": [
       "'character'"
      ],
      "text/plain": [
       "[1] \"character\""
      ]
     },
     "metadata": {},
     "output_type": "display_data"
    },
    {
     "data": {
      "text/html": [
       "'numeric'"
      ],
      "text/latex": [
       "'numeric'"
      ],
      "text/markdown": [
       "'numeric'"
      ],
      "text/plain": [
       "[1] \"numeric\""
      ]
     },
     "metadata": {},
     "output_type": "display_data"
    }
   ],
   "source": [
    "class(x)\n",
    "class(a)"
   ]
  },
  {
   "cell_type": "markdown",
   "metadata": {},
   "source": [
    "So R is telling us the vector is a 'character vector' or all its entries are characters. If we had just logicals (TRUE/FALSE) and numerics (1,2,3.3) then R would default the logicals to numerics where TRUE is 1 and FALSE is 0:"
   ]
  },
  {
   "cell_type": "code",
   "execution_count": 42,
   "metadata": {},
   "outputs": [],
   "source": [
    "y<-c(1,2,TRUE)"
   ]
  },
  {
   "cell_type": "code",
   "execution_count": 43,
   "metadata": {},
   "outputs": [
    {
     "data": {
      "text/html": [
       "'numeric'"
      ],
      "text/latex": [
       "'numeric'"
      ],
      "text/markdown": [
       "'numeric'"
      ],
      "text/plain": [
       "[1] \"numeric\""
      ]
     },
     "metadata": {},
     "output_type": "display_data"
    }
   ],
   "source": [
    "class(y)"
   ]
  },
  {
   "cell_type": "code",
   "execution_count": 44,
   "metadata": {},
   "outputs": [
    {
     "name": "stdout",
     "output_type": "stream",
     "text": [
      "[1] 2 4 2\n"
     ]
    }
   ],
   "source": [
    "print(y*2)"
   ]
  },
  {
   "cell_type": "markdown",
   "metadata": {},
   "source": [
    "We can also index vectors by using square brackets, so:"
   ]
  },
  {
   "cell_type": "code",
   "execution_count": 45,
   "metadata": {},
   "outputs": [
    {
     "data": {
      "text/html": [
       "4"
      ],
      "text/latex": [
       "4"
      ],
      "text/markdown": [
       "4"
      ],
      "text/plain": [
       "[1] 4"
      ]
     },
     "metadata": {},
     "output_type": "display_data"
    }
   ],
   "source": [
    "b[1]"
   ]
  },
  {
   "cell_type": "code",
   "execution_count": 46,
   "metadata": {},
   "outputs": [
    {
     "data": {
      "text/html": [
       "<ol class=list-inline>\n",
       "\t<li>4</li>\n",
       "\t<li>9</li>\n",
       "</ol>\n"
      ],
      "text/latex": [
       "\\begin{enumerate*}\n",
       "\\item 4\n",
       "\\item 9\n",
       "\\end{enumerate*}\n"
      ],
      "text/markdown": [
       "1. 4\n",
       "2. 9\n",
       "\n",
       "\n"
      ],
      "text/plain": [
       "[1] 4 9"
      ]
     },
     "metadata": {},
     "output_type": "display_data"
    }
   ],
   "source": [
    "b[c(1,3)]"
   ]
  },
  {
   "cell_type": "markdown",
   "metadata": {},
   "source": [
    "Which is giving us the first and then the first and third elements of b. There are two more data types we need to worry about: matricies and dataframes. Matricies are literally just the matricies you spent all of linear algebra worrying about. They are created using the `matrix()` command and then specifying a vector of values and the number of rows/columns:"
   ]
  },
  {
   "cell_type": "code",
   "execution_count": 47,
   "metadata": {},
   "outputs": [
    {
     "data": {
      "text/html": [
       "<table>\n",
       "<caption>A matrix: 3 × 3 of type dbl</caption>\n",
       "<tbody>\n",
       "\t<tr><td>1</td><td>2</td><td>3</td></tr>\n",
       "\t<tr><td>4</td><td>5</td><td>6</td></tr>\n",
       "\t<tr><td>7</td><td>8</td><td>9</td></tr>\n",
       "</tbody>\n",
       "</table>\n"
      ],
      "text/latex": [
       "A matrix: 3 × 3 of type dbl\n",
       "\\begin{tabular}{lll}\n",
       "\t 1 & 2 & 3\\\\\n",
       "\t 4 & 5 & 6\\\\\n",
       "\t 7 & 8 & 9\\\\\n",
       "\\end{tabular}\n"
      ],
      "text/markdown": [
       "\n",
       "A matrix: 3 × 3 of type dbl\n",
       "\n",
       "| 1 | 2 | 3 |\n",
       "| 4 | 5 | 6 |\n",
       "| 7 | 8 | 9 |\n",
       "\n"
      ],
      "text/plain": [
       "     [,1] [,2] [,3]\n",
       "[1,] 1    2    3   \n",
       "[2,] 4    5    6   \n",
       "[3,] 7    8    9   "
      ]
     },
     "metadata": {},
     "output_type": "display_data"
    }
   ],
   "source": [
    "M<-matrix(c(1,2,3,\n",
    "            4,5,6,\n",
    "            7,8,9), ncol=3, byrow=TRUE)\n",
    "M"
   ]
  },
  {
   "cell_type": "markdown",
   "metadata": {},
   "source": [
    "The `byrow` attribute just refer to the order in which our values progress. Matricies can be operated over using `+` and `-` as expected"
   ]
  },
  {
   "cell_type": "code",
   "execution_count": 48,
   "metadata": {},
   "outputs": [
    {
     "data": {
      "text/html": [
       "<table>\n",
       "<caption>A matrix: 3 × 3 of type dbl</caption>\n",
       "<tbody>\n",
       "\t<tr><td>2</td><td>3</td><td> 4</td></tr>\n",
       "\t<tr><td>5</td><td>6</td><td> 7</td></tr>\n",
       "\t<tr><td>8</td><td>9</td><td>10</td></tr>\n",
       "</tbody>\n",
       "</table>\n"
      ],
      "text/latex": [
       "A matrix: 3 × 3 of type dbl\n",
       "\\begin{tabular}{lll}\n",
       "\t 2 & 3 &  4\\\\\n",
       "\t 5 & 6 &  7\\\\\n",
       "\t 8 & 9 & 10\\\\\n",
       "\\end{tabular}\n"
      ],
      "text/markdown": [
       "\n",
       "A matrix: 3 × 3 of type dbl\n",
       "\n",
       "| 2 | 3 |  4 |\n",
       "| 5 | 6 |  7 |\n",
       "| 8 | 9 | 10 |\n",
       "\n"
      ],
      "text/plain": [
       "     [,1] [,2] [,3]\n",
       "[1,] 2    3     4  \n",
       "[2,] 5    6     7  \n",
       "[3,] 8    9    10  "
      ]
     },
     "metadata": {},
     "output_type": "display_data"
    },
    {
     "data": {
      "text/html": [
       "<table>\n",
       "<caption>A matrix: 3 × 3 of type dbl</caption>\n",
       "<tbody>\n",
       "\t<tr><td>0</td><td>1</td><td>2</td></tr>\n",
       "\t<tr><td>3</td><td>4</td><td>5</td></tr>\n",
       "\t<tr><td>6</td><td>7</td><td>8</td></tr>\n",
       "</tbody>\n",
       "</table>\n"
      ],
      "text/latex": [
       "A matrix: 3 × 3 of type dbl\n",
       "\\begin{tabular}{lll}\n",
       "\t 0 & 1 & 2\\\\\n",
       "\t 3 & 4 & 5\\\\\n",
       "\t 6 & 7 & 8\\\\\n",
       "\\end{tabular}\n"
      ],
      "text/markdown": [
       "\n",
       "A matrix: 3 × 3 of type dbl\n",
       "\n",
       "| 0 | 1 | 2 |\n",
       "| 3 | 4 | 5 |\n",
       "| 6 | 7 | 8 |\n",
       "\n"
      ],
      "text/plain": [
       "     [,1] [,2] [,3]\n",
       "[1,] 0    1    2   \n",
       "[2,] 3    4    5   \n",
       "[3,] 6    7    8   "
      ]
     },
     "metadata": {},
     "output_type": "display_data"
    }
   ],
   "source": [
    "M<-matrix(c(1,2,3,\n",
    "            4,5,6,\n",
    "            7,8,9), ncol=3, byrow=TRUE)\n",
    "N<-matrix(c(1,1,1,\n",
    "            1,1,1,\n",
    "            1,1,1), ncol=3, byrow=TRUE)\n",
    "M+N\n",
    "M-N"
   ]
  },
  {
   "cell_type": "markdown",
   "metadata": {},
   "source": [
    "But when we use `*` and `/` we get unusual results:"
   ]
  },
  {
   "cell_type": "code",
   "execution_count": 49,
   "metadata": {},
   "outputs": [
    {
     "data": {
      "text/html": [
       "<table>\n",
       "<caption>A matrix: 3 × 3 of type dbl</caption>\n",
       "<tbody>\n",
       "\t<tr><td>1</td><td>2</td><td>3</td></tr>\n",
       "\t<tr><td>4</td><td>5</td><td>6</td></tr>\n",
       "\t<tr><td>7</td><td>8</td><td>9</td></tr>\n",
       "</tbody>\n",
       "</table>\n"
      ],
      "text/latex": [
       "A matrix: 3 × 3 of type dbl\n",
       "\\begin{tabular}{lll}\n",
       "\t 1 & 2 & 3\\\\\n",
       "\t 4 & 5 & 6\\\\\n",
       "\t 7 & 8 & 9\\\\\n",
       "\\end{tabular}\n"
      ],
      "text/markdown": [
       "\n",
       "A matrix: 3 × 3 of type dbl\n",
       "\n",
       "| 1 | 2 | 3 |\n",
       "| 4 | 5 | 6 |\n",
       "| 7 | 8 | 9 |\n",
       "\n"
      ],
      "text/plain": [
       "     [,1] [,2] [,3]\n",
       "[1,] 1    2    3   \n",
       "[2,] 4    5    6   \n",
       "[3,] 7    8    9   "
      ]
     },
     "metadata": {},
     "output_type": "display_data"
    },
    {
     "data": {
      "text/html": [
       "<table>\n",
       "<caption>A matrix: 3 × 3 of type dbl</caption>\n",
       "<tbody>\n",
       "\t<tr><td>1</td><td>2</td><td>3</td></tr>\n",
       "\t<tr><td>4</td><td>5</td><td>6</td></tr>\n",
       "\t<tr><td>7</td><td>8</td><td>9</td></tr>\n",
       "</tbody>\n",
       "</table>\n"
      ],
      "text/latex": [
       "A matrix: 3 × 3 of type dbl\n",
       "\\begin{tabular}{lll}\n",
       "\t 1 & 2 & 3\\\\\n",
       "\t 4 & 5 & 6\\\\\n",
       "\t 7 & 8 & 9\\\\\n",
       "\\end{tabular}\n"
      ],
      "text/markdown": [
       "\n",
       "A matrix: 3 × 3 of type dbl\n",
       "\n",
       "| 1 | 2 | 3 |\n",
       "| 4 | 5 | 6 |\n",
       "| 7 | 8 | 9 |\n",
       "\n"
      ],
      "text/plain": [
       "     [,1] [,2] [,3]\n",
       "[1,] 1    2    3   \n",
       "[2,] 4    5    6   \n",
       "[3,] 7    8    9   "
      ]
     },
     "metadata": {},
     "output_type": "display_data"
    }
   ],
   "source": [
    "M<-matrix(c(1,2,3,\n",
    "            4,5,6,\n",
    "            7,8,9), ncol=3, byrow=TRUE)\n",
    "N<-matrix(c(1,1,1,\n",
    "            1,1,1,\n",
    "            1,1,1), ncol=3, byrow=TRUE)\n",
    "M*N\n",
    "M/N"
   ]
  },
  {
   "cell_type": "markdown",
   "metadata": {},
   "source": [
    "The usual operators operate over each individual element of the matrix, so they don't reflect *matrix multiplication* or *matrix division*. These are conducted with: `%*%` and `%/%`"
   ]
  },
  {
   "cell_type": "code",
   "execution_count": 50,
   "metadata": {},
   "outputs": [
    {
     "data": {
      "text/html": [
       "<table>\n",
       "<caption>A matrix: 3 × 3 of type dbl</caption>\n",
       "<tbody>\n",
       "\t<tr><td> 6</td><td> 6</td><td> 6</td></tr>\n",
       "\t<tr><td>15</td><td>15</td><td>15</td></tr>\n",
       "\t<tr><td>24</td><td>24</td><td>24</td></tr>\n",
       "</tbody>\n",
       "</table>\n"
      ],
      "text/latex": [
       "A matrix: 3 × 3 of type dbl\n",
       "\\begin{tabular}{lll}\n",
       "\t  6 &  6 &  6\\\\\n",
       "\t 15 & 15 & 15\\\\\n",
       "\t 24 & 24 & 24\\\\\n",
       "\\end{tabular}\n"
      ],
      "text/markdown": [
       "\n",
       "A matrix: 3 × 3 of type dbl\n",
       "\n",
       "|  6 |  6 |  6 |\n",
       "| 15 | 15 | 15 |\n",
       "| 24 | 24 | 24 |\n",
       "\n"
      ],
      "text/plain": [
       "     [,1] [,2] [,3]\n",
       "[1,]  6    6    6  \n",
       "[2,] 15   15   15  \n",
       "[3,] 24   24   24  "
      ]
     },
     "metadata": {},
     "output_type": "display_data"
    },
    {
     "data": {
      "text/html": [
       "<table>\n",
       "<caption>A matrix: 3 × 3 of type dbl</caption>\n",
       "<tbody>\n",
       "\t<tr><td>1</td><td>2</td><td>3</td></tr>\n",
       "\t<tr><td>4</td><td>5</td><td>6</td></tr>\n",
       "\t<tr><td>7</td><td>8</td><td>9</td></tr>\n",
       "</tbody>\n",
       "</table>\n"
      ],
      "text/latex": [
       "A matrix: 3 × 3 of type dbl\n",
       "\\begin{tabular}{lll}\n",
       "\t 1 & 2 & 3\\\\\n",
       "\t 4 & 5 & 6\\\\\n",
       "\t 7 & 8 & 9\\\\\n",
       "\\end{tabular}\n"
      ],
      "text/markdown": [
       "\n",
       "A matrix: 3 × 3 of type dbl\n",
       "\n",
       "| 1 | 2 | 3 |\n",
       "| 4 | 5 | 6 |\n",
       "| 7 | 8 | 9 |\n",
       "\n"
      ],
      "text/plain": [
       "     [,1] [,2] [,3]\n",
       "[1,] 1    2    3   \n",
       "[2,] 4    5    6   \n",
       "[3,] 7    8    9   "
      ]
     },
     "metadata": {},
     "output_type": "display_data"
    }
   ],
   "source": [
    "M%*%N\n",
    "M%/%N"
   ]
  },
  {
   "cell_type": "markdown",
   "metadata": {},
   "source": [
    "If you've forgotten your matrix algebra then don't worry we'll go back over it in Week 5: Linear Algebra. The last and most important data structure is the dataframe. Dataframes are essentially the closest thing that R (and Python) have to spreadsheets and they are the bread and butter of data science. We *can* create dataframes but most of our analysis if probably going to be done with ones we've imported from the internet or from our laptops. Either way, we can create them as: "
   ]
  },
  {
   "cell_type": "code",
   "execution_count": 51,
   "metadata": {},
   "outputs": [
    {
     "name": "stdout",
     "output_type": "stream",
     "text": [
      "  A B C\n",
      "a 1 4 7\n",
      "b 2 5 8\n",
      "c 3 6 9\n"
     ]
    }
   ],
   "source": [
    "D<-data.frame(c(1,2,3),c(4,5,6),c(7,8,9))\n",
    "colnames(D)<-c('A','B','C')\n",
    "rownames(D)<-c('a','b','c')\n",
    "print(D)"
   ]
  },
  {
   "cell_type": "markdown",
   "metadata": {},
   "source": [
    "If it seems simple then that's because it is, but don't underestimate the power of being able to essentially use an Excel spreadsheet within a program as powerful as R (or later Python). Remember the table we imported last week and created the regression and heatmap with? That was a dataframe. One of the big advantages is that R doesn't need to show us the whole dataframe so it can easily handle them with hundreds of thousands or millions of entries. If we tried to use excel for those purposes it would probably crash eventually. As expected we can manipulate dataframes and index over them:"
   ]
  },
  {
   "cell_type": "code",
   "execution_count": 52,
   "metadata": {},
   "outputs": [
    {
     "name": "stdout",
     "output_type": "stream",
     "text": [
      "  A  B  C\n",
      "a 2  8 14\n",
      "b 4 10 16\n",
      "c 6 12 18\n"
     ]
    }
   ],
   "source": [
    "print(D*2)"
   ]
  },
  {
   "cell_type": "code",
   "execution_count": 53,
   "metadata": {},
   "outputs": [
    {
     "name": "stdout",
     "output_type": "stream",
     "text": [
      "  A\n",
      "a 1\n",
      "b 2\n",
      "c 3\n"
     ]
    }
   ],
   "source": [
    "print(D['A'])"
   ]
  },
  {
   "cell_type": "code",
   "execution_count": 54,
   "metadata": {},
   "outputs": [
    {
     "name": "stdout",
     "output_type": "stream",
     "text": [
      "  A\n",
      "a 1\n",
      "b 2\n",
      "c 3\n"
     ]
    }
   ],
   "source": [
    "print(D[1])"
   ]
  },
  {
   "cell_type": "markdown",
   "metadata": {},
   "source": [
    "As can be seen we can index over dataframes by their column names *AND* their column place numbers. We can do the same for rows, but place a comma after the first entry to indicate the entry is a row, not a column:"
   ]
  },
  {
   "cell_type": "code",
   "execution_count": 55,
   "metadata": {},
   "outputs": [
    {
     "name": "stdout",
     "output_type": "stream",
     "text": [
      "  A B C\n",
      "a 1 4 7\n"
     ]
    }
   ],
   "source": [
    "print(D['a',])"
   ]
  },
  {
   "cell_type": "code",
   "execution_count": 56,
   "metadata": {},
   "outputs": [
    {
     "name": "stdout",
     "output_type": "stream",
     "text": [
      "  A B C\n",
      "a 1 4 7\n"
     ]
    }
   ],
   "source": [
    "print(D[1,])"
   ]
  },
  {
   "cell_type": "markdown",
   "metadata": {},
   "source": [
    "We can also edit their entries which is extremely useful. "
   ]
  },
  {
   "cell_type": "code",
   "execution_count": 57,
   "metadata": {},
   "outputs": [],
   "source": [
    "D[1,2]<-5"
   ]
  },
  {
   "cell_type": "code",
   "execution_count": 58,
   "metadata": {},
   "outputs": [
    {
     "name": "stdout",
     "output_type": "stream",
     "text": [
      "  A B C\n",
      "a 1 5 7\n",
      "b 2 5 8\n",
      "c 3 6 9\n"
     ]
    }
   ],
   "source": [
    "print(D)"
   ]
  },
  {
   "cell_type": "markdown",
   "metadata": {},
   "source": [
    "Dataframes are really really **really** useful so make sure you get some familiarity with them."
   ]
  },
  {
   "cell_type": "markdown",
   "metadata": {},
   "source": [
    " ### Functions<a id='Functions'></a>\n",
    "\n"
   ]
  },
  {
   "cell_type": "markdown",
   "metadata": {},
   "source": [
    "R's functions are what really set it apart for statistical analysis and general mathematical applications (like metrics). Without having to do anything special we can instantly find $\\sin(23)$, find the mean and standard deviation of ${43.432,56.234,875.54,342.876,4.9689}$, round $\\pi$ to 37 digits and generate 29 random observations from the normal distribution $N(23,3214)$. Not convinced?"
   ]
  },
  {
   "cell_type": "code",
   "execution_count": 59,
   "metadata": {},
   "outputs": [
    {
     "data": {
      "text/html": [
       "-0.846220404175171"
      ],
      "text/latex": [
       "-0.846220404175171"
      ],
      "text/markdown": [
       "-0.846220404175171"
      ],
      "text/plain": [
       "[1] -0.8462204"
      ]
     },
     "metadata": {},
     "output_type": "display_data"
    }
   ],
   "source": [
    "sin(23)"
   ]
  },
  {
   "cell_type": "code",
   "execution_count": 60,
   "metadata": {},
   "outputs": [
    {
     "data": {
      "text/html": [
       "264.61018"
      ],
      "text/latex": [
       "264.61018"
      ],
      "text/markdown": [
       "264.61018"
      ],
      "text/plain": [
       "[1] 264.6102"
      ]
     },
     "metadata": {},
     "output_type": "display_data"
    },
    {
     "data": {
      "text/html": [
       "367.122185901727"
      ],
      "text/latex": [
       "367.122185901727"
      ],
      "text/markdown": [
       "367.122185901727"
      ],
      "text/plain": [
       "[1] 367.1222"
      ]
     },
     "metadata": {},
     "output_type": "display_data"
    }
   ],
   "source": [
    "mean(c(43.432,56.234,875.54,342.876,4.9689))\n",
    "sd(c(43.432,56.234,875.54,342.876,4.9689))"
   ]
  },
  {
   "cell_type": "code",
   "execution_count": 61,
   "metadata": {},
   "outputs": [
    {
     "data": {
      "text/html": [
       "3.14159265358979"
      ],
      "text/latex": [
       "3.14159265358979"
      ],
      "text/markdown": [
       "3.14159265358979"
      ],
      "text/plain": [
       "[1] 3.141593"
      ]
     },
     "metadata": {},
     "output_type": "display_data"
    }
   ],
   "source": [
    "round(pi,37)"
   ]
  },
  {
   "cell_type": "code",
   "execution_count": 62,
   "metadata": {},
   "outputs": [
    {
     "data": {
      "text/html": [
       "<ol class=list-inline>\n",
       "\t<li>2456.75183340699</li>\n",
       "\t<li>-5300.7007560526</li>\n",
       "\t<li>593.326401477294</li>\n",
       "\t<li>614.118919807109</li>\n",
       "\t<li>-3581.80967851826</li>\n",
       "\t<li>-977.831341285733</li>\n",
       "\t<li>1687.83549225573</li>\n",
       "\t<li>1026.16811032519</li>\n",
       "\t<li>1336.20859042736</li>\n",
       "\t<li>-5336.15176653798</li>\n",
       "\t<li>748.059139278359</li>\n",
       "\t<li>-1689.19432425622</li>\n",
       "\t<li>576.344824775299</li>\n",
       "\t<li>544.234004049417</li>\n",
       "\t<li>-5999.96670341832</li>\n",
       "\t<li>4764.12552692113</li>\n",
       "\t<li>-3287.3180852551</li>\n",
       "\t<li>404.473949590897</li>\n",
       "\t<li>1566.38466424086</li>\n",
       "\t<li>-3919.02247062576</li>\n",
       "\t<li>438.814607121474</li>\n",
       "\t<li>362.612423906747</li>\n",
       "\t<li>-325.744847566562</li>\n",
       "\t<li>-1213.99803631624</li>\n",
       "\t<li>-4359.38517051036</li>\n",
       "\t<li>151.611695200612</li>\n",
       "\t<li>599.57530285727</li>\n",
       "\t<li>1923.43144598707</li>\n",
       "\t<li>3016.97783925328</li>\n",
       "</ol>\n"
      ],
      "text/latex": [
       "\\begin{enumerate*}\n",
       "\\item 2456.75183340699\n",
       "\\item -5300.7007560526\n",
       "\\item 593.326401477294\n",
       "\\item 614.118919807109\n",
       "\\item -3581.80967851826\n",
       "\\item -977.831341285733\n",
       "\\item 1687.83549225573\n",
       "\\item 1026.16811032519\n",
       "\\item 1336.20859042736\n",
       "\\item -5336.15176653798\n",
       "\\item 748.059139278359\n",
       "\\item -1689.19432425622\n",
       "\\item 576.344824775299\n",
       "\\item 544.234004049417\n",
       "\\item -5999.96670341832\n",
       "\\item 4764.12552692113\n",
       "\\item -3287.3180852551\n",
       "\\item 404.473949590897\n",
       "\\item 1566.38466424086\n",
       "\\item -3919.02247062576\n",
       "\\item 438.814607121474\n",
       "\\item 362.612423906747\n",
       "\\item -325.744847566562\n",
       "\\item -1213.99803631624\n",
       "\\item -4359.38517051036\n",
       "\\item 151.611695200612\n",
       "\\item 599.57530285727\n",
       "\\item 1923.43144598707\n",
       "\\item 3016.97783925328\n",
       "\\end{enumerate*}\n"
      ],
      "text/markdown": [
       "1. 2456.75183340699\n",
       "2. -5300.7007560526\n",
       "3. 593.326401477294\n",
       "4. 614.118919807109\n",
       "5. -3581.80967851826\n",
       "6. -977.831341285733\n",
       "7. 1687.83549225573\n",
       "8. 1026.16811032519\n",
       "9. 1336.20859042736\n",
       "10. -5336.15176653798\n",
       "11. 748.059139278359\n",
       "12. -1689.19432425622\n",
       "13. 576.344824775299\n",
       "14. 544.234004049417\n",
       "15. -5999.96670341832\n",
       "16. 4764.12552692113\n",
       "17. -3287.3180852551\n",
       "18. 404.473949590897\n",
       "19. 1566.38466424086\n",
       "20. -3919.02247062576\n",
       "21. 438.814607121474\n",
       "22. 362.612423906747\n",
       "23. -325.744847566562\n",
       "24. -1213.99803631624\n",
       "25. -4359.38517051036\n",
       "26. 151.611695200612\n",
       "27. 599.57530285727\n",
       "28. 1923.43144598707\n",
       "29. 3016.97783925328\n",
       "\n",
       "\n"
      ],
      "text/plain": [
       " [1]  2456.7518 -5300.7008   593.3264   614.1189 -3581.8097  -977.8313\n",
       " [7]  1687.8355  1026.1681  1336.2086 -5336.1518   748.0591 -1689.1943\n",
       "[13]   576.3448   544.2340 -5999.9667  4764.1255 -3287.3181   404.4739\n",
       "[19]  1566.3847 -3919.0225   438.8146   362.6124  -325.7448 -1213.9980\n",
       "[25] -4359.3852   151.6117   599.5753  1923.4314  3016.9778"
      ]
     },
     "metadata": {},
     "output_type": "display_data"
    }
   ],
   "source": [
    "rnorm(29,23,3214)"
   ]
  },
  {
   "cell_type": "markdown",
   "metadata": {},
   "source": [
    "This might not seem like much but just take note of how little code this took. The command for $sin(x)$ is literally just `sin(x)`! We can't do this in Python or in many other free languages and that's why R is so useful. It'd be a fool's errand to try and list all the useful commands here but please check out: https://www.statmethods.net/management/functions.html for a good overview of what's possible."
   ]
  },
  {
   "cell_type": "markdown",
   "metadata": {},
   "source": [
    " ### Loops <a id='Loops'></a>\n",
    "\n"
   ]
  },
  {
   "cell_type": "markdown",
   "metadata": {},
   "source": [
    "We already saw loops in action when we printed the values between 1 and 100. This was an example of the `for` loop, which is the only one we will cover in R (as usual, the story's a little different for Python). The `for` loop works on the principle of '*for* everything in this collection of things, I'll do whatever you write next'. So in our original `for` loop:\n",
    "\n",
    "```R\n",
    "for (i in 1:100) print(i)\n",
    "```\n",
    "\n",
    "The `for` loop simply took each element in 1,2,...,100 and printed it. Why? Well `1:100` is simply the range of all numbers between 1 and 100 inclusive.\n"
   ]
  },
  {
   "cell_type": "code",
   "execution_count": 63,
   "metadata": {},
   "outputs": [
    {
     "data": {
      "text/html": [
       "<ol class=list-inline>\n",
       "\t<li>1</li>\n",
       "\t<li>2</li>\n",
       "\t<li>3</li>\n",
       "\t<li>4</li>\n",
       "\t<li>5</li>\n",
       "\t<li>6</li>\n",
       "\t<li>7</li>\n",
       "\t<li>8</li>\n",
       "\t<li>9</li>\n",
       "\t<li>10</li>\n",
       "\t<li>11</li>\n",
       "\t<li>12</li>\n",
       "\t<li>13</li>\n",
       "\t<li>14</li>\n",
       "\t<li>15</li>\n",
       "\t<li>16</li>\n",
       "\t<li>17</li>\n",
       "\t<li>18</li>\n",
       "\t<li>19</li>\n",
       "\t<li>20</li>\n",
       "\t<li>21</li>\n",
       "\t<li>22</li>\n",
       "\t<li>23</li>\n",
       "\t<li>24</li>\n",
       "\t<li>25</li>\n",
       "\t<li>26</li>\n",
       "\t<li>27</li>\n",
       "\t<li>28</li>\n",
       "\t<li>29</li>\n",
       "\t<li>30</li>\n",
       "\t<li>31</li>\n",
       "\t<li>32</li>\n",
       "\t<li>33</li>\n",
       "\t<li>34</li>\n",
       "\t<li>35</li>\n",
       "\t<li>36</li>\n",
       "\t<li>37</li>\n",
       "\t<li>38</li>\n",
       "\t<li>39</li>\n",
       "\t<li>40</li>\n",
       "\t<li>41</li>\n",
       "\t<li>42</li>\n",
       "\t<li>43</li>\n",
       "\t<li>44</li>\n",
       "\t<li>45</li>\n",
       "\t<li>46</li>\n",
       "\t<li>47</li>\n",
       "\t<li>48</li>\n",
       "\t<li>49</li>\n",
       "\t<li>50</li>\n",
       "\t<li>51</li>\n",
       "\t<li>52</li>\n",
       "\t<li>53</li>\n",
       "\t<li>54</li>\n",
       "\t<li>55</li>\n",
       "\t<li>56</li>\n",
       "\t<li>57</li>\n",
       "\t<li>58</li>\n",
       "\t<li>59</li>\n",
       "\t<li>60</li>\n",
       "\t<li>61</li>\n",
       "\t<li>62</li>\n",
       "\t<li>63</li>\n",
       "\t<li>64</li>\n",
       "\t<li>65</li>\n",
       "\t<li>66</li>\n",
       "\t<li>67</li>\n",
       "\t<li>68</li>\n",
       "\t<li>69</li>\n",
       "\t<li>70</li>\n",
       "\t<li>71</li>\n",
       "\t<li>72</li>\n",
       "\t<li>73</li>\n",
       "\t<li>74</li>\n",
       "\t<li>75</li>\n",
       "\t<li>76</li>\n",
       "\t<li>77</li>\n",
       "\t<li>78</li>\n",
       "\t<li>79</li>\n",
       "\t<li>80</li>\n",
       "\t<li>81</li>\n",
       "\t<li>82</li>\n",
       "\t<li>83</li>\n",
       "\t<li>84</li>\n",
       "\t<li>85</li>\n",
       "\t<li>86</li>\n",
       "\t<li>87</li>\n",
       "\t<li>88</li>\n",
       "\t<li>89</li>\n",
       "\t<li>90</li>\n",
       "\t<li>91</li>\n",
       "\t<li>92</li>\n",
       "\t<li>93</li>\n",
       "\t<li>94</li>\n",
       "\t<li>95</li>\n",
       "\t<li>96</li>\n",
       "\t<li>97</li>\n",
       "\t<li>98</li>\n",
       "\t<li>99</li>\n",
       "\t<li>100</li>\n",
       "</ol>\n"
      ],
      "text/latex": [
       "\\begin{enumerate*}\n",
       "\\item 1\n",
       "\\item 2\n",
       "\\item 3\n",
       "\\item 4\n",
       "\\item 5\n",
       "\\item 6\n",
       "\\item 7\n",
       "\\item 8\n",
       "\\item 9\n",
       "\\item 10\n",
       "\\item 11\n",
       "\\item 12\n",
       "\\item 13\n",
       "\\item 14\n",
       "\\item 15\n",
       "\\item 16\n",
       "\\item 17\n",
       "\\item 18\n",
       "\\item 19\n",
       "\\item 20\n",
       "\\item 21\n",
       "\\item 22\n",
       "\\item 23\n",
       "\\item 24\n",
       "\\item 25\n",
       "\\item 26\n",
       "\\item 27\n",
       "\\item 28\n",
       "\\item 29\n",
       "\\item 30\n",
       "\\item 31\n",
       "\\item 32\n",
       "\\item 33\n",
       "\\item 34\n",
       "\\item 35\n",
       "\\item 36\n",
       "\\item 37\n",
       "\\item 38\n",
       "\\item 39\n",
       "\\item 40\n",
       "\\item 41\n",
       "\\item 42\n",
       "\\item 43\n",
       "\\item 44\n",
       "\\item 45\n",
       "\\item 46\n",
       "\\item 47\n",
       "\\item 48\n",
       "\\item 49\n",
       "\\item 50\n",
       "\\item 51\n",
       "\\item 52\n",
       "\\item 53\n",
       "\\item 54\n",
       "\\item 55\n",
       "\\item 56\n",
       "\\item 57\n",
       "\\item 58\n",
       "\\item 59\n",
       "\\item 60\n",
       "\\item 61\n",
       "\\item 62\n",
       "\\item 63\n",
       "\\item 64\n",
       "\\item 65\n",
       "\\item 66\n",
       "\\item 67\n",
       "\\item 68\n",
       "\\item 69\n",
       "\\item 70\n",
       "\\item 71\n",
       "\\item 72\n",
       "\\item 73\n",
       "\\item 74\n",
       "\\item 75\n",
       "\\item 76\n",
       "\\item 77\n",
       "\\item 78\n",
       "\\item 79\n",
       "\\item 80\n",
       "\\item 81\n",
       "\\item 82\n",
       "\\item 83\n",
       "\\item 84\n",
       "\\item 85\n",
       "\\item 86\n",
       "\\item 87\n",
       "\\item 88\n",
       "\\item 89\n",
       "\\item 90\n",
       "\\item 91\n",
       "\\item 92\n",
       "\\item 93\n",
       "\\item 94\n",
       "\\item 95\n",
       "\\item 96\n",
       "\\item 97\n",
       "\\item 98\n",
       "\\item 99\n",
       "\\item 100\n",
       "\\end{enumerate*}\n"
      ],
      "text/markdown": [
       "1. 1\n",
       "2. 2\n",
       "3. 3\n",
       "4. 4\n",
       "5. 5\n",
       "6. 6\n",
       "7. 7\n",
       "8. 8\n",
       "9. 9\n",
       "10. 10\n",
       "11. 11\n",
       "12. 12\n",
       "13. 13\n",
       "14. 14\n",
       "15. 15\n",
       "16. 16\n",
       "17. 17\n",
       "18. 18\n",
       "19. 19\n",
       "20. 20\n",
       "21. 21\n",
       "22. 22\n",
       "23. 23\n",
       "24. 24\n",
       "25. 25\n",
       "26. 26\n",
       "27. 27\n",
       "28. 28\n",
       "29. 29\n",
       "30. 30\n",
       "31. 31\n",
       "32. 32\n",
       "33. 33\n",
       "34. 34\n",
       "35. 35\n",
       "36. 36\n",
       "37. 37\n",
       "38. 38\n",
       "39. 39\n",
       "40. 40\n",
       "41. 41\n",
       "42. 42\n",
       "43. 43\n",
       "44. 44\n",
       "45. 45\n",
       "46. 46\n",
       "47. 47\n",
       "48. 48\n",
       "49. 49\n",
       "50. 50\n",
       "51. 51\n",
       "52. 52\n",
       "53. 53\n",
       "54. 54\n",
       "55. 55\n",
       "56. 56\n",
       "57. 57\n",
       "58. 58\n",
       "59. 59\n",
       "60. 60\n",
       "61. 61\n",
       "62. 62\n",
       "63. 63\n",
       "64. 64\n",
       "65. 65\n",
       "66. 66\n",
       "67. 67\n",
       "68. 68\n",
       "69. 69\n",
       "70. 70\n",
       "71. 71\n",
       "72. 72\n",
       "73. 73\n",
       "74. 74\n",
       "75. 75\n",
       "76. 76\n",
       "77. 77\n",
       "78. 78\n",
       "79. 79\n",
       "80. 80\n",
       "81. 81\n",
       "82. 82\n",
       "83. 83\n",
       "84. 84\n",
       "85. 85\n",
       "86. 86\n",
       "87. 87\n",
       "88. 88\n",
       "89. 89\n",
       "90. 90\n",
       "91. 91\n",
       "92. 92\n",
       "93. 93\n",
       "94. 94\n",
       "95. 95\n",
       "96. 96\n",
       "97. 97\n",
       "98. 98\n",
       "99. 99\n",
       "100. 100\n",
       "\n",
       "\n"
      ],
      "text/plain": [
       "  [1]   1   2   3   4   5   6   7   8   9  10  11  12  13  14  15  16  17  18\n",
       " [19]  19  20  21  22  23  24  25  26  27  28  29  30  31  32  33  34  35  36\n",
       " [37]  37  38  39  40  41  42  43  44  45  46  47  48  49  50  51  52  53  54\n",
       " [55]  55  56  57  58  59  60  61  62  63  64  65  66  67  68  69  70  71  72\n",
       " [73]  73  74  75  76  77  78  79  80  81  82  83  84  85  86  87  88  89  90\n",
       " [91]  91  92  93  94  95  96  97  98  99 100"
      ]
     },
     "metadata": {},
     "output_type": "display_data"
    }
   ],
   "source": [
    "1:100"
   ]
  },
  {
   "cell_type": "markdown",
   "metadata": {},
   "source": [
    "We can write `for` loops over any collection of objects with the same structure, for, the brackets, then the collection of objects, then closed brackets, then the command. So another example is: "
   ]
  },
  {
   "cell_type": "code",
   "execution_count": 64,
   "metadata": {},
   "outputs": [
    {
     "name": "stdout",
     "output_type": "stream",
     "text": [
      "[1] \"H\"\n",
      "[1] \"a\"\n",
      "[1] \"n\"\n",
      "[1] \"d\"\n",
      "[1] \"s\"\n",
      "[1] \" \"\n",
      "[1] \"O\"\n",
      "[1] \"n\"\n",
      "[1] \" \"\n",
      "[1] \"E\"\n",
      "[1] \"c\"\n",
      "[1] \"o\"\n",
      "[1] \"n\"\n"
     ]
    }
   ],
   "source": [
    "a<-c('H','a','n','d','s',' ','O','n',' ','E','c','o','n')\n",
    "for (i in a) print(i)"
   ]
  },
  {
   "cell_type": "markdown",
   "metadata": {},
   "source": [
    "`for` loops can be used for a huge amount of applications and we won't go through them here but you'll see plenty throughout the course in R and Python."
   ]
  },
  {
   "cell_type": "markdown",
   "metadata": {},
   "source": [
    "  ### Importing files<a id='Importing files'></a>\n",
    "\n"
   ]
  },
  {
   "cell_type": "markdown",
   "metadata": {},
   "source": [
    "Importing files is an extremely important part of learning to code in R. It's the step when we upgrade from having a cool toy to a powerful tool. The main type of file we're likely to be importing is the '**c**omma **s**eperated **v**ariable'  file, which uses the extension .csv, and is also just known as a csv. csv's are essentially best thought of as just text files (like a Word document for example) where each row constitutes the row of a table and each comma constitutes a different column. So for example:\n",
    "\n",
    "```\n",
    "a,b\n",
    "c,d\n",
    "```\n",
    "\n",
    "is the csv version of:"
   ]
  },
  {
   "cell_type": "code",
   "execution_count": 65,
   "metadata": {},
   "outputs": [
    {
     "data": {
      "text/html": [
       "<table>\n",
       "<caption>A matrix: 2 × 2 of type chr</caption>\n",
       "<tbody>\n",
       "\t<tr><td>a</td><td>b</td></tr>\n",
       "\t<tr><td>c</td><td>d</td></tr>\n",
       "</tbody>\n",
       "</table>\n"
      ],
      "text/latex": [
       "A matrix: 2 × 2 of type chr\n",
       "\\begin{tabular}{ll}\n",
       "\t a & b\\\\\n",
       "\t c & d\\\\\n",
       "\\end{tabular}\n"
      ],
      "text/markdown": [
       "\n",
       "A matrix: 2 × 2 of type chr\n",
       "\n",
       "| a | b |\n",
       "| c | d |\n",
       "\n"
      ],
      "text/plain": [
       "     [,1] [,2]\n",
       "[1,] a    b   \n",
       "[2,] c    d   "
      ]
     },
     "metadata": {},
     "output_type": "display_data"
    }
   ],
   "source": [
    "matrix(c('a','b','c','d'),ncol=2,byrow=T)"
   ]
  },
  {
   "cell_type": "markdown",
   "metadata": {},
   "source": [
    "Every Excel file can be easily saved as a csv when you choose 'Save As' and most databases are likely to have the file you need in a .csv format. We'll get to what to do if they don't later in the course but right now if you can import, open and use any csv file from the web or your computer then you'll be doing pretty well. So let's import our first csv from the web:"
   ]
  },
  {
   "cell_type": "code",
   "execution_count": 66,
   "metadata": {},
   "outputs": [],
   "source": [
    "data <- read.csv('https://data.bls.gov/cew/data/api/2017/3/area/29000.csv')"
   ]
  },
  {
   "cell_type": "code",
   "execution_count": 67,
   "metadata": {},
   "outputs": [
    {
     "data": {
      "text/html": [
       "<table>\n",
       "<caption>A data.frame: 10 × 42</caption>\n",
       "<thead>\n",
       "\t<tr><th scope=col>area_fips</th><th scope=col>own_code</th><th scope=col>industry_code</th><th scope=col>agglvl_code</th><th scope=col>size_code</th><th scope=col>year</th><th scope=col>qtr</th><th scope=col>disclosure_code</th><th scope=col>qtrly_estabs</th><th scope=col>month1_emplvl</th><th scope=col>⋯</th><th scope=col>oty_month3_emplvl_chg</th><th scope=col>oty_month3_emplvl_pct_chg</th><th scope=col>oty_total_qtrly_wages_chg</th><th scope=col>oty_total_qtrly_wages_pct_chg</th><th scope=col>oty_taxable_qtrly_wages_chg</th><th scope=col>oty_taxable_qtrly_wages_pct_chg</th><th scope=col>oty_qtrly_contributions_chg</th><th scope=col>oty_qtrly_contributions_pct_chg</th><th scope=col>oty_avg_wkly_wage_chg</th><th scope=col>oty_avg_wkly_wage_pct_chg</th></tr>\n",
       "\t<tr><th scope=col>&lt;int&gt;</th><th scope=col>&lt;int&gt;</th><th scope=col>&lt;fct&gt;</th><th scope=col>&lt;int&gt;</th><th scope=col>&lt;int&gt;</th><th scope=col>&lt;int&gt;</th><th scope=col>&lt;int&gt;</th><th scope=col>&lt;fct&gt;</th><th scope=col>&lt;int&gt;</th><th scope=col>&lt;int&gt;</th><th scope=col>⋯</th><th scope=col>&lt;int&gt;</th><th scope=col>&lt;dbl&gt;</th><th scope=col>&lt;int&gt;</th><th scope=col>&lt;dbl&gt;</th><th scope=col>&lt;int&gt;</th><th scope=col>&lt;dbl&gt;</th><th scope=col>&lt;int&gt;</th><th scope=col>&lt;dbl&gt;</th><th scope=col>&lt;int&gt;</th><th scope=col>&lt;dbl&gt;</th></tr>\n",
       "</thead>\n",
       "<tbody>\n",
       "\t<tr><td>29000</td><td>0</td><td>10  </td><td>50</td><td>0</td><td>2017</td><td>3</td><td></td><td>207545</td><td>2730455</td><td>⋯</td><td>19016</td><td> 0.7</td><td>-132708019</td><td> -0.4</td><td>-72239618</td><td>-1.8</td><td>-21796208</td><td>-28.5</td><td> -11</td><td> -1.2</td></tr>\n",
       "\t<tr><td>29000</td><td>1</td><td>10  </td><td>51</td><td>0</td><td>2017</td><td>3</td><td></td><td>  1656</td><td>  55063</td><td>⋯</td><td> -298</td><td>-0.5</td><td> -44209090</td><td> -4.5</td><td>        0</td><td> 0.0</td><td>        0</td><td>  0.0</td><td> -59</td><td> -4.3</td></tr>\n",
       "\t<tr><td>29000</td><td>1</td><td>101 </td><td>52</td><td>0</td><td>2017</td><td>3</td><td></td><td>     2</td><td>      1</td><td>⋯</td><td>    0</td><td> 0.0</td><td>       310</td><td>  1.3</td><td>        0</td><td> 0.0</td><td>        0</td><td>  0.0</td><td>  24</td><td>  1.3</td></tr>\n",
       "\t<tr><td>29000</td><td>1</td><td>1013</td><td>53</td><td>0</td><td>2017</td><td>3</td><td></td><td>     2</td><td>      1</td><td>⋯</td><td>    0</td><td> 0.0</td><td>       310</td><td>  1.3</td><td>        0</td><td> 0.0</td><td>        0</td><td>  0.0</td><td>  24</td><td>  1.3</td></tr>\n",
       "\t<tr><td>29000</td><td>1</td><td>102 </td><td>52</td><td>0</td><td>2017</td><td>3</td><td></td><td>  1654</td><td>  55062</td><td>⋯</td><td> -298</td><td>-0.5</td><td> -44209400</td><td> -4.5</td><td>        0</td><td> 0.0</td><td>        0</td><td>  0.0</td><td> -59</td><td> -4.3</td></tr>\n",
       "\t<tr><td>29000</td><td>1</td><td>1021</td><td>53</td><td>0</td><td>2017</td><td>3</td><td></td><td>   872</td><td>  15391</td><td>⋯</td><td>  -67</td><td>-0.4</td><td> -32402315</td><td>-14.4</td><td>        0</td><td> 0.0</td><td>        0</td><td>  0.0</td><td>-163</td><td>-14.4</td></tr>\n",
       "\t<tr><td>29000</td><td>1</td><td>1022</td><td>53</td><td>0</td><td>2017</td><td>3</td><td></td><td>     6</td><td>    802</td><td>⋯</td><td>  -52</td><td>-6.1</td><td>    143513</td><td>  1.4</td><td>        0</td><td> 0.0</td><td>        0</td><td>  0.0</td><td>  58</td><td>  6.3</td></tr>\n",
       "\t<tr><td>29000</td><td>1</td><td>1023</td><td>53</td><td>0</td><td>2017</td><td>3</td><td></td><td>    36</td><td>   1429</td><td>⋯</td><td>   31</td><td> 2.3</td><td>    443858</td><td>  1.4</td><td>        0</td><td> 0.0</td><td>        0</td><td>  0.0</td><td> -26</td><td> -1.5</td></tr>\n",
       "\t<tr><td>29000</td><td>1</td><td>1024</td><td>53</td><td>0</td><td>2017</td><td>3</td><td></td><td>    38</td><td>   1491</td><td>⋯</td><td>   -7</td><td>-0.5</td><td>   1037197</td><td>  3.3</td><td>        0</td><td> 0.0</td><td>        0</td><td>  0.0</td><td>  61</td><td>  3.7</td></tr>\n",
       "\t<tr><td>29000</td><td>1</td><td>1025</td><td>53</td><td>0</td><td>2017</td><td>3</td><td></td><td>    27</td><td>   9858</td><td>⋯</td><td>  327</td><td> 3.4</td><td> -10169495</td><td> -5.5</td><td>        0</td><td> 0.0</td><td>        0</td><td>  0.0</td><td>-119</td><td> -8.1</td></tr>\n",
       "</tbody>\n",
       "</table>\n"
      ],
      "text/latex": [
       "A data.frame: 10 × 42\n",
       "\\begin{tabular}{r|llllllllllllllllllllllllllllllllllllllllll}\n",
       " area\\_fips & own\\_code & industry\\_code & agglvl\\_code & size\\_code & year & qtr & disclosure\\_code & qtrly\\_estabs & month1\\_emplvl & month2\\_emplvl & month3\\_emplvl & total\\_qtrly\\_wages & taxable\\_qtrly\\_wages & qtrly\\_contributions & avg\\_wkly\\_wage & lq\\_disclosure\\_code & lq\\_qtrly\\_estabs & lq\\_month1\\_emplvl & lq\\_month2\\_emplvl & lq\\_month3\\_emplvl & lq\\_total\\_qtrly\\_wages & lq\\_taxable\\_qtrly\\_wages & lq\\_qtrly\\_contributions & lq\\_avg\\_wkly\\_wage & oty\\_disclosure\\_code & oty\\_qtrly\\_estabs\\_chg & oty\\_qtrly\\_estabs\\_pct\\_chg & oty\\_month1\\_emplvl\\_chg & oty\\_month1\\_emplvl\\_pct\\_chg & oty\\_month2\\_emplvl\\_chg & oty\\_month2\\_emplvl\\_pct\\_chg & oty\\_month3\\_emplvl\\_chg & oty\\_month3\\_emplvl\\_pct\\_chg & oty\\_total\\_qtrly\\_wages\\_chg & oty\\_total\\_qtrly\\_wages\\_pct\\_chg & oty\\_taxable\\_qtrly\\_wages\\_chg & oty\\_taxable\\_qtrly\\_wages\\_pct\\_chg & oty\\_qtrly\\_contributions\\_chg & oty\\_qtrly\\_contributions\\_pct\\_chg & oty\\_avg\\_wkly\\_wage\\_chg & oty\\_avg\\_wkly\\_wage\\_pct\\_chg\\\\\n",
       " <int> & <int> & <fct> & <int> & <int> & <int> & <int> & <fct> & <int> & <int> & <int> & <int> & <dbl> & <dbl> & <int> & <int> & <fct> & <dbl> & <dbl> & <dbl> & <dbl> & <dbl> & <dbl> & <dbl> & <dbl> & <fct> & <int> & <dbl> & <int> & <dbl> & <int> & <dbl> & <int> & <dbl> & <int> & <dbl> & <int> & <dbl> & <int> & <dbl> & <int> & <dbl>\\\\\n",
       "\\hline\n",
       "\t 29000 & 0 & 10   & 50 & 0 & 2017 & 3 &  & 207545 & 2730455 & 2762786 & 2800944 & 31558246038 & 3860231413 & 54596087 &  878 &  & 1.00 & 1.00 & 1.00 & 1.00 & 1.00 & 1 & 1 & 1.00 &  & 14090 &  7.3 & 21934 &  0.8 & 22366 &  0.8 & 19016 &  0.7 & -132708019 &  -0.4 & -72239618 & -1.8 & -21796208 & -28.5 &  -11 &  -1.2\\\\\n",
       "\t 29000 & 1 & 10   & 51 & 0 & 2017 & 3 &  &   1656 &   55063 &   54506 &   54542 &   933874434 &          0 &        0 & 1313 &  & 1.32 & 1.02 & 1.01 & 1.00 & 1.00 & 0 & 0 & 0.99 &  &    -6 & -0.4 &   -61 & -0.1 &   -41 & -0.1 &  -298 & -0.5 &  -44209090 &  -4.5 &         0 &  0.0 &         0 &   0.0 &  -59 &  -4.3\\\\\n",
       "\t 29000 & 1 & 101  & 52 & 0 & 2017 & 3 &  &      2 &       1 &       1 &       1 &       24041 &          0 &        0 & 1849 &  & 0.81 & 0.00 & 0.00 & 0.00 & 0.00 & 0 & 0 & 1.40 &  &     0 &  0.0 &     0 &  0.0 &     0 &  0.0 &     0 &  0.0 &        310 &   1.3 &         0 &  0.0 &         0 &   0.0 &   24 &   1.3\\\\\n",
       "\t 29000 & 1 & 1013 & 53 & 0 & 2017 & 3 &  &      2 &       1 &       1 &       1 &       24041 &          0 &        0 & 1849 &  & 2.07 & 0.00 & 0.00 & 0.00 & 0.00 & 0 & 0 & 1.41 &  &     0 &  0.0 &     0 &  0.0 &     0 &  0.0 &     0 &  0.0 &        310 &   1.3 &         0 &  0.0 &         0 &   0.0 &   24 &   1.3\\\\\n",
       "\t 29000 & 1 & 102  & 52 & 0 & 2017 & 3 &  &   1654 &   55062 &   54505 &   54541 &   933850393 &          0 &        0 & 1313 &  & 1.32 & 1.04 & 1.03 & 1.02 & 1.02 & 0 & 0 & 0.99 &  &    -6 & -0.4 &   -61 & -0.1 &   -41 & -0.1 &  -298 & -0.5 &  -44209400 &  -4.5 &         0 &  0.0 &         0 &   0.0 &  -59 &  -4.3\\\\\n",
       "\t 29000 & 1 & 1021 & 53 & 0 & 2017 & 3 &  &    872 &   15391 &   15282 &   15321 &   193307250 &          0 &        0 &  970 &  & 1.38 & 1.18 & 1.17 & 1.16 & 1.24 & 0 & 0 & 1.06 &  &    -6 & -0.7 &   135 &  0.9 &   -41 & -0.3 &   -67 & -0.4 &  -32402315 & -14.4 &         0 &  0.0 &         0 &   0.0 & -163 & -14.4\\\\\n",
       "\t 29000 & 1 & 1022 & 53 & 0 & 2017 & 3 &  &      6 &     802 &     796 &     800 &    10156338 &          0 &        0 &  977 &  & 2.30 & 6.34 & 6.31 & 6.23 & 4.40 & 0 & 0 & 0.70 &  &     0 &  0.0 &   -18 & -2.2 &   -47 & -5.6 &   -52 & -6.1 &     143513 &   1.4 &         0 &  0.0 &         0 &   0.0 &   58 &   6.3\\\\\n",
       "\t 29000 & 1 & 1023 & 53 & 0 & 2017 & 3 &  &     36 &    1429 &    1418 &    1405 &    31312189 &          0 &        0 & 1699 &  & 2.10 & 5.75 & 5.70 & 5.67 & 4.93 & 0 & 0 & 0.86 &  &     1 &  2.9 &    46 &  3.3 &    46 &  3.4 &    31 &  2.3 &     443858 &   1.4 &         0 &  0.0 &         0 &   0.0 &  -26 &  -1.5\\\\\n",
       "\t 29000 & 1 & 1024 & 53 & 0 & 2017 & 3 &  &     38 &    1491 &    1500 &    1486 &    32892213 &          0 &        0 & 1695 &  & 1.24 & 1.18 & 1.19 & 1.17 & 1.32 & 0 & 0 & 1.12 &  &     0 &  0.0 &    -8 & -0.5 &    -8 & -0.5 &    -7 & -0.5 &    1037197 &   3.3 &         0 &  0.0 &         0 &   0.0 &   61 &   3.7\\\\\n",
       "\t 29000 & 1 & 1025 & 53 & 0 & 2017 & 3 &  &     27 &    9858 &    9905 &    9979 &   175001236 &          0 &        0 & 1358 &  & 0.93 & 1.27 & 1.26 & 1.26 & 1.39 & 0 & 0 & 1.10 &  &    -1 & -3.6 &   211 &  2.2 &   278 &  2.9 &   327 &  3.4 &  -10169495 &  -5.5 &         0 &  0.0 &         0 &   0.0 & -119 &  -8.1\\\\\n",
       "\\end{tabular}\n"
      ],
      "text/markdown": [
       "\n",
       "A data.frame: 10 × 42\n",
       "\n",
       "| area_fips &lt;int&gt; | own_code &lt;int&gt; | industry_code &lt;fct&gt; | agglvl_code &lt;int&gt; | size_code &lt;int&gt; | year &lt;int&gt; | qtr &lt;int&gt; | disclosure_code &lt;fct&gt; | qtrly_estabs &lt;int&gt; | month1_emplvl &lt;int&gt; | ⋯ ⋯ | oty_month3_emplvl_chg &lt;int&gt; | oty_month3_emplvl_pct_chg &lt;dbl&gt; | oty_total_qtrly_wages_chg &lt;int&gt; | oty_total_qtrly_wages_pct_chg &lt;dbl&gt; | oty_taxable_qtrly_wages_chg &lt;int&gt; | oty_taxable_qtrly_wages_pct_chg &lt;dbl&gt; | oty_qtrly_contributions_chg &lt;int&gt; | oty_qtrly_contributions_pct_chg &lt;dbl&gt; | oty_avg_wkly_wage_chg &lt;int&gt; | oty_avg_wkly_wage_pct_chg &lt;dbl&gt; |\n",
       "|---|---|---|---|---|---|---|---|---|---|---|---|---|---|---|---|---|---|---|---|---|\n",
       "| 29000 | 0 | 10   | 50 | 0 | 2017 | 3 | <!----> | 207545 | 2730455 | ⋯ | 19016 |  0.7 | -132708019 |  -0.4 | -72239618 | -1.8 | -21796208 | -28.5 |  -11 |  -1.2 |\n",
       "| 29000 | 1 | 10   | 51 | 0 | 2017 | 3 | <!----> |   1656 |   55063 | ⋯ |  -298 | -0.5 |  -44209090 |  -4.5 |         0 |  0.0 |         0 |   0.0 |  -59 |  -4.3 |\n",
       "| 29000 | 1 | 101  | 52 | 0 | 2017 | 3 | <!----> |      2 |       1 | ⋯ |     0 |  0.0 |        310 |   1.3 |         0 |  0.0 |         0 |   0.0 |   24 |   1.3 |\n",
       "| 29000 | 1 | 1013 | 53 | 0 | 2017 | 3 | <!----> |      2 |       1 | ⋯ |     0 |  0.0 |        310 |   1.3 |         0 |  0.0 |         0 |   0.0 |   24 |   1.3 |\n",
       "| 29000 | 1 | 102  | 52 | 0 | 2017 | 3 | <!----> |   1654 |   55062 | ⋯ |  -298 | -0.5 |  -44209400 |  -4.5 |         0 |  0.0 |         0 |   0.0 |  -59 |  -4.3 |\n",
       "| 29000 | 1 | 1021 | 53 | 0 | 2017 | 3 | <!----> |    872 |   15391 | ⋯ |   -67 | -0.4 |  -32402315 | -14.4 |         0 |  0.0 |         0 |   0.0 | -163 | -14.4 |\n",
       "| 29000 | 1 | 1022 | 53 | 0 | 2017 | 3 | <!----> |      6 |     802 | ⋯ |   -52 | -6.1 |     143513 |   1.4 |         0 |  0.0 |         0 |   0.0 |   58 |   6.3 |\n",
       "| 29000 | 1 | 1023 | 53 | 0 | 2017 | 3 | <!----> |     36 |    1429 | ⋯ |    31 |  2.3 |     443858 |   1.4 |         0 |  0.0 |         0 |   0.0 |  -26 |  -1.5 |\n",
       "| 29000 | 1 | 1024 | 53 | 0 | 2017 | 3 | <!----> |     38 |    1491 | ⋯ |    -7 | -0.5 |    1037197 |   3.3 |         0 |  0.0 |         0 |   0.0 |   61 |   3.7 |\n",
       "| 29000 | 1 | 1025 | 53 | 0 | 2017 | 3 | <!----> |     27 |    9858 | ⋯ |   327 |  3.4 |  -10169495 |  -5.5 |         0 |  0.0 |         0 |   0.0 | -119 |  -8.1 |\n",
       "\n"
      ],
      "text/plain": [
       "   area_fips own_code industry_code agglvl_code size_code year qtr\n",
       "1  29000     0        10            50          0         2017 3  \n",
       "2  29000     1        10            51          0         2017 3  \n",
       "3  29000     1        101           52          0         2017 3  \n",
       "4  29000     1        1013          53          0         2017 3  \n",
       "5  29000     1        102           52          0         2017 3  \n",
       "6  29000     1        1021          53          0         2017 3  \n",
       "7  29000     1        1022          53          0         2017 3  \n",
       "8  29000     1        1023          53          0         2017 3  \n",
       "9  29000     1        1024          53          0         2017 3  \n",
       "10 29000     1        1025          53          0         2017 3  \n",
       "   disclosure_code qtrly_estabs month1_emplvl ⋯ oty_month3_emplvl_chg\n",
       "1                  207545       2730455       ⋯ 19016                \n",
       "2                    1656         55063       ⋯  -298                \n",
       "3                       2             1       ⋯     0                \n",
       "4                       2             1       ⋯     0                \n",
       "5                    1654         55062       ⋯  -298                \n",
       "6                     872         15391       ⋯   -67                \n",
       "7                       6           802       ⋯   -52                \n",
       "8                      36          1429       ⋯    31                \n",
       "9                      38          1491       ⋯    -7                \n",
       "10                     27          9858       ⋯   327                \n",
       "   oty_month3_emplvl_pct_chg oty_total_qtrly_wages_chg\n",
       "1   0.7                      -132708019               \n",
       "2  -0.5                       -44209090               \n",
       "3   0.0                             310               \n",
       "4   0.0                             310               \n",
       "5  -0.5                       -44209400               \n",
       "6  -0.4                       -32402315               \n",
       "7  -6.1                          143513               \n",
       "8   2.3                          443858               \n",
       "9  -0.5                         1037197               \n",
       "10  3.4                       -10169495               \n",
       "   oty_total_qtrly_wages_pct_chg oty_taxable_qtrly_wages_chg\n",
       "1   -0.4                         -72239618                  \n",
       "2   -4.5                                 0                  \n",
       "3    1.3                                 0                  \n",
       "4    1.3                                 0                  \n",
       "5   -4.5                                 0                  \n",
       "6  -14.4                                 0                  \n",
       "7    1.4                                 0                  \n",
       "8    1.4                                 0                  \n",
       "9    3.3                                 0                  \n",
       "10  -5.5                                 0                  \n",
       "   oty_taxable_qtrly_wages_pct_chg oty_qtrly_contributions_chg\n",
       "1  -1.8                            -21796208                  \n",
       "2   0.0                                    0                  \n",
       "3   0.0                                    0                  \n",
       "4   0.0                                    0                  \n",
       "5   0.0                                    0                  \n",
       "6   0.0                                    0                  \n",
       "7   0.0                                    0                  \n",
       "8   0.0                                    0                  \n",
       "9   0.0                                    0                  \n",
       "10  0.0                                    0                  \n",
       "   oty_qtrly_contributions_pct_chg oty_avg_wkly_wage_chg\n",
       "1  -28.5                            -11                 \n",
       "2    0.0                            -59                 \n",
       "3    0.0                             24                 \n",
       "4    0.0                             24                 \n",
       "5    0.0                            -59                 \n",
       "6    0.0                           -163                 \n",
       "7    0.0                             58                 \n",
       "8    0.0                            -26                 \n",
       "9    0.0                             61                 \n",
       "10   0.0                           -119                 \n",
       "   oty_avg_wkly_wage_pct_chg\n",
       "1   -1.2                    \n",
       "2   -4.3                    \n",
       "3    1.3                    \n",
       "4    1.3                    \n",
       "5   -4.3                    \n",
       "6  -14.4                    \n",
       "7    6.3                    \n",
       "8   -1.5                    \n",
       "9    3.7                    \n",
       "10  -8.1                    "
      ]
     },
     "metadata": {},
     "output_type": "display_data"
    }
   ],
   "source": [
    "head(data,10)"
   ]
  },
  {
   "cell_type": "markdown",
   "metadata": {},
   "source": [
    "And so there we have it, our first file imported into R! In practice we won't really import many files directly from the web because most files we come across will be zipped which means R can't process them directly. Instead we'll import most of our files from our computers. To do this we first need to find where our file is stored. The easiest way to do this is to open a new terminal window, click and drag the file into the terminal and then to copy the file location to your clipboard (the place where command-c/control-c stores things). Once you've done this we can use the same `read.csv('...')` command but instead of putting a url between the quotation marks we put the file location. For example:\n",
    "\n",
    "```r \n",
    "read.csv('/Users/handsonecon/Downloads/ibrd-statement-of-loans-data/ibrd-statement-of-loans-latest-available-snapshot.csv')\n",
    "```\n",
    "\n",
    "Obviously all of you will have a different file path for what you download but as long as you tell R exactly (no extra spaces or anything else!) where the file is stored then you should have no problems importing it into your session. For an exercise try and download the file csv's located at: https://www.kaggle.com/AnalyzeBoston/crimes-in-boston and load them into R. It's good practice, and it is your first (real) look at Kaggle - an awesome site for data science. If you're looking for useful tutorials, datasets or want to compete in machine learning competitions for money (up to literally millions of dollars) then it's definitely the place for you.\n",
    "\n",
    "Not all of our files will be csv's obviously and we won't cover how to import all files here but one useful trick is `read.table()`. This command lets us read any file which is *like* a csv in the sense that its rows are table rows and its columns are separated by certain repeated characters. csvs' columns are separated by commas, obviously, so we could just as easily use `read.table()` to import the above csv, using the `sep` attribute to tell R our file's columns are comma-separated:"
   ]
  },
  {
   "cell_type": "code",
   "execution_count": 68,
   "metadata": {},
   "outputs": [],
   "source": [
    "data <- read.table('https://data.bls.gov/cew/data/api/2017/3/area/29000.csv',sep=',')"
   ]
  },
  {
   "cell_type": "code",
   "execution_count": 69,
   "metadata": {},
   "outputs": [
    {
     "data": {
      "text/html": [
       "<table>\n",
       "<caption>A data.frame: 10 × 42</caption>\n",
       "<thead>\n",
       "\t<tr><th scope=col>V1</th><th scope=col>V2</th><th scope=col>V3</th><th scope=col>V4</th><th scope=col>V5</th><th scope=col>V6</th><th scope=col>V7</th><th scope=col>V8</th><th scope=col>V9</th><th scope=col>V10</th><th scope=col>⋯</th><th scope=col>V33</th><th scope=col>V34</th><th scope=col>V35</th><th scope=col>V36</th><th scope=col>V37</th><th scope=col>V38</th><th scope=col>V39</th><th scope=col>V40</th><th scope=col>V41</th><th scope=col>V42</th></tr>\n",
       "\t<tr><th scope=col>&lt;fct&gt;</th><th scope=col>&lt;fct&gt;</th><th scope=col>&lt;fct&gt;</th><th scope=col>&lt;fct&gt;</th><th scope=col>&lt;fct&gt;</th><th scope=col>&lt;fct&gt;</th><th scope=col>&lt;fct&gt;</th><th scope=col>&lt;fct&gt;</th><th scope=col>&lt;fct&gt;</th><th scope=col>&lt;fct&gt;</th><th scope=col>⋯</th><th scope=col>&lt;fct&gt;</th><th scope=col>&lt;fct&gt;</th><th scope=col>&lt;fct&gt;</th><th scope=col>&lt;fct&gt;</th><th scope=col>&lt;fct&gt;</th><th scope=col>&lt;fct&gt;</th><th scope=col>&lt;fct&gt;</th><th scope=col>&lt;fct&gt;</th><th scope=col>&lt;fct&gt;</th><th scope=col>&lt;fct&gt;</th></tr>\n",
       "</thead>\n",
       "<tbody>\n",
       "\t<tr><td>area_fips</td><td>own_code</td><td>industry_code</td><td>agglvl_code</td><td>size_code</td><td>year</td><td>qtr</td><td>disclosure_code</td><td>qtrly_estabs</td><td>month1_emplvl</td><td>⋯</td><td>oty_month3_emplvl_chg</td><td>oty_month3_emplvl_pct_chg</td><td>oty_total_qtrly_wages_chg</td><td>oty_total_qtrly_wages_pct_chg</td><td>oty_taxable_qtrly_wages_chg</td><td>oty_taxable_qtrly_wages_pct_chg</td><td>oty_qtrly_contributions_chg</td><td>oty_qtrly_contributions_pct_chg</td><td>oty_avg_wkly_wage_chg</td><td>oty_avg_wkly_wage_pct_chg</td></tr>\n",
       "\t<tr><td>29000    </td><td>0       </td><td>10           </td><td>50         </td><td>0        </td><td>2017</td><td>3  </td><td>               </td><td>207545      </td><td>2730455      </td><td>⋯</td><td>19016                </td><td>0.7                      </td><td>-132708019               </td><td>-0.4                         </td><td>-72239618                  </td><td>-1.8                           </td><td>-21796208                  </td><td>-28.5                          </td><td>-11                  </td><td>-1.2                     </td></tr>\n",
       "\t<tr><td>29000    </td><td>1       </td><td>10           </td><td>51         </td><td>0        </td><td>2017</td><td>3  </td><td>               </td><td>1656        </td><td>55063        </td><td>⋯</td><td>-298                 </td><td>-0.5                     </td><td>-44209090                </td><td>-4.5                         </td><td>0                          </td><td>0.0                            </td><td>0                          </td><td>0.0                            </td><td>-59                  </td><td>-4.3                     </td></tr>\n",
       "\t<tr><td>29000    </td><td>1       </td><td>101          </td><td>52         </td><td>0        </td><td>2017</td><td>3  </td><td>               </td><td>2           </td><td>1            </td><td>⋯</td><td>0                    </td><td>0.0                      </td><td>310                      </td><td>1.3                          </td><td>0                          </td><td>0.0                            </td><td>0                          </td><td>0.0                            </td><td>24                   </td><td>1.3                      </td></tr>\n",
       "\t<tr><td>29000    </td><td>1       </td><td>1013         </td><td>53         </td><td>0        </td><td>2017</td><td>3  </td><td>               </td><td>2           </td><td>1            </td><td>⋯</td><td>0                    </td><td>0.0                      </td><td>310                      </td><td>1.3                          </td><td>0                          </td><td>0.0                            </td><td>0                          </td><td>0.0                            </td><td>24                   </td><td>1.3                      </td></tr>\n",
       "\t<tr><td>29000    </td><td>1       </td><td>102          </td><td>52         </td><td>0        </td><td>2017</td><td>3  </td><td>               </td><td>1654        </td><td>55062        </td><td>⋯</td><td>-298                 </td><td>-0.5                     </td><td>-44209400                </td><td>-4.5                         </td><td>0                          </td><td>0.0                            </td><td>0                          </td><td>0.0                            </td><td>-59                  </td><td>-4.3                     </td></tr>\n",
       "\t<tr><td>29000    </td><td>1       </td><td>1021         </td><td>53         </td><td>0        </td><td>2017</td><td>3  </td><td>               </td><td>872         </td><td>15391        </td><td>⋯</td><td>-67                  </td><td>-0.4                     </td><td>-32402315                </td><td>-14.4                        </td><td>0                          </td><td>0.0                            </td><td>0                          </td><td>0.0                            </td><td>-163                 </td><td>-14.4                    </td></tr>\n",
       "\t<tr><td>29000    </td><td>1       </td><td>1022         </td><td>53         </td><td>0        </td><td>2017</td><td>3  </td><td>               </td><td>6           </td><td>802          </td><td>⋯</td><td>-52                  </td><td>-6.1                     </td><td>143513                   </td><td>1.4                          </td><td>0                          </td><td>0.0                            </td><td>0                          </td><td>0.0                            </td><td>58                   </td><td>6.3                      </td></tr>\n",
       "\t<tr><td>29000    </td><td>1       </td><td>1023         </td><td>53         </td><td>0        </td><td>2017</td><td>3  </td><td>               </td><td>36          </td><td>1429         </td><td>⋯</td><td>31                   </td><td>2.3                      </td><td>443858                   </td><td>1.4                          </td><td>0                          </td><td>0.0                            </td><td>0                          </td><td>0.0                            </td><td>-26                  </td><td>-1.5                     </td></tr>\n",
       "\t<tr><td>29000    </td><td>1       </td><td>1024         </td><td>53         </td><td>0        </td><td>2017</td><td>3  </td><td>               </td><td>38          </td><td>1491         </td><td>⋯</td><td>-7                   </td><td>-0.5                     </td><td>1037197                  </td><td>3.3                          </td><td>0                          </td><td>0.0                            </td><td>0                          </td><td>0.0                            </td><td>61                   </td><td>3.7                      </td></tr>\n",
       "</tbody>\n",
       "</table>\n"
      ],
      "text/latex": [
       "A data.frame: 10 × 42\n",
       "\\begin{tabular}{r|llllllllllllllllllllllllllllllllllllllllll}\n",
       " V1 & V2 & V3 & V4 & V5 & V6 & V7 & V8 & V9 & V10 & V11 & V12 & V13 & V14 & V15 & V16 & V17 & V18 & V19 & V20 & V21 & V22 & V23 & V24 & V25 & V26 & V27 & V28 & V29 & V30 & V31 & V32 & V33 & V34 & V35 & V36 & V37 & V38 & V39 & V40 & V41 & V42\\\\\n",
       " <fct> & <fct> & <fct> & <fct> & <fct> & <fct> & <fct> & <fct> & <fct> & <fct> & <fct> & <fct> & <fct> & <fct> & <fct> & <fct> & <fct> & <fct> & <fct> & <fct> & <fct> & <fct> & <fct> & <fct> & <fct> & <fct> & <fct> & <fct> & <fct> & <fct> & <fct> & <fct> & <fct> & <fct> & <fct> & <fct> & <fct> & <fct> & <fct> & <fct> & <fct> & <fct>\\\\\n",
       "\\hline\n",
       "\t area\\_fips & own\\_code & industry\\_code & agglvl\\_code & size\\_code & year & qtr & disclosure\\_code & qtrly\\_estabs & month1\\_emplvl & month2\\_emplvl & month3\\_emplvl & total\\_qtrly\\_wages & taxable\\_qtrly\\_wages & qtrly\\_contributions & avg\\_wkly\\_wage & lq\\_disclosure\\_code & lq\\_qtrly\\_estabs & lq\\_month1\\_emplvl & lq\\_month2\\_emplvl & lq\\_month3\\_emplvl & lq\\_total\\_qtrly\\_wages & lq\\_taxable\\_qtrly\\_wages & lq\\_qtrly\\_contributions & lq\\_avg\\_wkly\\_wage & oty\\_disclosure\\_code & oty\\_qtrly\\_estabs\\_chg & oty\\_qtrly\\_estabs\\_pct\\_chg & oty\\_month1\\_emplvl\\_chg & oty\\_month1\\_emplvl\\_pct\\_chg & oty\\_month2\\_emplvl\\_chg & oty\\_month2\\_emplvl\\_pct\\_chg & oty\\_month3\\_emplvl\\_chg & oty\\_month3\\_emplvl\\_pct\\_chg & oty\\_total\\_qtrly\\_wages\\_chg & oty\\_total\\_qtrly\\_wages\\_pct\\_chg & oty\\_taxable\\_qtrly\\_wages\\_chg & oty\\_taxable\\_qtrly\\_wages\\_pct\\_chg & oty\\_qtrly\\_contributions\\_chg & oty\\_qtrly\\_contributions\\_pct\\_chg & oty\\_avg\\_wkly\\_wage\\_chg & oty\\_avg\\_wkly\\_wage\\_pct\\_chg\\\\\n",
       "\t 29000     & 0        & 10            & 50          & 0         & 2017 & 3   &                 & 207545       & 2730455       & 2762786       & 2800944       & 31558246038       & 3860231413          & 54596087            & 878           &                    & 1.00            & 1.00             & 1.00             & 1.00             & 1.00                 & 1.00                   & 1.00                   & 1.00             &                     & 14090                & 7.3                      & 21934                 & 0.8                       & 22366                 & 0.8                       & 19016                 & 0.7                       & -132708019                & -0.4                          & -72239618                   & -1.8                            & -21796208                   & -28.5                           & -11                   & -1.2                     \\\\\n",
       "\t 29000     & 1        & 10            & 51          & 0         & 2017 & 3   &                 & 1656         & 55063         & 54506         & 54542         & 933874434         & 0                   & 0                   & 1313          &                    & 1.32            & 1.02             & 1.01             & 1.00             & 1.00                 & 0.00                   & 0.00                   & 0.99             &                     & -6                   & -0.4                     & -61                   & -0.1                      & -41                   & -0.1                      & -298                  & -0.5                      & -44209090                 & -4.5                          & 0                           & 0.0                             & 0                           & 0.0                             & -59                   & -4.3                     \\\\\n",
       "\t 29000     & 1        & 101           & 52          & 0         & 2017 & 3   &                 & 2            & 1             & 1             & 1             & 24041             & 0                   & 0                   & 1849          &                    & 0.81            & 0.00             & 0.00             & 0.00             & 0.00                 & 0.00                   & 0.00                   & 1.40             &                     & 0                    & 0.0                      & 0                     & 0.0                       & 0                     & 0.0                       & 0                     & 0.0                       & 310                       & 1.3                           & 0                           & 0.0                             & 0                           & 0.0                             & 24                    & 1.3                      \\\\\n",
       "\t 29000     & 1        & 1013          & 53          & 0         & 2017 & 3   &                 & 2            & 1             & 1             & 1             & 24041             & 0                   & 0                   & 1849          &                    & 2.07            & 0.00             & 0.00             & 0.00             & 0.00                 & 0.00                   & 0.00                   & 1.41             &                     & 0                    & 0.0                      & 0                     & 0.0                       & 0                     & 0.0                       & 0                     & 0.0                       & 310                       & 1.3                           & 0                           & 0.0                             & 0                           & 0.0                             & 24                    & 1.3                      \\\\\n",
       "\t 29000     & 1        & 102           & 52          & 0         & 2017 & 3   &                 & 1654         & 55062         & 54505         & 54541         & 933850393         & 0                   & 0                   & 1313          &                    & 1.32            & 1.04             & 1.03             & 1.02             & 1.02                 & 0.00                   & 0.00                   & 0.99             &                     & -6                   & -0.4                     & -61                   & -0.1                      & -41                   & -0.1                      & -298                  & -0.5                      & -44209400                 & -4.5                          & 0                           & 0.0                             & 0                           & 0.0                             & -59                   & -4.3                     \\\\\n",
       "\t 29000     & 1        & 1021          & 53          & 0         & 2017 & 3   &                 & 872          & 15391         & 15282         & 15321         & 193307250         & 0                   & 0                   & 970           &                    & 1.38            & 1.18             & 1.17             & 1.16             & 1.24                 & 0.00                   & 0.00                   & 1.06             &                     & -6                   & -0.7                     & 135                   & 0.9                       & -41                   & -0.3                      & -67                   & -0.4                      & -32402315                 & -14.4                         & 0                           & 0.0                             & 0                           & 0.0                             & -163                  & -14.4                    \\\\\n",
       "\t 29000     & 1        & 1022          & 53          & 0         & 2017 & 3   &                 & 6            & 802           & 796           & 800           & 10156338          & 0                   & 0                   & 977           &                    & 2.30            & 6.34             & 6.31             & 6.23             & 4.40                 & 0.00                   & 0.00                   & 0.70             &                     & 0                    & 0.0                      & -18                   & -2.2                      & -47                   & -5.6                      & -52                   & -6.1                      & 143513                    & 1.4                           & 0                           & 0.0                             & 0                           & 0.0                             & 58                    & 6.3                      \\\\\n",
       "\t 29000     & 1        & 1023          & 53          & 0         & 2017 & 3   &                 & 36           & 1429          & 1418          & 1405          & 31312189          & 0                   & 0                   & 1699          &                    & 2.10            & 5.75             & 5.70             & 5.67             & 4.93                 & 0.00                   & 0.00                   & 0.86             &                     & 1                    & 2.9                      & 46                    & 3.3                       & 46                    & 3.4                       & 31                    & 2.3                       & 443858                    & 1.4                           & 0                           & 0.0                             & 0                           & 0.0                             & -26                   & -1.5                     \\\\\n",
       "\t 29000     & 1        & 1024          & 53          & 0         & 2017 & 3   &                 & 38           & 1491          & 1500          & 1486          & 32892213          & 0                   & 0                   & 1695          &                    & 1.24            & 1.18             & 1.19             & 1.17             & 1.32                 & 0.00                   & 0.00                   & 1.12             &                     & 0                    & 0.0                      & -8                    & -0.5                      & -8                    & -0.5                      & -7                    & -0.5                      & 1037197                   & 3.3                           & 0                           & 0.0                             & 0                           & 0.0                             & 61                    & 3.7                      \\\\\n",
       "\\end{tabular}\n"
      ],
      "text/markdown": [
       "\n",
       "A data.frame: 10 × 42\n",
       "\n",
       "| V1 &lt;fct&gt; | V2 &lt;fct&gt; | V3 &lt;fct&gt; | V4 &lt;fct&gt; | V5 &lt;fct&gt; | V6 &lt;fct&gt; | V7 &lt;fct&gt; | V8 &lt;fct&gt; | V9 &lt;fct&gt; | V10 &lt;fct&gt; | ⋯ ⋯ | V33 &lt;fct&gt; | V34 &lt;fct&gt; | V35 &lt;fct&gt; | V36 &lt;fct&gt; | V37 &lt;fct&gt; | V38 &lt;fct&gt; | V39 &lt;fct&gt; | V40 &lt;fct&gt; | V41 &lt;fct&gt; | V42 &lt;fct&gt; |\n",
       "|---|---|---|---|---|---|---|---|---|---|---|---|---|---|---|---|---|---|---|---|---|\n",
       "| area_fips | own_code | industry_code | agglvl_code | size_code | year | qtr | disclosure_code | qtrly_estabs | month1_emplvl | ⋯ | oty_month3_emplvl_chg | oty_month3_emplvl_pct_chg | oty_total_qtrly_wages_chg | oty_total_qtrly_wages_pct_chg | oty_taxable_qtrly_wages_chg | oty_taxable_qtrly_wages_pct_chg | oty_qtrly_contributions_chg | oty_qtrly_contributions_pct_chg | oty_avg_wkly_wage_chg | oty_avg_wkly_wage_pct_chg |\n",
       "| 29000     | 0        | 10            | 50          | 0         | 2017 | 3   | <!----> | 207545       | 2730455       | ⋯ | 19016                 | 0.7                       | -132708019                | -0.4                          | -72239618                   | -1.8                            | -21796208                   | -28.5                           | -11                   | -1.2                      |\n",
       "| 29000     | 1        | 10            | 51          | 0         | 2017 | 3   | <!----> | 1656         | 55063         | ⋯ | -298                  | -0.5                      | -44209090                 | -4.5                          | 0                           | 0.0                             | 0                           | 0.0                             | -59                   | -4.3                      |\n",
       "| 29000     | 1        | 101           | 52          | 0         | 2017 | 3   | <!----> | 2            | 1             | ⋯ | 0                     | 0.0                       | 310                       | 1.3                           | 0                           | 0.0                             | 0                           | 0.0                             | 24                    | 1.3                       |\n",
       "| 29000     | 1        | 1013          | 53          | 0         | 2017 | 3   | <!----> | 2            | 1             | ⋯ | 0                     | 0.0                       | 310                       | 1.3                           | 0                           | 0.0                             | 0                           | 0.0                             | 24                    | 1.3                       |\n",
       "| 29000     | 1        | 102           | 52          | 0         | 2017 | 3   | <!----> | 1654         | 55062         | ⋯ | -298                  | -0.5                      | -44209400                 | -4.5                          | 0                           | 0.0                             | 0                           | 0.0                             | -59                   | -4.3                      |\n",
       "| 29000     | 1        | 1021          | 53          | 0         | 2017 | 3   | <!----> | 872          | 15391         | ⋯ | -67                   | -0.4                      | -32402315                 | -14.4                         | 0                           | 0.0                             | 0                           | 0.0                             | -163                  | -14.4                     |\n",
       "| 29000     | 1        | 1022          | 53          | 0         | 2017 | 3   | <!----> | 6            | 802           | ⋯ | -52                   | -6.1                      | 143513                    | 1.4                           | 0                           | 0.0                             | 0                           | 0.0                             | 58                    | 6.3                       |\n",
       "| 29000     | 1        | 1023          | 53          | 0         | 2017 | 3   | <!----> | 36           | 1429          | ⋯ | 31                    | 2.3                       | 443858                    | 1.4                           | 0                           | 0.0                             | 0                           | 0.0                             | -26                   | -1.5                      |\n",
       "| 29000     | 1        | 1024          | 53          | 0         | 2017 | 3   | <!----> | 38           | 1491          | ⋯ | -7                    | -0.5                      | 1037197                   | 3.3                           | 0                           | 0.0                             | 0                           | 0.0                             | 61                    | 3.7                       |\n",
       "\n"
      ],
      "text/plain": [
       "   V1        V2       V3            V4          V5        V6   V7 \n",
       "1  area_fips own_code industry_code agglvl_code size_code year qtr\n",
       "2  29000     0        10            50          0         2017 3  \n",
       "3  29000     1        10            51          0         2017 3  \n",
       "4  29000     1        101           52          0         2017 3  \n",
       "5  29000     1        1013          53          0         2017 3  \n",
       "6  29000     1        102           52          0         2017 3  \n",
       "7  29000     1        1021          53          0         2017 3  \n",
       "8  29000     1        1022          53          0         2017 3  \n",
       "9  29000     1        1023          53          0         2017 3  \n",
       "10 29000     1        1024          53          0         2017 3  \n",
       "   V8              V9           V10           ⋯ V33                  \n",
       "1  disclosure_code qtrly_estabs month1_emplvl ⋯ oty_month3_emplvl_chg\n",
       "2                  207545       2730455       ⋯ 19016                \n",
       "3                  1656         55063         ⋯ -298                 \n",
       "4                  2            1             ⋯ 0                    \n",
       "5                  2            1             ⋯ 0                    \n",
       "6                  1654         55062         ⋯ -298                 \n",
       "7                  872          15391         ⋯ -67                  \n",
       "8                  6            802           ⋯ -52                  \n",
       "9                  36           1429          ⋯ 31                   \n",
       "10                 38           1491          ⋯ -7                   \n",
       "   V34                       V35                      \n",
       "1  oty_month3_emplvl_pct_chg oty_total_qtrly_wages_chg\n",
       "2  0.7                       -132708019               \n",
       "3  -0.5                      -44209090                \n",
       "4  0.0                       310                      \n",
       "5  0.0                       310                      \n",
       "6  -0.5                      -44209400                \n",
       "7  -0.4                      -32402315                \n",
       "8  -6.1                      143513                   \n",
       "9  2.3                       443858                   \n",
       "10 -0.5                      1037197                  \n",
       "   V36                           V37                        \n",
       "1  oty_total_qtrly_wages_pct_chg oty_taxable_qtrly_wages_chg\n",
       "2  -0.4                          -72239618                  \n",
       "3  -4.5                          0                          \n",
       "4  1.3                           0                          \n",
       "5  1.3                           0                          \n",
       "6  -4.5                          0                          \n",
       "7  -14.4                         0                          \n",
       "8  1.4                           0                          \n",
       "9  1.4                           0                          \n",
       "10 3.3                           0                          \n",
       "   V38                             V39                        \n",
       "1  oty_taxable_qtrly_wages_pct_chg oty_qtrly_contributions_chg\n",
       "2  -1.8                            -21796208                  \n",
       "3  0.0                             0                          \n",
       "4  0.0                             0                          \n",
       "5  0.0                             0                          \n",
       "6  0.0                             0                          \n",
       "7  0.0                             0                          \n",
       "8  0.0                             0                          \n",
       "9  0.0                             0                          \n",
       "10 0.0                             0                          \n",
       "   V40                             V41                  \n",
       "1  oty_qtrly_contributions_pct_chg oty_avg_wkly_wage_chg\n",
       "2  -28.5                           -11                  \n",
       "3  0.0                             -59                  \n",
       "4  0.0                             24                   \n",
       "5  0.0                             24                   \n",
       "6  0.0                             -59                  \n",
       "7  0.0                             -163                 \n",
       "8  0.0                             58                   \n",
       "9  0.0                             -26                  \n",
       "10 0.0                             61                   \n",
       "   V42                      \n",
       "1  oty_avg_wkly_wage_pct_chg\n",
       "2  -1.2                     \n",
       "3  -4.3                     \n",
       "4  1.3                      \n",
       "5  1.3                      \n",
       "6  -4.3                     \n",
       "7  -14.4                    \n",
       "8  6.3                      \n",
       "9  -1.5                     \n",
       "10 3.7                      "
      ]
     },
     "metadata": {},
     "output_type": "display_data"
    }
   ],
   "source": [
    "head(data,10)"
   ]
  },
  {
   "cell_type": "markdown",
   "metadata": {},
   "source": [
    "Want the column's names back? We set the attribute `head` (not the same as the command letting us print just the first 10 entries):"
   ]
  },
  {
   "cell_type": "code",
   "execution_count": 70,
   "metadata": {},
   "outputs": [],
   "source": [
    "data <- read.table('https://data.bls.gov/cew/data/api/2017/3/area/29000.csv',sep=',',head=T)"
   ]
  },
  {
   "cell_type": "code",
   "execution_count": 71,
   "metadata": {},
   "outputs": [
    {
     "data": {
      "text/html": [
       "<table>\n",
       "<caption>A data.frame: 10 × 42</caption>\n",
       "<thead>\n",
       "\t<tr><th scope=col>area_fips</th><th scope=col>own_code</th><th scope=col>industry_code</th><th scope=col>agglvl_code</th><th scope=col>size_code</th><th scope=col>year</th><th scope=col>qtr</th><th scope=col>disclosure_code</th><th scope=col>qtrly_estabs</th><th scope=col>month1_emplvl</th><th scope=col>⋯</th><th scope=col>oty_month3_emplvl_chg</th><th scope=col>oty_month3_emplvl_pct_chg</th><th scope=col>oty_total_qtrly_wages_chg</th><th scope=col>oty_total_qtrly_wages_pct_chg</th><th scope=col>oty_taxable_qtrly_wages_chg</th><th scope=col>oty_taxable_qtrly_wages_pct_chg</th><th scope=col>oty_qtrly_contributions_chg</th><th scope=col>oty_qtrly_contributions_pct_chg</th><th scope=col>oty_avg_wkly_wage_chg</th><th scope=col>oty_avg_wkly_wage_pct_chg</th></tr>\n",
       "\t<tr><th scope=col>&lt;int&gt;</th><th scope=col>&lt;int&gt;</th><th scope=col>&lt;fct&gt;</th><th scope=col>&lt;int&gt;</th><th scope=col>&lt;int&gt;</th><th scope=col>&lt;int&gt;</th><th scope=col>&lt;int&gt;</th><th scope=col>&lt;fct&gt;</th><th scope=col>&lt;int&gt;</th><th scope=col>&lt;int&gt;</th><th scope=col>⋯</th><th scope=col>&lt;int&gt;</th><th scope=col>&lt;dbl&gt;</th><th scope=col>&lt;int&gt;</th><th scope=col>&lt;dbl&gt;</th><th scope=col>&lt;int&gt;</th><th scope=col>&lt;dbl&gt;</th><th scope=col>&lt;int&gt;</th><th scope=col>&lt;dbl&gt;</th><th scope=col>&lt;int&gt;</th><th scope=col>&lt;dbl&gt;</th></tr>\n",
       "</thead>\n",
       "<tbody>\n",
       "\t<tr><td>29000</td><td>0</td><td>10  </td><td>50</td><td>0</td><td>2017</td><td>3</td><td></td><td>207545</td><td>2730455</td><td>⋯</td><td>19016</td><td> 0.7</td><td>-132708019</td><td> -0.4</td><td>-72239618</td><td>-1.8</td><td>-21796208</td><td>-28.5</td><td> -11</td><td> -1.2</td></tr>\n",
       "\t<tr><td>29000</td><td>1</td><td>10  </td><td>51</td><td>0</td><td>2017</td><td>3</td><td></td><td>  1656</td><td>  55063</td><td>⋯</td><td> -298</td><td>-0.5</td><td> -44209090</td><td> -4.5</td><td>        0</td><td> 0.0</td><td>        0</td><td>  0.0</td><td> -59</td><td> -4.3</td></tr>\n",
       "\t<tr><td>29000</td><td>1</td><td>101 </td><td>52</td><td>0</td><td>2017</td><td>3</td><td></td><td>     2</td><td>      1</td><td>⋯</td><td>    0</td><td> 0.0</td><td>       310</td><td>  1.3</td><td>        0</td><td> 0.0</td><td>        0</td><td>  0.0</td><td>  24</td><td>  1.3</td></tr>\n",
       "\t<tr><td>29000</td><td>1</td><td>1013</td><td>53</td><td>0</td><td>2017</td><td>3</td><td></td><td>     2</td><td>      1</td><td>⋯</td><td>    0</td><td> 0.0</td><td>       310</td><td>  1.3</td><td>        0</td><td> 0.0</td><td>        0</td><td>  0.0</td><td>  24</td><td>  1.3</td></tr>\n",
       "\t<tr><td>29000</td><td>1</td><td>102 </td><td>52</td><td>0</td><td>2017</td><td>3</td><td></td><td>  1654</td><td>  55062</td><td>⋯</td><td> -298</td><td>-0.5</td><td> -44209400</td><td> -4.5</td><td>        0</td><td> 0.0</td><td>        0</td><td>  0.0</td><td> -59</td><td> -4.3</td></tr>\n",
       "\t<tr><td>29000</td><td>1</td><td>1021</td><td>53</td><td>0</td><td>2017</td><td>3</td><td></td><td>   872</td><td>  15391</td><td>⋯</td><td>  -67</td><td>-0.4</td><td> -32402315</td><td>-14.4</td><td>        0</td><td> 0.0</td><td>        0</td><td>  0.0</td><td>-163</td><td>-14.4</td></tr>\n",
       "\t<tr><td>29000</td><td>1</td><td>1022</td><td>53</td><td>0</td><td>2017</td><td>3</td><td></td><td>     6</td><td>    802</td><td>⋯</td><td>  -52</td><td>-6.1</td><td>    143513</td><td>  1.4</td><td>        0</td><td> 0.0</td><td>        0</td><td>  0.0</td><td>  58</td><td>  6.3</td></tr>\n",
       "\t<tr><td>29000</td><td>1</td><td>1023</td><td>53</td><td>0</td><td>2017</td><td>3</td><td></td><td>    36</td><td>   1429</td><td>⋯</td><td>   31</td><td> 2.3</td><td>    443858</td><td>  1.4</td><td>        0</td><td> 0.0</td><td>        0</td><td>  0.0</td><td> -26</td><td> -1.5</td></tr>\n",
       "\t<tr><td>29000</td><td>1</td><td>1024</td><td>53</td><td>0</td><td>2017</td><td>3</td><td></td><td>    38</td><td>   1491</td><td>⋯</td><td>   -7</td><td>-0.5</td><td>   1037197</td><td>  3.3</td><td>        0</td><td> 0.0</td><td>        0</td><td>  0.0</td><td>  61</td><td>  3.7</td></tr>\n",
       "\t<tr><td>29000</td><td>1</td><td>1025</td><td>53</td><td>0</td><td>2017</td><td>3</td><td></td><td>    27</td><td>   9858</td><td>⋯</td><td>  327</td><td> 3.4</td><td> -10169495</td><td> -5.5</td><td>        0</td><td> 0.0</td><td>        0</td><td>  0.0</td><td>-119</td><td> -8.1</td></tr>\n",
       "</tbody>\n",
       "</table>\n"
      ],
      "text/latex": [
       "A data.frame: 10 × 42\n",
       "\\begin{tabular}{r|llllllllllllllllllllllllllllllllllllllllll}\n",
       " area\\_fips & own\\_code & industry\\_code & agglvl\\_code & size\\_code & year & qtr & disclosure\\_code & qtrly\\_estabs & month1\\_emplvl & month2\\_emplvl & month3\\_emplvl & total\\_qtrly\\_wages & taxable\\_qtrly\\_wages & qtrly\\_contributions & avg\\_wkly\\_wage & lq\\_disclosure\\_code & lq\\_qtrly\\_estabs & lq\\_month1\\_emplvl & lq\\_month2\\_emplvl & lq\\_month3\\_emplvl & lq\\_total\\_qtrly\\_wages & lq\\_taxable\\_qtrly\\_wages & lq\\_qtrly\\_contributions & lq\\_avg\\_wkly\\_wage & oty\\_disclosure\\_code & oty\\_qtrly\\_estabs\\_chg & oty\\_qtrly\\_estabs\\_pct\\_chg & oty\\_month1\\_emplvl\\_chg & oty\\_month1\\_emplvl\\_pct\\_chg & oty\\_month2\\_emplvl\\_chg & oty\\_month2\\_emplvl\\_pct\\_chg & oty\\_month3\\_emplvl\\_chg & oty\\_month3\\_emplvl\\_pct\\_chg & oty\\_total\\_qtrly\\_wages\\_chg & oty\\_total\\_qtrly\\_wages\\_pct\\_chg & oty\\_taxable\\_qtrly\\_wages\\_chg & oty\\_taxable\\_qtrly\\_wages\\_pct\\_chg & oty\\_qtrly\\_contributions\\_chg & oty\\_qtrly\\_contributions\\_pct\\_chg & oty\\_avg\\_wkly\\_wage\\_chg & oty\\_avg\\_wkly\\_wage\\_pct\\_chg\\\\\n",
       " <int> & <int> & <fct> & <int> & <int> & <int> & <int> & <fct> & <int> & <int> & <int> & <int> & <dbl> & <dbl> & <int> & <int> & <fct> & <dbl> & <dbl> & <dbl> & <dbl> & <dbl> & <dbl> & <dbl> & <dbl> & <fct> & <int> & <dbl> & <int> & <dbl> & <int> & <dbl> & <int> & <dbl> & <int> & <dbl> & <int> & <dbl> & <int> & <dbl> & <int> & <dbl>\\\\\n",
       "\\hline\n",
       "\t 29000 & 0 & 10   & 50 & 0 & 2017 & 3 &  & 207545 & 2730455 & 2762786 & 2800944 & 31558246038 & 3860231413 & 54596087 &  878 &  & 1.00 & 1.00 & 1.00 & 1.00 & 1.00 & 1 & 1 & 1.00 &  & 14090 &  7.3 & 21934 &  0.8 & 22366 &  0.8 & 19016 &  0.7 & -132708019 &  -0.4 & -72239618 & -1.8 & -21796208 & -28.5 &  -11 &  -1.2\\\\\n",
       "\t 29000 & 1 & 10   & 51 & 0 & 2017 & 3 &  &   1656 &   55063 &   54506 &   54542 &   933874434 &          0 &        0 & 1313 &  & 1.32 & 1.02 & 1.01 & 1.00 & 1.00 & 0 & 0 & 0.99 &  &    -6 & -0.4 &   -61 & -0.1 &   -41 & -0.1 &  -298 & -0.5 &  -44209090 &  -4.5 &         0 &  0.0 &         0 &   0.0 &  -59 &  -4.3\\\\\n",
       "\t 29000 & 1 & 101  & 52 & 0 & 2017 & 3 &  &      2 &       1 &       1 &       1 &       24041 &          0 &        0 & 1849 &  & 0.81 & 0.00 & 0.00 & 0.00 & 0.00 & 0 & 0 & 1.40 &  &     0 &  0.0 &     0 &  0.0 &     0 &  0.0 &     0 &  0.0 &        310 &   1.3 &         0 &  0.0 &         0 &   0.0 &   24 &   1.3\\\\\n",
       "\t 29000 & 1 & 1013 & 53 & 0 & 2017 & 3 &  &      2 &       1 &       1 &       1 &       24041 &          0 &        0 & 1849 &  & 2.07 & 0.00 & 0.00 & 0.00 & 0.00 & 0 & 0 & 1.41 &  &     0 &  0.0 &     0 &  0.0 &     0 &  0.0 &     0 &  0.0 &        310 &   1.3 &         0 &  0.0 &         0 &   0.0 &   24 &   1.3\\\\\n",
       "\t 29000 & 1 & 102  & 52 & 0 & 2017 & 3 &  &   1654 &   55062 &   54505 &   54541 &   933850393 &          0 &        0 & 1313 &  & 1.32 & 1.04 & 1.03 & 1.02 & 1.02 & 0 & 0 & 0.99 &  &    -6 & -0.4 &   -61 & -0.1 &   -41 & -0.1 &  -298 & -0.5 &  -44209400 &  -4.5 &         0 &  0.0 &         0 &   0.0 &  -59 &  -4.3\\\\\n",
       "\t 29000 & 1 & 1021 & 53 & 0 & 2017 & 3 &  &    872 &   15391 &   15282 &   15321 &   193307250 &          0 &        0 &  970 &  & 1.38 & 1.18 & 1.17 & 1.16 & 1.24 & 0 & 0 & 1.06 &  &    -6 & -0.7 &   135 &  0.9 &   -41 & -0.3 &   -67 & -0.4 &  -32402315 & -14.4 &         0 &  0.0 &         0 &   0.0 & -163 & -14.4\\\\\n",
       "\t 29000 & 1 & 1022 & 53 & 0 & 2017 & 3 &  &      6 &     802 &     796 &     800 &    10156338 &          0 &        0 &  977 &  & 2.30 & 6.34 & 6.31 & 6.23 & 4.40 & 0 & 0 & 0.70 &  &     0 &  0.0 &   -18 & -2.2 &   -47 & -5.6 &   -52 & -6.1 &     143513 &   1.4 &         0 &  0.0 &         0 &   0.0 &   58 &   6.3\\\\\n",
       "\t 29000 & 1 & 1023 & 53 & 0 & 2017 & 3 &  &     36 &    1429 &    1418 &    1405 &    31312189 &          0 &        0 & 1699 &  & 2.10 & 5.75 & 5.70 & 5.67 & 4.93 & 0 & 0 & 0.86 &  &     1 &  2.9 &    46 &  3.3 &    46 &  3.4 &    31 &  2.3 &     443858 &   1.4 &         0 &  0.0 &         0 &   0.0 &  -26 &  -1.5\\\\\n",
       "\t 29000 & 1 & 1024 & 53 & 0 & 2017 & 3 &  &     38 &    1491 &    1500 &    1486 &    32892213 &          0 &        0 & 1695 &  & 1.24 & 1.18 & 1.19 & 1.17 & 1.32 & 0 & 0 & 1.12 &  &     0 &  0.0 &    -8 & -0.5 &    -8 & -0.5 &    -7 & -0.5 &    1037197 &   3.3 &         0 &  0.0 &         0 &   0.0 &   61 &   3.7\\\\\n",
       "\t 29000 & 1 & 1025 & 53 & 0 & 2017 & 3 &  &     27 &    9858 &    9905 &    9979 &   175001236 &          0 &        0 & 1358 &  & 0.93 & 1.27 & 1.26 & 1.26 & 1.39 & 0 & 0 & 1.10 &  &    -1 & -3.6 &   211 &  2.2 &   278 &  2.9 &   327 &  3.4 &  -10169495 &  -5.5 &         0 &  0.0 &         0 &   0.0 & -119 &  -8.1\\\\\n",
       "\\end{tabular}\n"
      ],
      "text/markdown": [
       "\n",
       "A data.frame: 10 × 42\n",
       "\n",
       "| area_fips &lt;int&gt; | own_code &lt;int&gt; | industry_code &lt;fct&gt; | agglvl_code &lt;int&gt; | size_code &lt;int&gt; | year &lt;int&gt; | qtr &lt;int&gt; | disclosure_code &lt;fct&gt; | qtrly_estabs &lt;int&gt; | month1_emplvl &lt;int&gt; | ⋯ ⋯ | oty_month3_emplvl_chg &lt;int&gt; | oty_month3_emplvl_pct_chg &lt;dbl&gt; | oty_total_qtrly_wages_chg &lt;int&gt; | oty_total_qtrly_wages_pct_chg &lt;dbl&gt; | oty_taxable_qtrly_wages_chg &lt;int&gt; | oty_taxable_qtrly_wages_pct_chg &lt;dbl&gt; | oty_qtrly_contributions_chg &lt;int&gt; | oty_qtrly_contributions_pct_chg &lt;dbl&gt; | oty_avg_wkly_wage_chg &lt;int&gt; | oty_avg_wkly_wage_pct_chg &lt;dbl&gt; |\n",
       "|---|---|---|---|---|---|---|---|---|---|---|---|---|---|---|---|---|---|---|---|---|\n",
       "| 29000 | 0 | 10   | 50 | 0 | 2017 | 3 | <!----> | 207545 | 2730455 | ⋯ | 19016 |  0.7 | -132708019 |  -0.4 | -72239618 | -1.8 | -21796208 | -28.5 |  -11 |  -1.2 |\n",
       "| 29000 | 1 | 10   | 51 | 0 | 2017 | 3 | <!----> |   1656 |   55063 | ⋯ |  -298 | -0.5 |  -44209090 |  -4.5 |         0 |  0.0 |         0 |   0.0 |  -59 |  -4.3 |\n",
       "| 29000 | 1 | 101  | 52 | 0 | 2017 | 3 | <!----> |      2 |       1 | ⋯ |     0 |  0.0 |        310 |   1.3 |         0 |  0.0 |         0 |   0.0 |   24 |   1.3 |\n",
       "| 29000 | 1 | 1013 | 53 | 0 | 2017 | 3 | <!----> |      2 |       1 | ⋯ |     0 |  0.0 |        310 |   1.3 |         0 |  0.0 |         0 |   0.0 |   24 |   1.3 |\n",
       "| 29000 | 1 | 102  | 52 | 0 | 2017 | 3 | <!----> |   1654 |   55062 | ⋯ |  -298 | -0.5 |  -44209400 |  -4.5 |         0 |  0.0 |         0 |   0.0 |  -59 |  -4.3 |\n",
       "| 29000 | 1 | 1021 | 53 | 0 | 2017 | 3 | <!----> |    872 |   15391 | ⋯ |   -67 | -0.4 |  -32402315 | -14.4 |         0 |  0.0 |         0 |   0.0 | -163 | -14.4 |\n",
       "| 29000 | 1 | 1022 | 53 | 0 | 2017 | 3 | <!----> |      6 |     802 | ⋯ |   -52 | -6.1 |     143513 |   1.4 |         0 |  0.0 |         0 |   0.0 |   58 |   6.3 |\n",
       "| 29000 | 1 | 1023 | 53 | 0 | 2017 | 3 | <!----> |     36 |    1429 | ⋯ |    31 |  2.3 |     443858 |   1.4 |         0 |  0.0 |         0 |   0.0 |  -26 |  -1.5 |\n",
       "| 29000 | 1 | 1024 | 53 | 0 | 2017 | 3 | <!----> |     38 |    1491 | ⋯ |    -7 | -0.5 |    1037197 |   3.3 |         0 |  0.0 |         0 |   0.0 |   61 |   3.7 |\n",
       "| 29000 | 1 | 1025 | 53 | 0 | 2017 | 3 | <!----> |     27 |    9858 | ⋯ |   327 |  3.4 |  -10169495 |  -5.5 |         0 |  0.0 |         0 |   0.0 | -119 |  -8.1 |\n",
       "\n"
      ],
      "text/plain": [
       "   area_fips own_code industry_code agglvl_code size_code year qtr\n",
       "1  29000     0        10            50          0         2017 3  \n",
       "2  29000     1        10            51          0         2017 3  \n",
       "3  29000     1        101           52          0         2017 3  \n",
       "4  29000     1        1013          53          0         2017 3  \n",
       "5  29000     1        102           52          0         2017 3  \n",
       "6  29000     1        1021          53          0         2017 3  \n",
       "7  29000     1        1022          53          0         2017 3  \n",
       "8  29000     1        1023          53          0         2017 3  \n",
       "9  29000     1        1024          53          0         2017 3  \n",
       "10 29000     1        1025          53          0         2017 3  \n",
       "   disclosure_code qtrly_estabs month1_emplvl ⋯ oty_month3_emplvl_chg\n",
       "1                  207545       2730455       ⋯ 19016                \n",
       "2                    1656         55063       ⋯  -298                \n",
       "3                       2             1       ⋯     0                \n",
       "4                       2             1       ⋯     0                \n",
       "5                    1654         55062       ⋯  -298                \n",
       "6                     872         15391       ⋯   -67                \n",
       "7                       6           802       ⋯   -52                \n",
       "8                      36          1429       ⋯    31                \n",
       "9                      38          1491       ⋯    -7                \n",
       "10                     27          9858       ⋯   327                \n",
       "   oty_month3_emplvl_pct_chg oty_total_qtrly_wages_chg\n",
       "1   0.7                      -132708019               \n",
       "2  -0.5                       -44209090               \n",
       "3   0.0                             310               \n",
       "4   0.0                             310               \n",
       "5  -0.5                       -44209400               \n",
       "6  -0.4                       -32402315               \n",
       "7  -6.1                          143513               \n",
       "8   2.3                          443858               \n",
       "9  -0.5                         1037197               \n",
       "10  3.4                       -10169495               \n",
       "   oty_total_qtrly_wages_pct_chg oty_taxable_qtrly_wages_chg\n",
       "1   -0.4                         -72239618                  \n",
       "2   -4.5                                 0                  \n",
       "3    1.3                                 0                  \n",
       "4    1.3                                 0                  \n",
       "5   -4.5                                 0                  \n",
       "6  -14.4                                 0                  \n",
       "7    1.4                                 0                  \n",
       "8    1.4                                 0                  \n",
       "9    3.3                                 0                  \n",
       "10  -5.5                                 0                  \n",
       "   oty_taxable_qtrly_wages_pct_chg oty_qtrly_contributions_chg\n",
       "1  -1.8                            -21796208                  \n",
       "2   0.0                                    0                  \n",
       "3   0.0                                    0                  \n",
       "4   0.0                                    0                  \n",
       "5   0.0                                    0                  \n",
       "6   0.0                                    0                  \n",
       "7   0.0                                    0                  \n",
       "8   0.0                                    0                  \n",
       "9   0.0                                    0                  \n",
       "10  0.0                                    0                  \n",
       "   oty_qtrly_contributions_pct_chg oty_avg_wkly_wage_chg\n",
       "1  -28.5                            -11                 \n",
       "2    0.0                            -59                 \n",
       "3    0.0                             24                 \n",
       "4    0.0                             24                 \n",
       "5    0.0                            -59                 \n",
       "6    0.0                           -163                 \n",
       "7    0.0                             58                 \n",
       "8    0.0                            -26                 \n",
       "9    0.0                             61                 \n",
       "10   0.0                           -119                 \n",
       "   oty_avg_wkly_wage_pct_chg\n",
       "1   -1.2                    \n",
       "2   -4.3                    \n",
       "3    1.3                    \n",
       "4    1.3                    \n",
       "5   -4.3                    \n",
       "6  -14.4                    \n",
       "7    6.3                    \n",
       "8   -1.5                    \n",
       "9    3.7                    \n",
       "10  -8.1                    "
      ]
     },
     "metadata": {},
     "output_type": "display_data"
    }
   ],
   "source": [
    "head(data,10)"
   ]
  },
  {
   "cell_type": "markdown",
   "metadata": {},
   "source": [
    "See? Just like `read.csv()` from before! Now onto a new kind of importing: importing packages."
   ]
  },
  {
   "cell_type": "markdown",
   "metadata": {},
   "source": [
    "  ### Importing packages <a id='Importing packages'></a>"
   ]
  },
  {
   "cell_type": "markdown",
   "metadata": {},
   "source": [
    "Packages might seem like a foreign concept to us right now because we haven't used too many of them but in essence they're *add-ons* to R. R can already do lots of useful stuff on its own but we can download extra things and import them into our session of R to make it do even more. One of R's biggest advantages over other languages is its huge library of packages. These are stored in the Comprehensive R Archive Network, or CRAN: https://cran.r-project.org. There are over 10,000 available packages right now so don't feel bad if you can't use them all but right now it's essential you know how to install them from the web and import them into your session. An extremely useful package we'll use in our final section of this notebook is `ggplot2`, which is a package to make graphs look sexier than R's standard graphing library. \n",
    "\n",
    "To install `ggplot2` we would use the command:\n",
    "\n",
    "```r\n",
    "install.packages('ggplot2')\n",
    "```\n",
    "\n",
    "But because we are using a Jupyter notebook `ggplot2` has already been installed (downloaded). Therefore all we need to do is import it, which we do using the command:"
   ]
  },
  {
   "cell_type": "code",
   "execution_count": 72,
   "metadata": {},
   "outputs": [],
   "source": [
    "library(\"ggplot2\")"
   ]
  },
  {
   "cell_type": "markdown",
   "metadata": {},
   "source": [
    "If nothing happens after running this command then that's awesome - we're good to go. One package we won't already have installed is `BHSBVAR`, which is a package for 'Structural Bayesian Vector Autoregression Models'. We install this as expected:"
   ]
  },
  {
   "cell_type": "code",
   "execution_count": 73,
   "metadata": {},
   "outputs": [
    {
     "name": "stdout",
     "output_type": "stream",
     "text": [
      "\n",
      "The downloaded binary packages are in\n",
      "\t/var/folders/45/1l28_wqj4m7gwjtnrw1k7mgr0000gn/T//Rtmpfllx3p/downloaded_packages\n"
     ]
    }
   ],
   "source": [
    "install.packages('BHSBVAR')"
   ]
  },
  {
   "cell_type": "markdown",
   "metadata": {},
   "source": [
    "And then import is using:"
   ]
  },
  {
   "cell_type": "code",
   "execution_count": 74,
   "metadata": {},
   "outputs": [],
   "source": [
    "library(BHSBVAR)"
   ]
  },
  {
   "cell_type": "markdown",
   "metadata": {},
   "source": [
    "We don't need to know how to do Structural Bayesian Vector Autoregression Models and we don't need to know how to use a package designed to help us do them. But the key thing is that we can now import packages. We'll get a better sense of them when we start using `ggplot2` in our final section."
   ]
  },
  {
   "cell_type": "markdown",
   "metadata": {},
   "source": [
    "  ### Graphing and visualisation<a id='Graphing and visualisation'></a>"
   ]
  },
  {
   "cell_type": "markdown",
   "metadata": {},
   "source": [
    "This probably the first 'cool' thing we're going to learn to do with R. Visualisation is one of the easiest ways to explain what your data looks like and can make working with interesting data really fun too. We're going to use the dataset we introduced in Week 1 to start creating some graphs. "
   ]
  },
  {
   "cell_type": "code",
   "execution_count": 75,
   "metadata": {},
   "outputs": [],
   "source": [
    "data<-read.csv('https://github.com/hands-on-econ/Hands-On-Econ/raw/master/Datasets/acs2015_county_data.csv')"
   ]
  },
  {
   "cell_type": "markdown",
   "metadata": {},
   "source": [
    "Before we plot anything we *need* to know what our data looks like. So let's have a peek: "
   ]
  },
  {
   "cell_type": "code",
   "execution_count": 76,
   "metadata": {},
   "outputs": [
    {
     "data": {
      "text/html": [
       "<table>\n",
       "<caption>A data.frame: 10 × 37</caption>\n",
       "<thead>\n",
       "\t<tr><th scope=col>CensusId</th><th scope=col>State</th><th scope=col>County</th><th scope=col>TotalPop</th><th scope=col>Men</th><th scope=col>Women</th><th scope=col>Hispanic</th><th scope=col>White</th><th scope=col>Black</th><th scope=col>Native</th><th scope=col>⋯</th><th scope=col>Walk</th><th scope=col>OtherTransp</th><th scope=col>WorkAtHome</th><th scope=col>MeanCommute</th><th scope=col>Employed</th><th scope=col>PrivateWork</th><th scope=col>PublicWork</th><th scope=col>SelfEmployed</th><th scope=col>FamilyWork</th><th scope=col>Unemployment</th></tr>\n",
       "\t<tr><th scope=col>&lt;int&gt;</th><th scope=col>&lt;fct&gt;</th><th scope=col>&lt;fct&gt;</th><th scope=col>&lt;int&gt;</th><th scope=col>&lt;int&gt;</th><th scope=col>&lt;int&gt;</th><th scope=col>&lt;dbl&gt;</th><th scope=col>&lt;dbl&gt;</th><th scope=col>&lt;dbl&gt;</th><th scope=col>&lt;dbl&gt;</th><th scope=col>⋯</th><th scope=col>&lt;dbl&gt;</th><th scope=col>&lt;dbl&gt;</th><th scope=col>&lt;dbl&gt;</th><th scope=col>&lt;dbl&gt;</th><th scope=col>&lt;int&gt;</th><th scope=col>&lt;dbl&gt;</th><th scope=col>&lt;dbl&gt;</th><th scope=col>&lt;dbl&gt;</th><th scope=col>&lt;dbl&gt;</th><th scope=col>&lt;dbl&gt;</th></tr>\n",
       "</thead>\n",
       "<tbody>\n",
       "\t<tr><td>1001</td><td>Alabama</td><td>Autauga </td><td> 55221</td><td>26745</td><td>28476</td><td>2.6</td><td>75.8</td><td>18.5</td><td>0.4</td><td>⋯</td><td>0.5</td><td>1.3</td><td>1.8</td><td>26.5</td><td>23986</td><td>73.6</td><td>20.9</td><td>5.5</td><td>0.0</td><td> 7.6</td></tr>\n",
       "\t<tr><td>1003</td><td>Alabama</td><td>Baldwin </td><td>195121</td><td>95314</td><td>99807</td><td>4.5</td><td>83.1</td><td> 9.5</td><td>0.6</td><td>⋯</td><td>1.0</td><td>1.4</td><td>3.9</td><td>26.4</td><td>85953</td><td>81.5</td><td>12.3</td><td>5.8</td><td>0.4</td><td> 7.5</td></tr>\n",
       "\t<tr><td>1005</td><td>Alabama</td><td>Barbour </td><td> 26932</td><td>14497</td><td>12435</td><td>4.6</td><td>46.2</td><td>46.7</td><td>0.2</td><td>⋯</td><td>1.8</td><td>1.5</td><td>1.6</td><td>24.1</td><td> 8597</td><td>71.8</td><td>20.8</td><td>7.3</td><td>0.1</td><td>17.6</td></tr>\n",
       "\t<tr><td>1007</td><td>Alabama</td><td>Bibb    </td><td> 22604</td><td>12073</td><td>10531</td><td>2.2</td><td>74.5</td><td>21.4</td><td>0.4</td><td>⋯</td><td>0.6</td><td>1.5</td><td>0.7</td><td>28.8</td><td> 8294</td><td>76.8</td><td>16.1</td><td>6.7</td><td>0.4</td><td> 8.3</td></tr>\n",
       "\t<tr><td>1009</td><td>Alabama</td><td>Blount  </td><td> 57710</td><td>28512</td><td>29198</td><td>8.6</td><td>87.9</td><td> 1.5</td><td>0.3</td><td>⋯</td><td>0.9</td><td>0.4</td><td>2.3</td><td>34.9</td><td>22189</td><td>82.0</td><td>13.5</td><td>4.2</td><td>0.4</td><td> 7.7</td></tr>\n",
       "\t<tr><td>1011</td><td>Alabama</td><td>Bullock </td><td> 10678</td><td> 5660</td><td> 5018</td><td>4.4</td><td>22.2</td><td>70.7</td><td>1.2</td><td>⋯</td><td>5.0</td><td>1.7</td><td>2.8</td><td>27.5</td><td> 3865</td><td>79.5</td><td>15.1</td><td>5.4</td><td>0.0</td><td>18.0</td></tr>\n",
       "\t<tr><td>1013</td><td>Alabama</td><td>Butler  </td><td> 20354</td><td> 9502</td><td>10852</td><td>1.2</td><td>53.3</td><td>43.8</td><td>0.1</td><td>⋯</td><td>0.8</td><td>0.6</td><td>1.7</td><td>24.6</td><td> 7813</td><td>77.4</td><td>16.2</td><td>6.2</td><td>0.2</td><td>10.9</td></tr>\n",
       "\t<tr><td>1015</td><td>Alabama</td><td>Calhoun </td><td>116648</td><td>56274</td><td>60374</td><td>3.5</td><td>73.0</td><td>20.3</td><td>0.2</td><td>⋯</td><td>1.2</td><td>1.2</td><td>2.7</td><td>24.1</td><td>47401</td><td>74.1</td><td>20.8</td><td>5.0</td><td>0.1</td><td>12.3</td></tr>\n",
       "\t<tr><td>1017</td><td>Alabama</td><td>Chambers</td><td> 34079</td><td>16258</td><td>17821</td><td>0.4</td><td>57.3</td><td>40.3</td><td>0.2</td><td>⋯</td><td>0.3</td><td>0.4</td><td>2.1</td><td>25.1</td><td>13689</td><td>85.1</td><td>12.1</td><td>2.8</td><td>0.0</td><td> 8.9</td></tr>\n",
       "\t<tr><td>1019</td><td>Alabama</td><td>Cherokee</td><td> 26008</td><td>12975</td><td>13033</td><td>1.5</td><td>91.7</td><td> 4.8</td><td>0.6</td><td>⋯</td><td>0.6</td><td>0.7</td><td>2.5</td><td>27.4</td><td>10155</td><td>73.1</td><td>18.5</td><td>7.9</td><td>0.5</td><td> 7.9</td></tr>\n",
       "</tbody>\n",
       "</table>\n"
      ],
      "text/latex": [
       "A data.frame: 10 × 37\n",
       "\\begin{tabular}{r|lllllllllllllllllllllllllllllllllllll}\n",
       " CensusId & State & County & TotalPop & Men & Women & Hispanic & White & Black & Native & Asian & Pacific & Citizen & Income & IncomeErr & IncomePerCap & IncomePerCapErr & Poverty & ChildPoverty & Professional & Service & Office & Construction & Production & Drive & Carpool & Transit & Walk & OtherTransp & WorkAtHome & MeanCommute & Employed & PrivateWork & PublicWork & SelfEmployed & FamilyWork & Unemployment\\\\\n",
       " <int> & <fct> & <fct> & <int> & <int> & <int> & <dbl> & <dbl> & <dbl> & <dbl> & <dbl> & <dbl> & <int> & <dbl> & <dbl> & <int> & <int> & <dbl> & <dbl> & <dbl> & <dbl> & <dbl> & <dbl> & <dbl> & <dbl> & <dbl> & <dbl> & <dbl> & <dbl> & <dbl> & <dbl> & <int> & <dbl> & <dbl> & <dbl> & <dbl> & <dbl>\\\\\n",
       "\\hline\n",
       "\t 1001 & Alabama & Autauga  &  55221 & 26745 & 28476 & 2.6 & 75.8 & 18.5 & 0.4 & 1.0 & 0 &  40725 & 51281 & 2391 & 24974 & 1080 & 12.9 & 18.6 & 33.2 & 17.0 & 24.2 &  8.6 & 17.1 & 87.5 &  8.8 & 0.1 & 0.5 & 1.3 & 1.8 & 26.5 & 23986 & 73.6 & 20.9 & 5.5 & 0.0 &  7.6\\\\\n",
       "\t 1003 & Alabama & Baldwin  & 195121 & 95314 & 99807 & 4.5 & 83.1 &  9.5 & 0.6 & 0.7 & 0 & 147695 & 50254 & 1263 & 27317 &  711 & 13.4 & 19.2 & 33.1 & 17.7 & 27.1 & 10.8 & 11.2 & 84.7 &  8.8 & 0.1 & 1.0 & 1.4 & 3.9 & 26.4 & 85953 & 81.5 & 12.3 & 5.8 & 0.4 &  7.5\\\\\n",
       "\t 1005 & Alabama & Barbour  &  26932 & 14497 & 12435 & 4.6 & 46.2 & 46.7 & 0.2 & 0.4 & 0 &  20714 & 32964 & 2973 & 16824 &  798 & 26.7 & 45.3 & 26.8 & 16.1 & 23.1 & 10.8 & 23.1 & 83.8 & 10.9 & 0.4 & 1.8 & 1.5 & 1.6 & 24.1 &  8597 & 71.8 & 20.8 & 7.3 & 0.1 & 17.6\\\\\n",
       "\t 1007 & Alabama & Bibb     &  22604 & 12073 & 10531 & 2.2 & 74.5 & 21.4 & 0.4 & 0.1 & 0 &  17495 & 38678 & 3995 & 18431 & 1618 & 16.8 & 27.9 & 21.5 & 17.9 & 17.8 & 19.0 & 23.7 & 83.2 & 13.5 & 0.5 & 0.6 & 1.5 & 0.7 & 28.8 &  8294 & 76.8 & 16.1 & 6.7 & 0.4 &  8.3\\\\\n",
       "\t 1009 & Alabama & Blount   &  57710 & 28512 & 29198 & 8.6 & 87.9 &  1.5 & 0.3 & 0.1 & 0 &  42345 & 45813 & 3141 & 20532 &  708 & 16.7 & 27.2 & 28.5 & 14.1 & 23.9 & 13.5 & 19.9 & 84.9 & 11.2 & 0.4 & 0.9 & 0.4 & 2.3 & 34.9 & 22189 & 82.0 & 13.5 & 4.2 & 0.4 &  7.7\\\\\n",
       "\t 1011 & Alabama & Bullock  &  10678 &  5660 &  5018 & 4.4 & 22.2 & 70.7 & 1.2 & 0.2 & 0 &   8057 & 31938 & 5884 & 17580 & 2055 & 24.6 & 38.4 & 18.8 & 15.0 & 19.7 & 20.1 & 26.4 & 74.9 & 14.9 & 0.7 & 5.0 & 1.7 & 2.8 & 27.5 &  3865 & 79.5 & 15.1 & 5.4 & 0.0 & 18.0\\\\\n",
       "\t 1013 & Alabama & Butler   &  20354 &  9502 & 10852 & 1.2 & 53.3 & 43.8 & 0.1 & 0.4 & 0 &  15581 & 32229 & 1793 & 18390 &  714 & 25.4 & 39.2 & 27.5 & 16.6 & 21.9 & 10.3 & 23.7 & 84.5 & 12.4 & 0.0 & 0.8 & 0.6 & 1.7 & 24.6 &  7813 & 77.4 & 16.2 & 6.2 & 0.2 & 10.9\\\\\n",
       "\t 1015 & Alabama & Calhoun  & 116648 & 56274 & 60374 & 3.5 & 73.0 & 20.3 & 0.2 & 0.9 & 0 &  88612 & 41703 &  925 & 21374 &  489 & 20.5 & 31.6 & 27.3 & 17.7 & 24.2 & 10.5 & 20.4 & 85.3 &  9.4 & 0.2 & 1.2 & 1.2 & 2.7 & 24.1 & 47401 & 74.1 & 20.8 & 5.0 & 0.1 & 12.3\\\\\n",
       "\t 1017 & Alabama & Chambers &  34079 & 16258 & 17821 & 0.4 & 57.3 & 40.3 & 0.2 & 0.8 & 0 &  26462 & 34177 & 2949 & 21071 & 1366 & 21.6 & 37.2 & 23.3 & 14.5 & 26.3 & 11.5 & 24.4 & 85.1 & 11.9 & 0.2 & 0.3 & 0.4 & 2.1 & 25.1 & 13689 & 85.1 & 12.1 & 2.8 & 0.0 &  8.9\\\\\n",
       "\t 1019 & Alabama & Cherokee &  26008 & 12975 & 13033 & 1.5 & 91.7 &  4.8 & 0.6 & 0.3 & 0 &  20600 & 36296 & 1710 & 21811 & 1556 & 19.2 & 30.1 & 29.3 & 16.0 & 19.5 & 13.7 & 21.5 & 83.9 & 12.1 & 0.2 & 0.6 & 0.7 & 2.5 & 27.4 & 10155 & 73.1 & 18.5 & 7.9 & 0.5 &  7.9\\\\\n",
       "\\end{tabular}\n"
      ],
      "text/markdown": [
       "\n",
       "A data.frame: 10 × 37\n",
       "\n",
       "| CensusId &lt;int&gt; | State &lt;fct&gt; | County &lt;fct&gt; | TotalPop &lt;int&gt; | Men &lt;int&gt; | Women &lt;int&gt; | Hispanic &lt;dbl&gt; | White &lt;dbl&gt; | Black &lt;dbl&gt; | Native &lt;dbl&gt; | ⋯ ⋯ | Walk &lt;dbl&gt; | OtherTransp &lt;dbl&gt; | WorkAtHome &lt;dbl&gt; | MeanCommute &lt;dbl&gt; | Employed &lt;int&gt; | PrivateWork &lt;dbl&gt; | PublicWork &lt;dbl&gt; | SelfEmployed &lt;dbl&gt; | FamilyWork &lt;dbl&gt; | Unemployment &lt;dbl&gt; |\n",
       "|---|---|---|---|---|---|---|---|---|---|---|---|---|---|---|---|---|---|---|---|---|\n",
       "| 1001 | Alabama | Autauga  |  55221 | 26745 | 28476 | 2.6 | 75.8 | 18.5 | 0.4 | ⋯ | 0.5 | 1.3 | 1.8 | 26.5 | 23986 | 73.6 | 20.9 | 5.5 | 0.0 |  7.6 |\n",
       "| 1003 | Alabama | Baldwin  | 195121 | 95314 | 99807 | 4.5 | 83.1 |  9.5 | 0.6 | ⋯ | 1.0 | 1.4 | 3.9 | 26.4 | 85953 | 81.5 | 12.3 | 5.8 | 0.4 |  7.5 |\n",
       "| 1005 | Alabama | Barbour  |  26932 | 14497 | 12435 | 4.6 | 46.2 | 46.7 | 0.2 | ⋯ | 1.8 | 1.5 | 1.6 | 24.1 |  8597 | 71.8 | 20.8 | 7.3 | 0.1 | 17.6 |\n",
       "| 1007 | Alabama | Bibb     |  22604 | 12073 | 10531 | 2.2 | 74.5 | 21.4 | 0.4 | ⋯ | 0.6 | 1.5 | 0.7 | 28.8 |  8294 | 76.8 | 16.1 | 6.7 | 0.4 |  8.3 |\n",
       "| 1009 | Alabama | Blount   |  57710 | 28512 | 29198 | 8.6 | 87.9 |  1.5 | 0.3 | ⋯ | 0.9 | 0.4 | 2.3 | 34.9 | 22189 | 82.0 | 13.5 | 4.2 | 0.4 |  7.7 |\n",
       "| 1011 | Alabama | Bullock  |  10678 |  5660 |  5018 | 4.4 | 22.2 | 70.7 | 1.2 | ⋯ | 5.0 | 1.7 | 2.8 | 27.5 |  3865 | 79.5 | 15.1 | 5.4 | 0.0 | 18.0 |\n",
       "| 1013 | Alabama | Butler   |  20354 |  9502 | 10852 | 1.2 | 53.3 | 43.8 | 0.1 | ⋯ | 0.8 | 0.6 | 1.7 | 24.6 |  7813 | 77.4 | 16.2 | 6.2 | 0.2 | 10.9 |\n",
       "| 1015 | Alabama | Calhoun  | 116648 | 56274 | 60374 | 3.5 | 73.0 | 20.3 | 0.2 | ⋯ | 1.2 | 1.2 | 2.7 | 24.1 | 47401 | 74.1 | 20.8 | 5.0 | 0.1 | 12.3 |\n",
       "| 1017 | Alabama | Chambers |  34079 | 16258 | 17821 | 0.4 | 57.3 | 40.3 | 0.2 | ⋯ | 0.3 | 0.4 | 2.1 | 25.1 | 13689 | 85.1 | 12.1 | 2.8 | 0.0 |  8.9 |\n",
       "| 1019 | Alabama | Cherokee |  26008 | 12975 | 13033 | 1.5 | 91.7 |  4.8 | 0.6 | ⋯ | 0.6 | 0.7 | 2.5 | 27.4 | 10155 | 73.1 | 18.5 | 7.9 | 0.5 |  7.9 |\n",
       "\n"
      ],
      "text/plain": [
       "   CensusId State   County   TotalPop Men   Women Hispanic White Black Native ⋯\n",
       "1  1001     Alabama Autauga   55221   26745 28476 2.6      75.8  18.5  0.4    ⋯\n",
       "2  1003     Alabama Baldwin  195121   95314 99807 4.5      83.1   9.5  0.6    ⋯\n",
       "3  1005     Alabama Barbour   26932   14497 12435 4.6      46.2  46.7  0.2    ⋯\n",
       "4  1007     Alabama Bibb      22604   12073 10531 2.2      74.5  21.4  0.4    ⋯\n",
       "5  1009     Alabama Blount    57710   28512 29198 8.6      87.9   1.5  0.3    ⋯\n",
       "6  1011     Alabama Bullock   10678    5660  5018 4.4      22.2  70.7  1.2    ⋯\n",
       "7  1013     Alabama Butler    20354    9502 10852 1.2      53.3  43.8  0.1    ⋯\n",
       "8  1015     Alabama Calhoun  116648   56274 60374 3.5      73.0  20.3  0.2    ⋯\n",
       "9  1017     Alabama Chambers  34079   16258 17821 0.4      57.3  40.3  0.2    ⋯\n",
       "10 1019     Alabama Cherokee  26008   12975 13033 1.5      91.7   4.8  0.6    ⋯\n",
       "   Walk OtherTransp WorkAtHome MeanCommute Employed PrivateWork PublicWork\n",
       "1  0.5  1.3         1.8        26.5        23986    73.6        20.9      \n",
       "2  1.0  1.4         3.9        26.4        85953    81.5        12.3      \n",
       "3  1.8  1.5         1.6        24.1         8597    71.8        20.8      \n",
       "4  0.6  1.5         0.7        28.8         8294    76.8        16.1      \n",
       "5  0.9  0.4         2.3        34.9        22189    82.0        13.5      \n",
       "6  5.0  1.7         2.8        27.5         3865    79.5        15.1      \n",
       "7  0.8  0.6         1.7        24.6         7813    77.4        16.2      \n",
       "8  1.2  1.2         2.7        24.1        47401    74.1        20.8      \n",
       "9  0.3  0.4         2.1        25.1        13689    85.1        12.1      \n",
       "10 0.6  0.7         2.5        27.4        10155    73.1        18.5      \n",
       "   SelfEmployed FamilyWork Unemployment\n",
       "1  5.5          0.0         7.6        \n",
       "2  5.8          0.4         7.5        \n",
       "3  7.3          0.1        17.6        \n",
       "4  6.7          0.4         8.3        \n",
       "5  4.2          0.4         7.7        \n",
       "6  5.4          0.0        18.0        \n",
       "7  6.2          0.2        10.9        \n",
       "8  5.0          0.1        12.3        \n",
       "9  2.8          0.0         8.9        \n",
       "10 7.9          0.5         7.9        "
      ]
     },
     "metadata": {},
     "output_type": "display_data"
    }
   ],
   "source": [
    "head(data,10)"
   ]
  },
  {
   "cell_type": "code",
   "execution_count": 77,
   "metadata": {},
   "outputs": [
    {
     "data": {
      "text/html": [
       "<ol class=list-inline>\n",
       "\t<li>'CensusId'</li>\n",
       "\t<li>'State'</li>\n",
       "\t<li>'County'</li>\n",
       "\t<li>'TotalPop'</li>\n",
       "\t<li>'Men'</li>\n",
       "\t<li>'Women'</li>\n",
       "\t<li>'Hispanic'</li>\n",
       "\t<li>'White'</li>\n",
       "\t<li>'Black'</li>\n",
       "\t<li>'Native'</li>\n",
       "\t<li>'Asian'</li>\n",
       "\t<li>'Pacific'</li>\n",
       "\t<li>'Citizen'</li>\n",
       "\t<li>'Income'</li>\n",
       "\t<li>'IncomeErr'</li>\n",
       "\t<li>'IncomePerCap'</li>\n",
       "\t<li>'IncomePerCapErr'</li>\n",
       "\t<li>'Poverty'</li>\n",
       "\t<li>'ChildPoverty'</li>\n",
       "\t<li>'Professional'</li>\n",
       "\t<li>'Service'</li>\n",
       "\t<li>'Office'</li>\n",
       "\t<li>'Construction'</li>\n",
       "\t<li>'Production'</li>\n",
       "\t<li>'Drive'</li>\n",
       "\t<li>'Carpool'</li>\n",
       "\t<li>'Transit'</li>\n",
       "\t<li>'Walk'</li>\n",
       "\t<li>'OtherTransp'</li>\n",
       "\t<li>'WorkAtHome'</li>\n",
       "\t<li>'MeanCommute'</li>\n",
       "\t<li>'Employed'</li>\n",
       "\t<li>'PrivateWork'</li>\n",
       "\t<li>'PublicWork'</li>\n",
       "\t<li>'SelfEmployed'</li>\n",
       "\t<li>'FamilyWork'</li>\n",
       "\t<li>'Unemployment'</li>\n",
       "</ol>\n"
      ],
      "text/latex": [
       "\\begin{enumerate*}\n",
       "\\item 'CensusId'\n",
       "\\item 'State'\n",
       "\\item 'County'\n",
       "\\item 'TotalPop'\n",
       "\\item 'Men'\n",
       "\\item 'Women'\n",
       "\\item 'Hispanic'\n",
       "\\item 'White'\n",
       "\\item 'Black'\n",
       "\\item 'Native'\n",
       "\\item 'Asian'\n",
       "\\item 'Pacific'\n",
       "\\item 'Citizen'\n",
       "\\item 'Income'\n",
       "\\item 'IncomeErr'\n",
       "\\item 'IncomePerCap'\n",
       "\\item 'IncomePerCapErr'\n",
       "\\item 'Poverty'\n",
       "\\item 'ChildPoverty'\n",
       "\\item 'Professional'\n",
       "\\item 'Service'\n",
       "\\item 'Office'\n",
       "\\item 'Construction'\n",
       "\\item 'Production'\n",
       "\\item 'Drive'\n",
       "\\item 'Carpool'\n",
       "\\item 'Transit'\n",
       "\\item 'Walk'\n",
       "\\item 'OtherTransp'\n",
       "\\item 'WorkAtHome'\n",
       "\\item 'MeanCommute'\n",
       "\\item 'Employed'\n",
       "\\item 'PrivateWork'\n",
       "\\item 'PublicWork'\n",
       "\\item 'SelfEmployed'\n",
       "\\item 'FamilyWork'\n",
       "\\item 'Unemployment'\n",
       "\\end{enumerate*}\n"
      ],
      "text/markdown": [
       "1. 'CensusId'\n",
       "2. 'State'\n",
       "3. 'County'\n",
       "4. 'TotalPop'\n",
       "5. 'Men'\n",
       "6. 'Women'\n",
       "7. 'Hispanic'\n",
       "8. 'White'\n",
       "9. 'Black'\n",
       "10. 'Native'\n",
       "11. 'Asian'\n",
       "12. 'Pacific'\n",
       "13. 'Citizen'\n",
       "14. 'Income'\n",
       "15. 'IncomeErr'\n",
       "16. 'IncomePerCap'\n",
       "17. 'IncomePerCapErr'\n",
       "18. 'Poverty'\n",
       "19. 'ChildPoverty'\n",
       "20. 'Professional'\n",
       "21. 'Service'\n",
       "22. 'Office'\n",
       "23. 'Construction'\n",
       "24. 'Production'\n",
       "25. 'Drive'\n",
       "26. 'Carpool'\n",
       "27. 'Transit'\n",
       "28. 'Walk'\n",
       "29. 'OtherTransp'\n",
       "30. 'WorkAtHome'\n",
       "31. 'MeanCommute'\n",
       "32. 'Employed'\n",
       "33. 'PrivateWork'\n",
       "34. 'PublicWork'\n",
       "35. 'SelfEmployed'\n",
       "36. 'FamilyWork'\n",
       "37. 'Unemployment'\n",
       "\n",
       "\n"
      ],
      "text/plain": [
       " [1] \"CensusId\"        \"State\"           \"County\"          \"TotalPop\"       \n",
       " [5] \"Men\"             \"Women\"           \"Hispanic\"        \"White\"          \n",
       " [9] \"Black\"           \"Native\"          \"Asian\"           \"Pacific\"        \n",
       "[13] \"Citizen\"         \"Income\"          \"IncomeErr\"       \"IncomePerCap\"   \n",
       "[17] \"IncomePerCapErr\" \"Poverty\"         \"ChildPoverty\"    \"Professional\"   \n",
       "[21] \"Service\"         \"Office\"          \"Construction\"    \"Production\"     \n",
       "[25] \"Drive\"           \"Carpool\"         \"Transit\"         \"Walk\"           \n",
       "[29] \"OtherTransp\"     \"WorkAtHome\"      \"MeanCommute\"     \"Employed\"       \n",
       "[33] \"PrivateWork\"     \"PublicWork\"      \"SelfEmployed\"    \"FamilyWork\"     \n",
       "[37] \"Unemployment\"   "
      ]
     },
     "metadata": {},
     "output_type": "display_data"
    }
   ],
   "source": [
    "colnames(data)"
   ]
  },
  {
   "cell_type": "markdown",
   "metadata": {},
   "source": [
    "Clearly this is Census data from US counties. We suspect that every US state is included in this dataset but we're not sure, so we have a look:"
   ]
  },
  {
   "cell_type": "code",
   "execution_count": 78,
   "metadata": {},
   "outputs": [
    {
     "data": {
      "text/html": [
       "<ol class=list-inline>\n",
       "\t<li>Alabama</li>\n",
       "\t<li>Alaska</li>\n",
       "\t<li>Arizona</li>\n",
       "\t<li>Arkansas</li>\n",
       "\t<li>California</li>\n",
       "\t<li>Colorado</li>\n",
       "\t<li>Connecticut</li>\n",
       "\t<li>Delaware</li>\n",
       "\t<li>District of Columbia</li>\n",
       "\t<li>Florida</li>\n",
       "\t<li>Georgia</li>\n",
       "\t<li>Hawaii</li>\n",
       "\t<li>Idaho</li>\n",
       "\t<li>Illinois</li>\n",
       "\t<li>Indiana</li>\n",
       "\t<li>Iowa</li>\n",
       "\t<li>Kansas</li>\n",
       "\t<li>Kentucky</li>\n",
       "\t<li>Louisiana</li>\n",
       "\t<li>Maine</li>\n",
       "\t<li>Maryland</li>\n",
       "\t<li>Massachusetts</li>\n",
       "\t<li>Michigan</li>\n",
       "\t<li>Minnesota</li>\n",
       "\t<li>Mississippi</li>\n",
       "\t<li>Missouri</li>\n",
       "\t<li>Montana</li>\n",
       "\t<li>Nebraska</li>\n",
       "\t<li>Nevada</li>\n",
       "\t<li>New Hampshire</li>\n",
       "\t<li>New Jersey</li>\n",
       "\t<li>New Mexico</li>\n",
       "\t<li>New York</li>\n",
       "\t<li>North Carolina</li>\n",
       "\t<li>North Dakota</li>\n",
       "\t<li>Ohio</li>\n",
       "\t<li>Oklahoma</li>\n",
       "\t<li>Oregon</li>\n",
       "\t<li>Pennsylvania</li>\n",
       "\t<li>Rhode Island</li>\n",
       "\t<li>South Carolina</li>\n",
       "\t<li>South Dakota</li>\n",
       "\t<li>Tennessee</li>\n",
       "\t<li>Texas</li>\n",
       "\t<li>Utah</li>\n",
       "\t<li>Vermont</li>\n",
       "\t<li>Virginia</li>\n",
       "\t<li>Washington</li>\n",
       "\t<li>West Virginia</li>\n",
       "\t<li>Wisconsin</li>\n",
       "\t<li>Wyoming</li>\n",
       "\t<li>Puerto Rico</li>\n",
       "</ol>\n",
       "\n",
       "<details>\n",
       "\t<summary style=display:list-item;cursor:pointer>\n",
       "\t\t<strong>Levels</strong>:\n",
       "\t</summary>\n",
       "\t<ol class=list-inline>\n",
       "\t\t<li>'Alabama'</li>\n",
       "\t\t<li>'Alaska'</li>\n",
       "\t\t<li>'Arizona'</li>\n",
       "\t\t<li>'Arkansas'</li>\n",
       "\t\t<li>'California'</li>\n",
       "\t\t<li>'Colorado'</li>\n",
       "\t\t<li>'Connecticut'</li>\n",
       "\t\t<li>'Delaware'</li>\n",
       "\t\t<li>'District of Columbia'</li>\n",
       "\t\t<li>'Florida'</li>\n",
       "\t\t<li>'Georgia'</li>\n",
       "\t\t<li>'Hawaii'</li>\n",
       "\t\t<li>'Idaho'</li>\n",
       "\t\t<li>'Illinois'</li>\n",
       "\t\t<li>'Indiana'</li>\n",
       "\t\t<li>'Iowa'</li>\n",
       "\t\t<li>'Kansas'</li>\n",
       "\t\t<li>'Kentucky'</li>\n",
       "\t\t<li>'Louisiana'</li>\n",
       "\t\t<li>'Maine'</li>\n",
       "\t\t<li>'Maryland'</li>\n",
       "\t\t<li>'Massachusetts'</li>\n",
       "\t\t<li>'Michigan'</li>\n",
       "\t\t<li>'Minnesota'</li>\n",
       "\t\t<li>'Mississippi'</li>\n",
       "\t\t<li>'Missouri'</li>\n",
       "\t\t<li>'Montana'</li>\n",
       "\t\t<li>'Nebraska'</li>\n",
       "\t\t<li>'Nevada'</li>\n",
       "\t\t<li>'New Hampshire'</li>\n",
       "\t\t<li>'New Jersey'</li>\n",
       "\t\t<li>'New Mexico'</li>\n",
       "\t\t<li>'New York'</li>\n",
       "\t\t<li>'North Carolina'</li>\n",
       "\t\t<li>'North Dakota'</li>\n",
       "\t\t<li>'Ohio'</li>\n",
       "\t\t<li>'Oklahoma'</li>\n",
       "\t\t<li>'Oregon'</li>\n",
       "\t\t<li>'Pennsylvania'</li>\n",
       "\t\t<li>'Puerto Rico'</li>\n",
       "\t\t<li>'Rhode Island'</li>\n",
       "\t\t<li>'South Carolina'</li>\n",
       "\t\t<li>'South Dakota'</li>\n",
       "\t\t<li>'Tennessee'</li>\n",
       "\t\t<li>'Texas'</li>\n",
       "\t\t<li>'Utah'</li>\n",
       "\t\t<li>'Vermont'</li>\n",
       "\t\t<li>'Virginia'</li>\n",
       "\t\t<li>'Washington'</li>\n",
       "\t\t<li>'West Virginia'</li>\n",
       "\t\t<li>'Wisconsin'</li>\n",
       "\t\t<li>'Wyoming'</li>\n",
       "\t</ol>\n",
       "</details>"
      ],
      "text/latex": [
       "\\begin{enumerate*}\n",
       "\\item Alabama\n",
       "\\item Alaska\n",
       "\\item Arizona\n",
       "\\item Arkansas\n",
       "\\item California\n",
       "\\item Colorado\n",
       "\\item Connecticut\n",
       "\\item Delaware\n",
       "\\item District of Columbia\n",
       "\\item Florida\n",
       "\\item Georgia\n",
       "\\item Hawaii\n",
       "\\item Idaho\n",
       "\\item Illinois\n",
       "\\item Indiana\n",
       "\\item Iowa\n",
       "\\item Kansas\n",
       "\\item Kentucky\n",
       "\\item Louisiana\n",
       "\\item Maine\n",
       "\\item Maryland\n",
       "\\item Massachusetts\n",
       "\\item Michigan\n",
       "\\item Minnesota\n",
       "\\item Mississippi\n",
       "\\item Missouri\n",
       "\\item Montana\n",
       "\\item Nebraska\n",
       "\\item Nevada\n",
       "\\item New Hampshire\n",
       "\\item New Jersey\n",
       "\\item New Mexico\n",
       "\\item New York\n",
       "\\item North Carolina\n",
       "\\item North Dakota\n",
       "\\item Ohio\n",
       "\\item Oklahoma\n",
       "\\item Oregon\n",
       "\\item Pennsylvania\n",
       "\\item Rhode Island\n",
       "\\item South Carolina\n",
       "\\item South Dakota\n",
       "\\item Tennessee\n",
       "\\item Texas\n",
       "\\item Utah\n",
       "\\item Vermont\n",
       "\\item Virginia\n",
       "\\item Washington\n",
       "\\item West Virginia\n",
       "\\item Wisconsin\n",
       "\\item Wyoming\n",
       "\\item Puerto Rico\n",
       "\\end{enumerate*}\n",
       "\n",
       "\\emph{Levels}: \\begin{enumerate*}\n",
       "\\item 'Alabama'\n",
       "\\item 'Alaska'\n",
       "\\item 'Arizona'\n",
       "\\item 'Arkansas'\n",
       "\\item 'California'\n",
       "\\item 'Colorado'\n",
       "\\item 'Connecticut'\n",
       "\\item 'Delaware'\n",
       "\\item 'District of Columbia'\n",
       "\\item 'Florida'\n",
       "\\item 'Georgia'\n",
       "\\item 'Hawaii'\n",
       "\\item 'Idaho'\n",
       "\\item 'Illinois'\n",
       "\\item 'Indiana'\n",
       "\\item 'Iowa'\n",
       "\\item 'Kansas'\n",
       "\\item 'Kentucky'\n",
       "\\item 'Louisiana'\n",
       "\\item 'Maine'\n",
       "\\item 'Maryland'\n",
       "\\item 'Massachusetts'\n",
       "\\item 'Michigan'\n",
       "\\item 'Minnesota'\n",
       "\\item 'Mississippi'\n",
       "\\item 'Missouri'\n",
       "\\item 'Montana'\n",
       "\\item 'Nebraska'\n",
       "\\item 'Nevada'\n",
       "\\item 'New Hampshire'\n",
       "\\item 'New Jersey'\n",
       "\\item 'New Mexico'\n",
       "\\item 'New York'\n",
       "\\item 'North Carolina'\n",
       "\\item 'North Dakota'\n",
       "\\item 'Ohio'\n",
       "\\item 'Oklahoma'\n",
       "\\item 'Oregon'\n",
       "\\item 'Pennsylvania'\n",
       "\\item 'Puerto Rico'\n",
       "\\item 'Rhode Island'\n",
       "\\item 'South Carolina'\n",
       "\\item 'South Dakota'\n",
       "\\item 'Tennessee'\n",
       "\\item 'Texas'\n",
       "\\item 'Utah'\n",
       "\\item 'Vermont'\n",
       "\\item 'Virginia'\n",
       "\\item 'Washington'\n",
       "\\item 'West Virginia'\n",
       "\\item 'Wisconsin'\n",
       "\\item 'Wyoming'\n",
       "\\end{enumerate*}\n"
      ],
      "text/markdown": [
       "1. Alabama\n",
       "2. Alaska\n",
       "3. Arizona\n",
       "4. Arkansas\n",
       "5. California\n",
       "6. Colorado\n",
       "7. Connecticut\n",
       "8. Delaware\n",
       "9. District of Columbia\n",
       "10. Florida\n",
       "11. Georgia\n",
       "12. Hawaii\n",
       "13. Idaho\n",
       "14. Illinois\n",
       "15. Indiana\n",
       "16. Iowa\n",
       "17. Kansas\n",
       "18. Kentucky\n",
       "19. Louisiana\n",
       "20. Maine\n",
       "21. Maryland\n",
       "22. Massachusetts\n",
       "23. Michigan\n",
       "24. Minnesota\n",
       "25. Mississippi\n",
       "26. Missouri\n",
       "27. Montana\n",
       "28. Nebraska\n",
       "29. Nevada\n",
       "30. New Hampshire\n",
       "31. New Jersey\n",
       "32. New Mexico\n",
       "33. New York\n",
       "34. North Carolina\n",
       "35. North Dakota\n",
       "36. Ohio\n",
       "37. Oklahoma\n",
       "38. Oregon\n",
       "39. Pennsylvania\n",
       "40. Rhode Island\n",
       "41. South Carolina\n",
       "42. South Dakota\n",
       "43. Tennessee\n",
       "44. Texas\n",
       "45. Utah\n",
       "46. Vermont\n",
       "47. Virginia\n",
       "48. Washington\n",
       "49. West Virginia\n",
       "50. Wisconsin\n",
       "51. Wyoming\n",
       "52. Puerto Rico\n",
       "\n",
       "\n",
       "\n",
       "**Levels**: 1. 'Alabama'\n",
       "2. 'Alaska'\n",
       "3. 'Arizona'\n",
       "4. 'Arkansas'\n",
       "5. 'California'\n",
       "6. 'Colorado'\n",
       "7. 'Connecticut'\n",
       "8. 'Delaware'\n",
       "9. 'District of Columbia'\n",
       "10. 'Florida'\n",
       "11. 'Georgia'\n",
       "12. 'Hawaii'\n",
       "13. 'Idaho'\n",
       "14. 'Illinois'\n",
       "15. 'Indiana'\n",
       "16. 'Iowa'\n",
       "17. 'Kansas'\n",
       "18. 'Kentucky'\n",
       "19. 'Louisiana'\n",
       "20. 'Maine'\n",
       "21. 'Maryland'\n",
       "22. 'Massachusetts'\n",
       "23. 'Michigan'\n",
       "24. 'Minnesota'\n",
       "25. 'Mississippi'\n",
       "26. 'Missouri'\n",
       "27. 'Montana'\n",
       "28. 'Nebraska'\n",
       "29. 'Nevada'\n",
       "30. 'New Hampshire'\n",
       "31. 'New Jersey'\n",
       "32. 'New Mexico'\n",
       "33. 'New York'\n",
       "34. 'North Carolina'\n",
       "35. 'North Dakota'\n",
       "36. 'Ohio'\n",
       "37. 'Oklahoma'\n",
       "38. 'Oregon'\n",
       "39. 'Pennsylvania'\n",
       "40. 'Puerto Rico'\n",
       "41. 'Rhode Island'\n",
       "42. 'South Carolina'\n",
       "43. 'South Dakota'\n",
       "44. 'Tennessee'\n",
       "45. 'Texas'\n",
       "46. 'Utah'\n",
       "47. 'Vermont'\n",
       "48. 'Virginia'\n",
       "49. 'Washington'\n",
       "50. 'West Virginia'\n",
       "51. 'Wisconsin'\n",
       "52. 'Wyoming'\n",
       "\n",
       "\n"
      ],
      "text/plain": [
       " [1] Alabama              Alaska               Arizona             \n",
       " [4] Arkansas             California           Colorado            \n",
       " [7] Connecticut          Delaware             District of Columbia\n",
       "[10] Florida              Georgia              Hawaii              \n",
       "[13] Idaho                Illinois             Indiana             \n",
       "[16] Iowa                 Kansas               Kentucky            \n",
       "[19] Louisiana            Maine                Maryland            \n",
       "[22] Massachusetts        Michigan             Minnesota           \n",
       "[25] Mississippi          Missouri             Montana             \n",
       "[28] Nebraska             Nevada               New Hampshire       \n",
       "[31] New Jersey           New Mexico           New York            \n",
       "[34] North Carolina       North Dakota         Ohio                \n",
       "[37] Oklahoma             Oregon               Pennsylvania        \n",
       "[40] Rhode Island         South Carolina       South Dakota        \n",
       "[43] Tennessee            Texas                Utah                \n",
       "[46] Vermont              Virginia             Washington          \n",
       "[49] West Virginia        Wisconsin            Wyoming             \n",
       "[52] Puerto Rico         \n",
       "52 Levels: Alabama Alaska Arizona Arkansas California Colorado ... Wyoming"
      ]
     },
     "metadata": {},
     "output_type": "display_data"
    }
   ],
   "source": [
    "unique(data[,'State'])"
   ]
  },
  {
   "cell_type": "markdown",
   "metadata": {},
   "source": [
    "We also really don't feel like checking to see every state is there so we just check there are 52 (we see DC and Puerto Rico) different states present: "
   ]
  },
  {
   "cell_type": "code",
   "execution_count": 79,
   "metadata": {},
   "outputs": [
    {
     "data": {
      "text/html": [
       "52"
      ],
      "text/latex": [
       "52"
      ],
      "text/markdown": [
       "52"
      ],
      "text/plain": [
       "[1] 52"
      ]
     },
     "metadata": {},
     "output_type": "display_data"
    }
   ],
   "source": [
    "length(unique(data[,'State']))"
   ]
  },
  {
   "cell_type": "markdown",
   "metadata": {},
   "source": [
    "Great. A really easy starting point would be a histogram of the county sizes. We don't have any reason to expect they'll all be the same so this should give us a sense of what they actually are. Before we do anything graphing we set the plot size with the command:\n",
    "\n",
    "```r\n",
    "options(repr.plot.width=5, repr.plot.height=5)\n",
    "```\n",
    "\n",
    "Don't worry too much about understanding why this command works, it's most useful to us right now as a black box."
   ]
  },
  {
   "cell_type": "code",
   "execution_count": 80,
   "metadata": {},
   "outputs": [
    {
     "data": {
      "image/png": "[encoded data removed]",
      "text/plain": [
       "Plot with title “Histogram of data[, \"TotalPop\"]”"
      ]
     },
     "metadata": {},
     "output_type": "display_data"
    }
   ],
   "source": [
    "options(repr.plot.width=5, repr.plot.height=5)\n",
    "hist(data[,'TotalPop'])"
   ]
  },
  {
   "cell_type": "markdown",
   "metadata": {},
   "source": [
    "So this histogram **clearly sucks** but why? The short answer is we're probably dealing with outliers. We can make some cosmetic changes like improving the colour, title, axes and labels but we're still going to have to do something about our outliers to get any real improvement:"
   ]
  },
  {
   "cell_type": "code",
   "execution_count": 81,
   "metadata": {},
   "outputs": [
    {
     "data": {
      "image/png": "[encoded data removed]",
      "text/plain": [
       "Plot with title “This Histogram Still Sucks”"
      ]
     },
     "metadata": {},
     "output_type": "display_data"
    }
   ],
   "source": [
    "options(scipen=3)\n",
    "hist(data[,'TotalPop'],main='This Histogram Still Sucks', xlab='Population Size',col='steelblue')"
   ]
  },
  {
   "cell_type": "markdown",
   "metadata": {},
   "source": [
    "Maybe a scatterplot is a better way to see our outliers:"
   ]
  },
  {
   "cell_type": "code",
   "execution_count": 82,
   "metadata": {},
   "outputs": [
    {
     "data": {
      "image/png": "[encoded data removed]",
      "text/plain": [
       "plot without title"
      ]
     },
     "metadata": {},
     "output_type": "display_data"
    }
   ],
   "source": [
    "plot(data[,'TotalPop'],data[,'TotalPop'],xlab='TotalPop',ylab='TotalPop',pch=20,col='darkred')"
   ]
  },
  {
   "cell_type": "markdown",
   "metadata": {},
   "source": [
    "As expected our scatterplot gave us a much better sense of what was going on when we have outliers to worry about. However it's probably best we have a bit more of a look at what our outliers look like and whether there's any hope of being able to make *some kind* of histogram. To do this we need to order our data by population size:"
   ]
  },
  {
   "cell_type": "code",
   "execution_count": 83,
   "metadata": {},
   "outputs": [
    {
     "data": {
      "text/html": [
       "<ol class=list-inline>\n",
       "\t<li>549</li>\n",
       "\t<li>2674</li>\n",
       "\t<li>2658</li>\n",
       "\t<li>1713</li>\n",
       "\t<li>1633</li>\n",
       "\t<li>1657</li>\n",
       "\t<li>1712</li>\n",
       "\t<li>1659</li>\n",
       "\t<li>1807</li>\n",
       "\t<li>2654</li>\n",
       "\t<li>301</li>\n",
       "\t<li>95</li>\n",
       "\t<li>2034</li>\n",
       "\t<li>1740</li>\n",
       "\t<li>1700</li>\n",
       "\t<li>2540</li>\n",
       "\t<li>1706</li>\n",
       "\t<li>285</li>\n",
       "\t<li>1617</li>\n",
       "\t<li>1692</li>\n",
       "</ol>\n"
      ],
      "text/latex": [
       "\\begin{enumerate*}\n",
       "\\item 549\n",
       "\\item 2674\n",
       "\\item 2658\n",
       "\\item 1713\n",
       "\\item 1633\n",
       "\\item 1657\n",
       "\\item 1712\n",
       "\\item 1659\n",
       "\\item 1807\n",
       "\\item 2654\n",
       "\\item 301\n",
       "\\item 95\n",
       "\\item 2034\n",
       "\\item 1740\n",
       "\\item 1700\n",
       "\\item 2540\n",
       "\\item 1706\n",
       "\\item 285\n",
       "\\item 1617\n",
       "\\item 1692\n",
       "\\end{enumerate*}\n"
      ],
      "text/markdown": [
       "1. 549\n",
       "2. 2674\n",
       "3. 2658\n",
       "4. 1713\n",
       "5. 1633\n",
       "6. 1657\n",
       "7. 1712\n",
       "8. 1659\n",
       "9. 1807\n",
       "10. 2654\n",
       "11. 301\n",
       "12. 95\n",
       "13. 2034\n",
       "14. 1740\n",
       "15. 1700\n",
       "16. 2540\n",
       "17. 1706\n",
       "18. 285\n",
       "19. 1617\n",
       "20. 1692\n",
       "\n",
       "\n"
      ],
      "text/plain": [
       " [1]  549 2674 2658 1713 1633 1657 1712 1659 1807 2654  301   95 2034 1740 1700\n",
       "[16] 2540 1706  285 1617 1692"
      ]
     },
     "metadata": {},
     "output_type": "display_data"
    }
   ],
   "source": [
    "head(order(data[,'TotalPop']),20)"
   ]
  },
  {
   "cell_type": "markdown",
   "metadata": {},
   "source": [
    "Wait... These aren't ordered? The second is greater than the first *and* the third! Don't worry, these are *row numbers*, so we now know where our ordered data are. All we need to do now is pass those numbers to the rows section our original dataframe (remember it's data[rows,columns]):"
   ]
  },
  {
   "cell_type": "code",
   "execution_count": 84,
   "metadata": {},
   "outputs": [
    {
     "data": {
      "text/html": [
       "<table>\n",
       "<caption>A data.frame: 10 × 37</caption>\n",
       "<thead>\n",
       "\t<tr><th></th><th scope=col>CensusId</th><th scope=col>State</th><th scope=col>County</th><th scope=col>TotalPop</th><th scope=col>Men</th><th scope=col>Women</th><th scope=col>Hispanic</th><th scope=col>White</th><th scope=col>Black</th><th scope=col>Native</th><th scope=col>⋯</th><th scope=col>Walk</th><th scope=col>OtherTransp</th><th scope=col>WorkAtHome</th><th scope=col>MeanCommute</th><th scope=col>Employed</th><th scope=col>PrivateWork</th><th scope=col>PublicWork</th><th scope=col>SelfEmployed</th><th scope=col>FamilyWork</th><th scope=col>Unemployment</th></tr>\n",
       "\t<tr><th></th><th scope=col>&lt;int&gt;</th><th scope=col>&lt;fct&gt;</th><th scope=col>&lt;fct&gt;</th><th scope=col>&lt;int&gt;</th><th scope=col>&lt;int&gt;</th><th scope=col>&lt;int&gt;</th><th scope=col>&lt;dbl&gt;</th><th scope=col>&lt;dbl&gt;</th><th scope=col>&lt;dbl&gt;</th><th scope=col>&lt;dbl&gt;</th><th scope=col>⋯</th><th scope=col>&lt;dbl&gt;</th><th scope=col>&lt;dbl&gt;</th><th scope=col>&lt;dbl&gt;</th><th scope=col>&lt;dbl&gt;</th><th scope=col>&lt;int&gt;</th><th scope=col>&lt;dbl&gt;</th><th scope=col>&lt;dbl&gt;</th><th scope=col>&lt;dbl&gt;</th><th scope=col>&lt;dbl&gt;</th><th scope=col>&lt;dbl&gt;</th></tr>\n",
       "</thead>\n",
       "<tbody>\n",
       "\t<tr><th scope=row>549</th><td>15005</td><td>Hawaii    </td><td>Kalawao  </td><td> 85</td><td> 42</td><td> 43</td><td> 4.7</td><td>37.6</td><td>0</td><td> 0.0</td><td>⋯</td><td>40.3</td><td>14.9</td><td> 3.0</td><td> 9.2</td><td> 64</td><td>25.0</td><td>64.1</td><td>10.9</td><td>0.0</td><td> 0.0</td></tr>\n",
       "\t<tr><th scope=row>2674</th><td>48301</td><td>Texas     </td><td>Loving   </td><td>117</td><td> 74</td><td> 43</td><td>35.0</td><td>41.0</td><td>0</td><td>12.8</td><td>⋯</td><td> 8.1</td><td> 0.0</td><td>16.1</td><td>25.4</td><td> 62</td><td>71.0</td><td>27.4</td><td> 1.6</td><td>0.0</td><td>15.1</td></tr>\n",
       "\t<tr><th scope=row>2658</th><td>48269</td><td>Texas     </td><td>King     </td><td>267</td><td>136</td><td>131</td><td>24.7</td><td>75.3</td><td>0</td><td> 0.0</td><td>⋯</td><td> 7.8</td><td> 0.0</td><td> 3.6</td><td>11.6</td><td>166</td><td>72.9</td><td>21.1</td><td> 6.0</td><td>0.0</td><td> 5.1</td></tr>\n",
       "\t<tr><th scope=row>1713</th><td>31117</td><td>Nebraska  </td><td>McPherson</td><td>433</td><td>223</td><td>210</td><td> 0.9</td><td>97.5</td><td>0</td><td> 0.0</td><td>⋯</td><td>15.7</td><td> 4.6</td><td>22.6</td><td>32.0</td><td>222</td><td>69.4</td><td> 5.9</td><td>23.9</td><td>0.9</td><td> 0.9</td></tr>\n",
       "\t<tr><th scope=row>1633</th><td>30069</td><td>Montana   </td><td>Petroleum</td><td>443</td><td>232</td><td>211</td><td> 1.4</td><td>98.6</td><td>0</td><td> 0.0</td><td>⋯</td><td>14.1</td><td> 0.4</td><td>29.0</td><td>18.8</td><td>254</td><td>57.9</td><td>22.0</td><td>18.9</td><td>1.2</td><td> 6.6</td></tr>\n",
       "\t<tr><th scope=row>1657</th><td>31005</td><td>Nebraska  </td><td>Arthur   </td><td>448</td><td>223</td><td>225</td><td> 0.0</td><td>98.9</td><td>0</td><td> 0.0</td><td>⋯</td><td>12.4</td><td> 0.0</td><td>19.9</td><td>19.5</td><td>193</td><td>54.4</td><td>17.1</td><td>27.5</td><td>1.0</td><td> 4.0</td></tr>\n",
       "\t<tr><th scope=row>1712</th><td>31115</td><td>Nebraska  </td><td>Loup     </td><td>548</td><td>272</td><td>276</td><td> 0.0</td><td>94.5</td><td>0</td><td> 1.5</td><td>⋯</td><td> 8.3</td><td> 1.4</td><td>22.4</td><td>20.4</td><td>297</td><td>51.2</td><td>19.5</td><td>29.3</td><td>0.0</td><td> 0.7</td></tr>\n",
       "\t<tr><th scope=row>1659</th><td>31009</td><td>Nebraska  </td><td>Blaine   </td><td>551</td><td>293</td><td>258</td><td> 0.0</td><td>98.7</td><td>0</td><td> 0.0</td><td>⋯</td><td> 7.5</td><td> 1.4</td><td>27.6</td><td>23.9</td><td>287</td><td>63.8</td><td>17.1</td><td>19.2</td><td>0.0</td><td> 0.7</td></tr>\n",
       "\t<tr><th scope=row>1807</th><td>35021</td><td>New Mexico</td><td>Harding  </td><td>565</td><td>292</td><td>273</td><td>38.6</td><td>61.1</td><td>0</td><td> 0.0</td><td>⋯</td><td> 8.9</td><td> 1.0</td><td>22.2</td><td>20.3</td><td>205</td><td>46.3</td><td>42.9</td><td>10.7</td><td>0.0</td><td> 6.0</td></tr>\n",
       "\t<tr><th scope=row>2654</th><td>48261</td><td>Texas     </td><td>Kenedy   </td><td>565</td><td>295</td><td>270</td><td>66.2</td><td>33.6</td><td>0</td><td> 0.0</td><td>⋯</td><td> 5.4</td><td> 0.0</td><td> 0.0</td><td>16.6</td><td>185</td><td>51.9</td><td>48.1</td><td> 0.0</td><td>0.0</td><td> 0.0</td></tr>\n",
       "</tbody>\n",
       "</table>\n"
      ],
      "text/latex": [
       "A data.frame: 10 × 37\n",
       "\\begin{tabular}{r|lllllllllllllllllllllllllllllllllllll}\n",
       "  & CensusId & State & County & TotalPop & Men & Women & Hispanic & White & Black & Native & Asian & Pacific & Citizen & Income & IncomeErr & IncomePerCap & IncomePerCapErr & Poverty & ChildPoverty & Professional & Service & Office & Construction & Production & Drive & Carpool & Transit & Walk & OtherTransp & WorkAtHome & MeanCommute & Employed & PrivateWork & PublicWork & SelfEmployed & FamilyWork & Unemployment\\\\\n",
       "  & <int> & <fct> & <fct> & <int> & <int> & <int> & <dbl> & <dbl> & <dbl> & <dbl> & <dbl> & <dbl> & <int> & <dbl> & <dbl> & <int> & <int> & <dbl> & <dbl> & <dbl> & <dbl> & <dbl> & <dbl> & <dbl> & <dbl> & <dbl> & <dbl> & <dbl> & <dbl> & <dbl> & <dbl> & <int> & <dbl> & <dbl> & <dbl> & <dbl> & <dbl>\\\\\n",
       "\\hline\n",
       "\t549 & 15005 & Hawaii     & Kalawao   &  85 &  42 &  43 &  4.7 & 37.6 & 0 &  0.0 & 21.2 & 35.3 &  80 & 66250 &  9909 & 46769 & 8448 & 15.2 &   NA & 31.3 & 23.4 & 21.9 &  4.7 & 18.8 & 34.3 &  7.5 & 0.0 & 40.3 & 14.9 &  3.0 &  9.2 &  64 & 25.0 & 64.1 & 10.9 & 0.0 &  0.0\\\\\n",
       "\t2674 & 48301 & Texas      & Loving    & 117 &  74 &  43 & 35.0 & 41.0 & 0 & 12.8 &  0.0 &  0.0 &  98 &    NA &    NA & 25877 & 6544 & 28.9 &  0.0 & 22.6 & 22.6 & 32.3 &  4.8 & 17.7 & 64.5 & 11.3 & 0.0 &  8.1 &  0.0 & 16.1 & 25.4 &  62 & 71.0 & 27.4 &  1.6 & 0.0 & 15.1\\\\\n",
       "\t2658 & 48269 & Texas      & King      & 267 & 136 & 131 & 24.7 & 75.3 & 0 &  0.0 &  0.0 &  0.0 & 199 & 63250 & 21355 & 30269 & 7395 &  7.1 & 10.5 & 34.3 & 10.2 & 13.9 & 39.2 &  2.4 & 88.6 &  0.0 & 0.0 &  7.8 &  0.0 &  3.6 & 11.6 & 166 & 72.9 & 21.1 &  6.0 & 0.0 &  5.1\\\\\n",
       "\t1713 & 31117 & Nebraska   & McPherson & 433 & 223 & 210 &  0.9 & 97.5 & 0 &  0.0 &  0.0 &  0.0 & 341 & 54306 & 13218 & 27364 & 4534 & 14.8 & 20.7 & 33.8 & 10.4 & 27.9 & 11.3 & 16.7 & 47.5 &  9.7 & 0.0 & 15.7 &  4.6 & 22.6 & 32.0 & 222 & 69.4 &  5.9 & 23.9 & 0.9 &  0.9\\\\\n",
       "\t1633 & 30069 & Montana    & Petroleum & 443 & 232 & 211 &  1.4 & 98.6 & 0 &  0.0 &  0.0 &  0.0 & 360 & 43750 &  6181 & 25378 & 3497 &  6.8 &  8.4 & 43.7 &  8.3 & 21.7 & 20.1 &  6.3 & 43.1 & 13.3 & 0.0 & 14.1 &  0.4 & 29.0 & 18.8 & 254 & 57.9 & 22.0 & 18.9 & 1.2 &  6.6\\\\\n",
       "\t1657 & 31005 & Nebraska   & Arthur    & 448 & 223 & 225 &  0.0 & 98.9 & 0 &  0.0 &  0.0 &  0.0 & 311 & 39375 &  5889 & 22035 & 5722 &  8.0 &  0.7 & 54.9 & 10.9 &  4.1 & 19.7 & 10.4 & 52.2 & 15.6 & 0.0 & 12.4 &  0.0 & 19.9 & 19.5 & 193 & 54.4 & 17.1 & 27.5 & 1.0 &  4.0\\\\\n",
       "\t1712 & 31115 & Nebraska   & Loup      & 548 & 272 & 276 &  0.0 & 94.5 & 0 &  1.5 &  0.0 &  0.0 & 440 & 55417 &  5537 & 27794 & 2860 & 12.4 & 18.5 & 42.1 & 11.4 & 20.2 & 14.5 & 11.8 & 60.3 &  6.5 & 1.1 &  8.3 &  1.4 & 22.4 & 20.4 & 297 & 51.2 & 19.5 & 29.3 & 0.0 &  0.7\\\\\n",
       "\t1659 & 31009 & Nebraska   & Blaine    & 551 & 293 & 258 &  0.0 & 98.7 & 0 &  0.0 &  0.4 &  0.4 & 408 & 48875 &  4903 & 21854 & 2519 & 19.2 & 25.9 & 40.1 & 13.9 &  8.0 & 27.2 & 10.8 & 50.2 & 13.3 & 0.0 &  7.5 &  1.4 & 27.6 & 23.9 & 287 & 63.8 & 17.1 & 19.2 & 0.0 &  0.7\\\\\n",
       "\t1807 & 35021 & New Mexico & Harding   & 565 & 292 & 273 & 38.6 & 61.1 & 0 &  0.0 &  0.2 &  0.0 & 457 & 33393 &  5087 & 22946 & 6231 & 10.4 &  5.2 & 38.5 & 21.0 & 23.4 & 11.2 &  5.9 & 64.0 &  3.9 & 0.0 &  8.9 &  1.0 & 22.2 & 20.3 & 205 & 46.3 & 42.9 & 10.7 & 0.0 &  6.0\\\\\n",
       "\t2654 & 48261 & Texas      & Kenedy    & 565 & 295 & 270 & 66.2 & 33.6 & 0 &  0.0 &  0.2 &  0.0 & 316 & 36438 & 10695 & 14251 & 3914 & 26.7 & 39.3 & 24.9 & 34.1 & 20.5 & 20.5 &  0.0 & 94.6 &  0.0 & 0.0 &  5.4 &  0.0 &  0.0 & 16.6 & 185 & 51.9 & 48.1 &  0.0 & 0.0 &  0.0\\\\\n",
       "\\end{tabular}\n"
      ],
      "text/markdown": [
       "\n",
       "A data.frame: 10 × 37\n",
       "\n",
       "| <!--/--> | CensusId &lt;int&gt; | State &lt;fct&gt; | County &lt;fct&gt; | TotalPop &lt;int&gt; | Men &lt;int&gt; | Women &lt;int&gt; | Hispanic &lt;dbl&gt; | White &lt;dbl&gt; | Black &lt;dbl&gt; | Native &lt;dbl&gt; | ⋯ ⋯ | Walk &lt;dbl&gt; | OtherTransp &lt;dbl&gt; | WorkAtHome &lt;dbl&gt; | MeanCommute &lt;dbl&gt; | Employed &lt;int&gt; | PrivateWork &lt;dbl&gt; | PublicWork &lt;dbl&gt; | SelfEmployed &lt;dbl&gt; | FamilyWork &lt;dbl&gt; | Unemployment &lt;dbl&gt; |\n",
       "|---|---|---|---|---|---|---|---|---|---|---|---|---|---|---|---|---|---|---|---|---|---|\n",
       "| 549 | 15005 | Hawaii     | Kalawao   |  85 |  42 |  43 |  4.7 | 37.6 | 0 |  0.0 | ⋯ | 40.3 | 14.9 |  3.0 |  9.2 |  64 | 25.0 | 64.1 | 10.9 | 0.0 |  0.0 |\n",
       "| 2674 | 48301 | Texas      | Loving    | 117 |  74 |  43 | 35.0 | 41.0 | 0 | 12.8 | ⋯ |  8.1 |  0.0 | 16.1 | 25.4 |  62 | 71.0 | 27.4 |  1.6 | 0.0 | 15.1 |\n",
       "| 2658 | 48269 | Texas      | King      | 267 | 136 | 131 | 24.7 | 75.3 | 0 |  0.0 | ⋯ |  7.8 |  0.0 |  3.6 | 11.6 | 166 | 72.9 | 21.1 |  6.0 | 0.0 |  5.1 |\n",
       "| 1713 | 31117 | Nebraska   | McPherson | 433 | 223 | 210 |  0.9 | 97.5 | 0 |  0.0 | ⋯ | 15.7 |  4.6 | 22.6 | 32.0 | 222 | 69.4 |  5.9 | 23.9 | 0.9 |  0.9 |\n",
       "| 1633 | 30069 | Montana    | Petroleum | 443 | 232 | 211 |  1.4 | 98.6 | 0 |  0.0 | ⋯ | 14.1 |  0.4 | 29.0 | 18.8 | 254 | 57.9 | 22.0 | 18.9 | 1.2 |  6.6 |\n",
       "| 1657 | 31005 | Nebraska   | Arthur    | 448 | 223 | 225 |  0.0 | 98.9 | 0 |  0.0 | ⋯ | 12.4 |  0.0 | 19.9 | 19.5 | 193 | 54.4 | 17.1 | 27.5 | 1.0 |  4.0 |\n",
       "| 1712 | 31115 | Nebraska   | Loup      | 548 | 272 | 276 |  0.0 | 94.5 | 0 |  1.5 | ⋯ |  8.3 |  1.4 | 22.4 | 20.4 | 297 | 51.2 | 19.5 | 29.3 | 0.0 |  0.7 |\n",
       "| 1659 | 31009 | Nebraska   | Blaine    | 551 | 293 | 258 |  0.0 | 98.7 | 0 |  0.0 | ⋯ |  7.5 |  1.4 | 27.6 | 23.9 | 287 | 63.8 | 17.1 | 19.2 | 0.0 |  0.7 |\n",
       "| 1807 | 35021 | New Mexico | Harding   | 565 | 292 | 273 | 38.6 | 61.1 | 0 |  0.0 | ⋯ |  8.9 |  1.0 | 22.2 | 20.3 | 205 | 46.3 | 42.9 | 10.7 | 0.0 |  6.0 |\n",
       "| 2654 | 48261 | Texas      | Kenedy    | 565 | 295 | 270 | 66.2 | 33.6 | 0 |  0.0 | ⋯ |  5.4 |  0.0 |  0.0 | 16.6 | 185 | 51.9 | 48.1 |  0.0 | 0.0 |  0.0 |\n",
       "\n"
      ],
      "text/plain": [
       "     CensusId State      County    TotalPop Men Women Hispanic White Black\n",
       "549  15005    Hawaii     Kalawao    85       42  43    4.7     37.6  0    \n",
       "2674 48301    Texas      Loving    117       74  43   35.0     41.0  0    \n",
       "2658 48269    Texas      King      267      136 131   24.7     75.3  0    \n",
       "1713 31117    Nebraska   McPherson 433      223 210    0.9     97.5  0    \n",
       "1633 30069    Montana    Petroleum 443      232 211    1.4     98.6  0    \n",
       "1657 31005    Nebraska   Arthur    448      223 225    0.0     98.9  0    \n",
       "1712 31115    Nebraska   Loup      548      272 276    0.0     94.5  0    \n",
       "1659 31009    Nebraska   Blaine    551      293 258    0.0     98.7  0    \n",
       "1807 35021    New Mexico Harding   565      292 273   38.6     61.1  0    \n",
       "2654 48261    Texas      Kenedy    565      295 270   66.2     33.6  0    \n",
       "     Native ⋯ Walk OtherTransp WorkAtHome MeanCommute Employed PrivateWork\n",
       "549   0.0   ⋯ 40.3 14.9         3.0        9.2         64      25.0       \n",
       "2674 12.8   ⋯  8.1  0.0        16.1       25.4         62      71.0       \n",
       "2658  0.0   ⋯  7.8  0.0         3.6       11.6        166      72.9       \n",
       "1713  0.0   ⋯ 15.7  4.6        22.6       32.0        222      69.4       \n",
       "1633  0.0   ⋯ 14.1  0.4        29.0       18.8        254      57.9       \n",
       "1657  0.0   ⋯ 12.4  0.0        19.9       19.5        193      54.4       \n",
       "1712  1.5   ⋯  8.3  1.4        22.4       20.4        297      51.2       \n",
       "1659  0.0   ⋯  7.5  1.4        27.6       23.9        287      63.8       \n",
       "1807  0.0   ⋯  8.9  1.0        22.2       20.3        205      46.3       \n",
       "2654  0.0   ⋯  5.4  0.0         0.0       16.6        185      51.9       \n",
       "     PublicWork SelfEmployed FamilyWork Unemployment\n",
       "549  64.1       10.9         0.0         0.0        \n",
       "2674 27.4        1.6         0.0        15.1        \n",
       "2658 21.1        6.0         0.0         5.1        \n",
       "1713  5.9       23.9         0.9         0.9        \n",
       "1633 22.0       18.9         1.2         6.6        \n",
       "1657 17.1       27.5         1.0         4.0        \n",
       "1712 19.5       29.3         0.0         0.7        \n",
       "1659 17.1       19.2         0.0         0.7        \n",
       "1807 42.9       10.7         0.0         6.0        \n",
       "2654 48.1        0.0         0.0         0.0        "
      ]
     },
     "metadata": {},
     "output_type": "display_data"
    }
   ],
   "source": [
    "data1<-data[order(data[,'TotalPop']),]\n",
    "head(data1,10)"
   ]
  },
  {
   "cell_type": "markdown",
   "metadata": {},
   "source": [
    "We need to do this in reverse order though, so we add a minus sign:"
   ]
  },
  {
   "cell_type": "code",
   "execution_count": 85,
   "metadata": {},
   "outputs": [
    {
     "data": {
      "text/html": [
       "<table>\n",
       "<caption>A data.frame: 10 × 37</caption>\n",
       "<thead>\n",
       "\t<tr><th></th><th scope=col>CensusId</th><th scope=col>State</th><th scope=col>County</th><th scope=col>TotalPop</th><th scope=col>Men</th><th scope=col>Women</th><th scope=col>Hispanic</th><th scope=col>White</th><th scope=col>Black</th><th scope=col>Native</th><th scope=col>⋯</th><th scope=col>Walk</th><th scope=col>OtherTransp</th><th scope=col>WorkAtHome</th><th scope=col>MeanCommute</th><th scope=col>Employed</th><th scope=col>PrivateWork</th><th scope=col>PublicWork</th><th scope=col>SelfEmployed</th><th scope=col>FamilyWork</th><th scope=col>Unemployment</th></tr>\n",
       "\t<tr><th></th><th scope=col>&lt;int&gt;</th><th scope=col>&lt;fct&gt;</th><th scope=col>&lt;fct&gt;</th><th scope=col>&lt;int&gt;</th><th scope=col>&lt;int&gt;</th><th scope=col>&lt;int&gt;</th><th scope=col>&lt;dbl&gt;</th><th scope=col>&lt;dbl&gt;</th><th scope=col>&lt;dbl&gt;</th><th scope=col>&lt;dbl&gt;</th><th scope=col>⋯</th><th scope=col>&lt;dbl&gt;</th><th scope=col>&lt;dbl&gt;</th><th scope=col>&lt;dbl&gt;</th><th scope=col>&lt;dbl&gt;</th><th scope=col>&lt;int&gt;</th><th scope=col>&lt;dbl&gt;</th><th scope=col>&lt;dbl&gt;</th><th scope=col>&lt;dbl&gt;</th><th scope=col>&lt;dbl&gt;</th><th scope=col>&lt;dbl&gt;</th></tr>\n",
       "</thead>\n",
       "<tbody>\n",
       "\t<tr><th scope=row>205</th><td> 6037</td><td>California</td><td>Los Angeles</td><td>10038388</td><td>4945351</td><td>5093037</td><td>48.2</td><td>26.9</td><td> 8.0</td><td>0.2</td><td>⋯</td><td>2.8</td><td>2.3</td><td>5.1</td><td>30.0</td><td>4635465</td><td>79.0</td><td>11.5</td><td>9.4</td><td>0.2</td><td>10.0</td></tr>\n",
       "\t<tr><th scope=row>611</th><td>17031</td><td>Illinois  </td><td>Cook       </td><td> 5236393</td><td>2537245</td><td>2699148</td><td>24.7</td><td>43.1</td><td>23.7</td><td>0.1</td><td>⋯</td><td>4.4</td><td>2.2</td><td>4.2</td><td>32.3</td><td>2463655</td><td>83.9</td><td>11.5</td><td>4.5</td><td>0.1</td><td>10.7</td></tr>\n",
       "\t<tr><th scope=row>2624</th><td>48201</td><td>Texas     </td><td>Harris     </td><td> 4356362</td><td>2166727</td><td>2189635</td><td>41.6</td><td>31.7</td><td>18.5</td><td>0.2</td><td>⋯</td><td>1.5</td><td>2.0</td><td>3.3</td><td>28.2</td><td>2081889</td><td>83.4</td><td>10.1</td><td>6.3</td><td>0.1</td><td> 7.5</td></tr>\n",
       "\t<tr><th scope=row>104</th><td> 4013</td><td>Arizona   </td><td>Maricopa   </td><td> 4018143</td><td>1986158</td><td>2031985</td><td>30.1</td><td>57.3</td><td> 4.9</td><td>1.6</td><td>⋯</td><td>1.6</td><td>2.6</td><td>5.9</td><td>25.5</td><td>1821038</td><td>82.5</td><td>11.7</td><td>5.7</td><td>0.2</td><td> 7.7</td></tr>\n",
       "\t<tr><th scope=row>223</th><td> 6073</td><td>California</td><td>San Diego  </td><td> 3223096</td><td>1618945</td><td>1604151</td><td>32.9</td><td>47.0</td><td> 4.7</td><td>0.4</td><td>⋯</td><td>2.9</td><td>2.0</td><td>6.8</td><td>25.0</td><td>1462130</td><td>77.3</td><td>14.8</td><td>7.7</td><td>0.2</td><td> 8.7</td></tr>\n",
       "\t<tr><th scope=row>216</th><td> 6059</td><td>California</td><td>Orange     </td><td> 3116069</td><td>1539600</td><td>1576469</td><td>34.2</td><td>42.4</td><td> 1.5</td><td>0.2</td><td>⋯</td><td>2.0</td><td>2.1</td><td>5.2</td><td>26.8</td><td>1508753</td><td>81.8</td><td>10.2</td><td>7.8</td><td>0.2</td><td> 7.6</td></tr>\n",
       "\t<tr><th scope=row>363</th><td>12086</td><td>Florida   </td><td>Miami-Dade </td><td> 2639042</td><td>1280221</td><td>1358821</td><td>65.6</td><td>15.1</td><td>16.8</td><td>0.1</td><td>⋯</td><td>2.2</td><td>1.9</td><td>4.3</td><td>29.9</td><td>1204871</td><td>81.9</td><td>10.2</td><td>7.7</td><td>0.2</td><td>10.0</td></tr>\n",
       "\t<tr><th scope=row>1852</th><td>36047</td><td>New York  </td><td>Kings      </td><td> 2595259</td><td>1229001</td><td>1366258</td><td>19.6</td><td>35.7</td><td>31.2</td><td>0.2</td><td>⋯</td><td>8.8</td><td>2.5</td><td>3.9</td><td>41.7</td><td>1167448</td><td>79.1</td><td>14.4</td><td>6.5</td><td>0.1</td><td>10.0</td></tr>\n",
       "\t<tr><th scope=row>2580</th><td>48113</td><td>Texas     </td><td>Dallas     </td><td> 2485003</td><td>1225722</td><td>1259281</td><td>39.0</td><td>31.5</td><td>21.8</td><td>0.2</td><td>⋯</td><td>1.5</td><td>2.1</td><td>4.1</td><td>26.5</td><td>1191958</td><td>83.9</td><td> 9.5</td><td>6.4</td><td>0.1</td><td> 7.6</td></tr>\n",
       "\t<tr><th scope=row>1869</th><td>36081</td><td>New York  </td><td>Queens     </td><td> 2301139</td><td>1115459</td><td>1185680</td><td>27.9</td><td>26.1</td><td>17.4</td><td>0.2</td><td>⋯</td><td>5.8</td><td>1.5</td><td>2.4</td><td>42.6</td><td>1104930</td><td>79.9</td><td>13.6</td><td>6.4</td><td>0.1</td><td> 8.6</td></tr>\n",
       "</tbody>\n",
       "</table>\n"
      ],
      "text/latex": [
       "A data.frame: 10 × 37\n",
       "\\begin{tabular}{r|lllllllllllllllllllllllllllllllllllll}\n",
       "  & CensusId & State & County & TotalPop & Men & Women & Hispanic & White & Black & Native & Asian & Pacific & Citizen & Income & IncomeErr & IncomePerCap & IncomePerCapErr & Poverty & ChildPoverty & Professional & Service & Office & Construction & Production & Drive & Carpool & Transit & Walk & OtherTransp & WorkAtHome & MeanCommute & Employed & PrivateWork & PublicWork & SelfEmployed & FamilyWork & Unemployment\\\\\n",
       "  & <int> & <fct> & <fct> & <int> & <int> & <int> & <dbl> & <dbl> & <dbl> & <dbl> & <dbl> & <dbl> & <int> & <dbl> & <dbl> & <int> & <int> & <dbl> & <dbl> & <dbl> & <dbl> & <dbl> & <dbl> & <dbl> & <dbl> & <dbl> & <dbl> & <dbl> & <dbl> & <dbl> & <dbl> & <int> & <dbl> & <dbl> & <dbl> & <dbl> & <dbl>\\\\\n",
       "\\hline\n",
       "\t205 &  6037 & California & Los Angeles & 10038388 & 4945351 & 5093037 & 48.2 & 26.9 &  8.0 & 0.2 & 14.0 & 0.2 & 6046749 & 56196 & 270 & 28337 & 113 & 18.2 & 25.8 & 35.7 & 19.1 & 24.6 &  7.8 & 12.8 & 73.0 &  9.9 &  6.8 & 2.8 & 2.3 & 5.1 & 30.0 & 4635465 & 79.0 & 11.5 & 9.4 & 0.2 & 10.0\\\\\n",
       "\t611 & 17031 & Illinois   & Cook        &  5236393 & 2537245 & 2699148 & 24.7 & 43.1 & 23.7 & 0.1 &  6.7 & 0.0 & 3499916 & 55251 & 327 & 31013 & 174 & 17.1 & 25.0 & 38.3 & 18.2 & 24.4 &  6.1 & 13.0 & 62.1 &  8.7 & 18.4 & 4.4 & 2.2 & 4.2 & 32.3 & 2463655 & 83.9 & 11.5 & 4.5 & 0.1 & 10.7\\\\\n",
       "\t2624 & 48201 & Texas      & Harris      &  4356362 & 2166727 & 2189635 & 41.6 & 31.7 & 18.5 & 0.2 &  6.5 & 0.1 & 2494733 & 54457 & 400 & 29047 & 174 & 18.0 & 26.8 & 34.7 & 17.4 & 23.5 & 11.5 & 12.9 & 79.2 & 11.1 &  2.9 & 1.5 & 2.0 & 3.3 & 28.2 & 2081889 & 83.4 & 10.1 & 6.3 & 0.1 &  7.5\\\\\n",
       "\t104 &  4013 & Arizona    & Maricopa    &  4018143 & 1986158 & 2031985 & 30.1 & 57.3 &  4.9 & 1.6 &  3.7 & 0.2 & 2659853 & 54229 & 365 & 27832 & 173 & 17.0 & 24.4 & 36.6 & 18.4 & 27.2 &  8.4 &  9.5 & 76.5 & 11.0 &  2.4 & 1.6 & 2.6 & 5.9 & 25.5 & 1821038 & 82.5 & 11.7 & 5.7 & 0.2 &  7.7\\\\\n",
       "\t223 &  6073 & California & San Diego   &  3223096 & 1618945 & 1604151 & 32.9 & 47.0 &  4.7 & 0.4 & 11.2 & 0.4 & 2141755 & 64309 & 514 & 31266 & 197 & 14.5 & 18.4 & 40.6 & 19.7 & 23.6 &  7.8 &  8.4 & 76.0 &  9.3 &  3.0 & 2.9 & 2.0 & 6.8 & 25.0 & 1462130 & 77.3 & 14.8 & 7.7 & 0.2 &  8.7\\\\\n",
       "\t216 &  6059 & California & Orange      &  3116069 & 1539600 & 1576469 & 34.2 & 42.4 &  1.5 & 0.2 & 18.8 & 0.3 & 1961585 & 76509 & 426 & 34817 & 229 & 12.8 & 17.6 & 40.1 & 17.5 & 25.6 &  6.8 & 10.1 & 78.4 &  9.8 &  2.5 & 2.0 & 2.1 & 5.2 & 26.8 & 1508753 & 81.8 & 10.2 & 7.8 & 0.2 &  7.6\\\\\n",
       "\t363 & 12086 & Florida    & Miami-Dade  &  2639042 & 1280221 & 1358821 & 65.6 & 15.1 & 16.8 & 0.1 &  1.5 & 0.0 & 1521585 & 43129 & 454 & 23850 & 224 & 20.4 & 27.7 & 31.5 & 21.0 & 28.2 &  9.1 & 10.2 & 76.9 &  9.2 &  5.5 & 2.2 & 1.9 & 4.3 & 29.9 & 1204871 & 81.9 & 10.2 & 7.7 & 0.2 & 10.0\\\\\n",
       "\t1852 & 36047 & New York   & Kings       &  2595259 & 1229001 & 1366258 & 19.6 & 35.7 & 31.2 & 0.2 & 11.4 & 0.0 & 1601527 & 48201 & 419 & 26774 & 203 & 23.2 & 32.9 & 38.5 & 24.1 & 22.3 &  6.3 &  8.8 & 18.6 &  4.4 & 61.7 & 8.8 & 2.5 & 3.9 & 41.7 & 1167448 & 79.1 & 14.4 & 6.5 & 0.1 & 10.0\\\\\n",
       "\t2580 & 48113 & Texas      & Dallas      &  2485003 & 1225722 & 1259281 & 39.0 & 31.5 & 21.8 & 0.2 &  5.6 & 0.0 & 1432702 & 50270 & 333 & 27605 & 246 & 19.3 & 29.3 & 33.3 & 18.2 & 24.5 & 11.2 & 12.9 & 78.2 & 11.2 &  2.9 & 1.5 & 2.1 & 4.1 & 26.5 & 1191958 & 83.9 &  9.5 & 6.4 & 0.1 &  7.6\\\\\n",
       "\t1869 & 36081 & New York   & Queens      &  2301139 & 1115459 & 1185680 & 27.9 & 26.1 & 17.4 & 0.2 & 24.2 & 0.0 & 1367889 & 57720 & 552 & 26876 & 165 & 15.1 & 20.5 & 32.3 & 24.8 & 24.0 &  8.2 & 10.7 & 31.6 &  6.4 & 52.3 & 5.8 & 1.5 & 2.4 & 42.6 & 1104930 & 79.9 & 13.6 & 6.4 & 0.1 &  8.6\\\\\n",
       "\\end{tabular}\n"
      ],
      "text/markdown": [
       "\n",
       "A data.frame: 10 × 37\n",
       "\n",
       "| <!--/--> | CensusId &lt;int&gt; | State &lt;fct&gt; | County &lt;fct&gt; | TotalPop &lt;int&gt; | Men &lt;int&gt; | Women &lt;int&gt; | Hispanic &lt;dbl&gt; | White &lt;dbl&gt; | Black &lt;dbl&gt; | Native &lt;dbl&gt; | ⋯ ⋯ | Walk &lt;dbl&gt; | OtherTransp &lt;dbl&gt; | WorkAtHome &lt;dbl&gt; | MeanCommute &lt;dbl&gt; | Employed &lt;int&gt; | PrivateWork &lt;dbl&gt; | PublicWork &lt;dbl&gt; | SelfEmployed &lt;dbl&gt; | FamilyWork &lt;dbl&gt; | Unemployment &lt;dbl&gt; |\n",
       "|---|---|---|---|---|---|---|---|---|---|---|---|---|---|---|---|---|---|---|---|---|---|\n",
       "| 205 |  6037 | California | Los Angeles | 10038388 | 4945351 | 5093037 | 48.2 | 26.9 |  8.0 | 0.2 | ⋯ | 2.8 | 2.3 | 5.1 | 30.0 | 4635465 | 79.0 | 11.5 | 9.4 | 0.2 | 10.0 |\n",
       "| 611 | 17031 | Illinois   | Cook        |  5236393 | 2537245 | 2699148 | 24.7 | 43.1 | 23.7 | 0.1 | ⋯ | 4.4 | 2.2 | 4.2 | 32.3 | 2463655 | 83.9 | 11.5 | 4.5 | 0.1 | 10.7 |\n",
       "| 2624 | 48201 | Texas      | Harris      |  4356362 | 2166727 | 2189635 | 41.6 | 31.7 | 18.5 | 0.2 | ⋯ | 1.5 | 2.0 | 3.3 | 28.2 | 2081889 | 83.4 | 10.1 | 6.3 | 0.1 |  7.5 |\n",
       "| 104 |  4013 | Arizona    | Maricopa    |  4018143 | 1986158 | 2031985 | 30.1 | 57.3 |  4.9 | 1.6 | ⋯ | 1.6 | 2.6 | 5.9 | 25.5 | 1821038 | 82.5 | 11.7 | 5.7 | 0.2 |  7.7 |\n",
       "| 223 |  6073 | California | San Diego   |  3223096 | 1618945 | 1604151 | 32.9 | 47.0 |  4.7 | 0.4 | ⋯ | 2.9 | 2.0 | 6.8 | 25.0 | 1462130 | 77.3 | 14.8 | 7.7 | 0.2 |  8.7 |\n",
       "| 216 |  6059 | California | Orange      |  3116069 | 1539600 | 1576469 | 34.2 | 42.4 |  1.5 | 0.2 | ⋯ | 2.0 | 2.1 | 5.2 | 26.8 | 1508753 | 81.8 | 10.2 | 7.8 | 0.2 |  7.6 |\n",
       "| 363 | 12086 | Florida    | Miami-Dade  |  2639042 | 1280221 | 1358821 | 65.6 | 15.1 | 16.8 | 0.1 | ⋯ | 2.2 | 1.9 | 4.3 | 29.9 | 1204871 | 81.9 | 10.2 | 7.7 | 0.2 | 10.0 |\n",
       "| 1852 | 36047 | New York   | Kings       |  2595259 | 1229001 | 1366258 | 19.6 | 35.7 | 31.2 | 0.2 | ⋯ | 8.8 | 2.5 | 3.9 | 41.7 | 1167448 | 79.1 | 14.4 | 6.5 | 0.1 | 10.0 |\n",
       "| 2580 | 48113 | Texas      | Dallas      |  2485003 | 1225722 | 1259281 | 39.0 | 31.5 | 21.8 | 0.2 | ⋯ | 1.5 | 2.1 | 4.1 | 26.5 | 1191958 | 83.9 |  9.5 | 6.4 | 0.1 |  7.6 |\n",
       "| 1869 | 36081 | New York   | Queens      |  2301139 | 1115459 | 1185680 | 27.9 | 26.1 | 17.4 | 0.2 | ⋯ | 5.8 | 1.5 | 2.4 | 42.6 | 1104930 | 79.9 | 13.6 | 6.4 | 0.1 |  8.6 |\n",
       "\n"
      ],
      "text/plain": [
       "     CensusId State      County      TotalPop Men     Women   Hispanic White\n",
       "205   6037    California Los Angeles 10038388 4945351 5093037 48.2     26.9 \n",
       "611  17031    Illinois   Cook         5236393 2537245 2699148 24.7     43.1 \n",
       "2624 48201    Texas      Harris       4356362 2166727 2189635 41.6     31.7 \n",
       "104   4013    Arizona    Maricopa     4018143 1986158 2031985 30.1     57.3 \n",
       "223   6073    California San Diego    3223096 1618945 1604151 32.9     47.0 \n",
       "216   6059    California Orange       3116069 1539600 1576469 34.2     42.4 \n",
       "363  12086    Florida    Miami-Dade   2639042 1280221 1358821 65.6     15.1 \n",
       "1852 36047    New York   Kings        2595259 1229001 1366258 19.6     35.7 \n",
       "2580 48113    Texas      Dallas       2485003 1225722 1259281 39.0     31.5 \n",
       "1869 36081    New York   Queens       2301139 1115459 1185680 27.9     26.1 \n",
       "     Black Native ⋯ Walk OtherTransp WorkAtHome MeanCommute Employed\n",
       "205   8.0  0.2    ⋯ 2.8  2.3         5.1        30.0        4635465 \n",
       "611  23.7  0.1    ⋯ 4.4  2.2         4.2        32.3        2463655 \n",
       "2624 18.5  0.2    ⋯ 1.5  2.0         3.3        28.2        2081889 \n",
       "104   4.9  1.6    ⋯ 1.6  2.6         5.9        25.5        1821038 \n",
       "223   4.7  0.4    ⋯ 2.9  2.0         6.8        25.0        1462130 \n",
       "216   1.5  0.2    ⋯ 2.0  2.1         5.2        26.8        1508753 \n",
       "363  16.8  0.1    ⋯ 2.2  1.9         4.3        29.9        1204871 \n",
       "1852 31.2  0.2    ⋯ 8.8  2.5         3.9        41.7        1167448 \n",
       "2580 21.8  0.2    ⋯ 1.5  2.1         4.1        26.5        1191958 \n",
       "1869 17.4  0.2    ⋯ 5.8  1.5         2.4        42.6        1104930 \n",
       "     PrivateWork PublicWork SelfEmployed FamilyWork Unemployment\n",
       "205  79.0        11.5       9.4          0.2        10.0        \n",
       "611  83.9        11.5       4.5          0.1        10.7        \n",
       "2624 83.4        10.1       6.3          0.1         7.5        \n",
       "104  82.5        11.7       5.7          0.2         7.7        \n",
       "223  77.3        14.8       7.7          0.2         8.7        \n",
       "216  81.8        10.2       7.8          0.2         7.6        \n",
       "363  81.9        10.2       7.7          0.2        10.0        \n",
       "1852 79.1        14.4       6.5          0.1        10.0        \n",
       "2580 83.9         9.5       6.4          0.1         7.6        \n",
       "1869 79.9        13.6       6.4          0.1         8.6        "
      ]
     },
     "metadata": {},
     "output_type": "display_data"
    }
   ],
   "source": [
    "data2<-data[order(-data[,'TotalPop']),]\n",
    "head(data2,10)"
   ]
  },
  {
   "cell_type": "markdown",
   "metadata": {},
   "source": [
    "When we consider our data it's clear that a histogram would never have worked. In the same dataset we have Kalawao county Hawaii, population 85 and Los Angeles county California, population 10,038,388! The histogram was doomed from the start! The best we could do is four separate histograms, one for each 'tier' of county size. A sensible option is small (<10,000), medium (10,001-100,000), large (100,001-1,000,000) and huge (1,000,001+). This isn't ideal but it's the best histogram-based approach we can offer. First we break up our data into four:"
   ]
  },
  {
   "cell_type": "code",
   "execution_count": 86,
   "metadata": {},
   "outputs": [],
   "source": [
    "dataS<-data[data[,'TotalPop']<10000,]\n",
    "dataM<-data[data[,'TotalPop']>10000&data[,'TotalPop']<100001,]\n",
    "dataL<-data[data[,'TotalPop']>100000&data[,'TotalPop']<1000000,]\n",
    "dataH<-data[data[,'TotalPop']>1000000,]"
   ]
  },
  {
   "cell_type": "markdown",
   "metadata": {},
   "source": [
    "Then we graph all four using (colours are available at http://www.stat.columbia.edu/~tzheng/files/Rcolor.pdf):"
   ]
  },
  {
   "cell_type": "code",
   "execution_count": 87,
   "metadata": {},
   "outputs": [
    {
     "data": {
      "image/png": "[encoded data removed]",
      "text/plain": [
       "Plot with title “Huge Counties”"
      ]
     },
     "metadata": {},
     "output_type": "display_data"
    }
   ],
   "source": [
    "options(repr.plot.width=8, repr.plot.height=8)\n",
    "par(mfrow=c(4,1))\n",
    "hist(dataS[,'TotalPop'],col='steelblue',main='Small Counties',xlab='Size')\n",
    "hist(dataM[,'TotalPop'],col='darkred',main='Medium Counties',xlab='Size')\n",
    "hist(dataL[,'TotalPop'],col='aquamarine4',main='Large Counties',xlab='Size')\n",
    "hist(dataH[,'TotalPop'],col='burlywood3',main='Huge Counties',xlab='Size')\n",
    "\n"
   ]
  },
  {
   "cell_type": "markdown",
   "metadata": {},
   "source": [
    "This gives us a bit of a better sense of our breakdown in country sizes. What's more our plots are starting not to look too shabby. A few cosmetic changes as well as a better understanding of our data really helped. We can do better though, and that's where `ggplot2` comes in. As expected we load `ggplot2` first:"
   ]
  },
  {
   "cell_type": "code",
   "execution_count": 88,
   "metadata": {},
   "outputs": [],
   "source": [
    "library('ggplot2')"
   ]
  },
  {
   "cell_type": "markdown",
   "metadata": {},
   "source": [
    "Then we "
   ]
  },
  {
   "cell_type": "code",
   "execution_count": 89,
   "metadata": {},
   "outputs": [
    {
     "data": {
      "image/png": "[encoded data removed]",
      "text/plain": [
       "plot without title"
      ]
     },
     "metadata": {},
     "output_type": "display_data"
    }
   ],
   "source": [
    "options(repr.plot.width=5, repr.plot.height=5)\n",
    "ggplot(dataS, aes(x=TotalPop)) + geom_histogram(binwidth=500)"
   ]
  },
  {
   "cell_type": "markdown",
   "metadata": {},
   "source": [
    "Wait but this seems uglier... Yes it does, but it won't stay that way. `ggplot2` gives us loads of options. Let's start by changing the colour:"
   ]
  },
  {
   "cell_type": "code",
   "execution_count": 90,
   "metadata": {},
   "outputs": [
    {
     "data": {
      "image/png": "[encoded data removed]",
      "text/plain": [
       "plot without title"
      ]
     },
     "metadata": {},
     "output_type": "display_data"
    }
   ],
   "source": [
    "ggplot(dataS, aes(x=TotalPop)) + geom_histogram(binwidth=500,colour='white',fill='salmon')"
   ]
  },
  {
   "cell_type": "markdown",
   "metadata": {},
   "source": [
    "If we wish we could improve the quality we can, but only on saving images. We don't need to worry about that just yet.\n",
    "\n",
    "Instead let's try and repeat our graphs from before (note we will see next week how a `for loop` would be quite handy here):"
   ]
  },
  {
   "cell_type": "code",
   "execution_count": 97,
   "metadata": {},
   "outputs": [
    {
     "data": {
      "image/png": "[encoded data removed]",
      "text/plain": [
       "plot without title"
      ]
     },
     "metadata": {},
     "output_type": "display_data"
    },
    {
     "data": {
      "image/png": "[encoded data removed]",
      "text/plain": [
       "plot without title"
      ]
     },
     "metadata": {},
     "output_type": "display_data"
    },
    {
     "data": {
      "image/png": "[encoded data removed]",
      "text/plain": [
       "plot without title"
      ]
     },
     "metadata": {},
     "output_type": "display_data"
    },
    {
     "data": {
      "image/png": "[encoded data removed]",
      "text/plain": [
       "plot without title"
      ]
     },
     "metadata": {},
     "output_type": "display_data"
    }
   ],
   "source": [
    "options(repr.plot.width=8, repr.plot.height=2)\n",
    "par(mfrow=c(4,1))\n",
    "ggplot(dataS,aes(x=TotalPop))+geom_histogram(binwidth=500,colour='white',fill='darkorchid4')+labs(x='Size',y='Frequency')+ggtitle('Small Counties')\n",
    "ggplot(dataM,aes(x=TotalPop))+geom_histogram(binwidth=5000,colour='white',fill='deepskyblue3')+labs(x='Size',y='Frequency')+ggtitle('Medium Counties')\n",
    "ggplot(dataL,aes(x=TotalPop))+geom_histogram(binwidth=50000,colour='white',fill='orangered')+labs(x='Size',y='Frequency')+ggtitle('Large Counties')\n",
    "ggplot(dataH,aes(x=TotalPop))+geom_histogram(binwidth=500000,colour='white',fill='chartreuse')+labs(x='Size',y='Frequency')+ggtitle('Huge Counties')\n"
   ]
  },
  {
   "cell_type": "markdown",
   "metadata": {},
   "source": [
    "Waaay better. We've officially left 1998! There's lots more we can do with graphing and ggplot but we'll see most of this as we work our way through the course. Right now what's essential is that you can repeat everything we've seen so far and you're ready to start applying some of this knowledge to statistics next week in Statistics I. See you there!"
   ]
  }
 ],
 "metadata": {
  "kernelspec": {
   "display_name": "R",
   "language": "R",
   "name": "ir"
  },
  "language_info": {
   "codemirror_mode": "r",
   "file_extension": ".r",
   "mimetype": "text/x-r-source",
   "name": "R",
   "pygments_lexer": "r",
   "version": "3.6.1"
  }
 },
 "nbformat": 4,
 "nbformat_minor": 2
}
